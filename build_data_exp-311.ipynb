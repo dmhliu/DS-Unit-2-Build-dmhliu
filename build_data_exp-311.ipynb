{
 "cells": [
  {
   "cell_type": "markdown",
   "metadata": {},
   "source": [
    "#NEED TO SAMPLE THE FILE TO DEVELOP \n",
    "awk 'BEGIN {srand()} !/^$/ { if (rand() <= .01 || FNR==1) print $0}' filename\n"
   ]
  },
  {
   "cell_type": "code",
   "execution_count": 162,
   "metadata": {},
   "outputs": [
    {
     "output_type": "stream",
     "name": "stdout",
     "text": "/home/dliu/lambda/unit-2/DS-Unit-2-Build-dmhliu\n"
    }
   ],
   "source": [
    "!pwd"
   ]
  },
  {
   "cell_type": "code",
   "execution_count": 282,
   "metadata": {},
   "outputs": [],
   "source": [
    "import pandas as pd\n",
    "import numpy as np\n",
    "import math \n"
   ]
  },
  {
   "cell_type": "code",
   "execution_count": 283,
   "metadata": {
    "tags": [
     "outputPrepend",
     "outputPrepend",
     "outputPrepend",
     "outputPrepend"
    ]
   },
   "outputs": [
    {
     "output_type": "stream",
     "name": "stderr",
     "text": "e 30657: ',' expected after '\"'\nSkipping line 30660: ',' expected after '\"'\nSkipping line 30683: ',' expected after '\"'\nSkipping line 30689: ',' expected after '\"'\nSkipping line 30697: ',' expected after '\"'\nSkipping line 30725: ',' expected after '\"'\nSkipping line 30748: ',' expected after '\"'\nSkipping line 30749: ',' expected after '\"'\nSkipping line 30758: ',' expected after '\"'\nSkipping line 30765: ',' expected after '\"'\nSkipping line 30783: ',' expected after '\"'\nSkipping line 30805: ',' expected after '\"'\nSkipping line 30879: ',' expected after '\"'\nSkipping line 30895: ',' expected after '\"'\nSkipping line 30900: ',' expected after '\"'\nSkipping line 30919: ',' expected after '\"'\nSkipping line 30924: ',' expected after '\"'\nSkipping line 30939: ',' expected after '\"'\nSkipping line 30995: ',' expected after '\"'\nSkipping line 31030: ',' expected after '\"'\nSkipping line 31039: ',' expected after '\"'\nSkipping line 31044: ',' expected after '\"'\nSkipping line 31045: ',' expected after '\"'\nSkipping line 31068: ',' expected after '\"'\nSkipping line 31080: ',' expected after '\"'\nSkipping line 31092: ',' expected after '\"'\nSkipping line 31122: ',' expected after '\"'\nSkipping line 31124: ',' expected after '\"'\nSkipping line 31125: ',' expected after '\"'\nSkipping line 31133: ',' expected after '\"'\nSkipping line 31136: ',' expected after '\"'\nSkipping line 31139: ',' expected after '\"'\nSkipping line 31144: ',' expected after '\"'\nSkipping line 31146: ',' expected after '\"'\nSkipping line 31150: ',' expected after '\"'\nSkipping line 31167: ',' expected after '\"'\nSkipping line 31176: ',' expected after '\"'\nSkipping line 31190: ',' expected after '\"'\nSkipping line 31206: ',' expected after '\"'\nSkipping line 31216: ',' expected after '\"'\nSkipping line 31230: ',' expected after '\"'\nSkipping line 31239: ',' expected after '\"'\nSkipping line 31251: ',' expected after '\"'\nSkipping line 31260: ',' expected after '\"'\nSkipping line 31267: ',' expected after '\"'\nSkipping line 31271: ',' expected after '\"'\nSkipping line 31325: ',' expected after '\"'\nSkipping line 31366: ',' expected after '\"'\nSkipping line 31403: ',' expected after '\"'\nSkipping line 31413: ',' expected after '\"'\nSkipping line 31415: ',' expected after '\"'\nSkipping line 31422: ',' expected after '\"'\nSkipping line 31458: ',' expected after '\"'\nSkipping line 31482: ',' expected after '\"'\nSkipping line 31527: ',' expected after '\"'\nSkipping line 31530: ',' expected after '\"'\nSkipping line 31546: ',' expected after '\"'\nSkipping line 31559: ',' expected after '\"'\nSkipping line 31605: ',' expected after '\"'\nSkipping line 31614: ',' expected after '\"'\nSkipping line 31618: ',' expected after '\"'\nSkipping line 31622: ',' expected after '\"'\nSkipping line 31643: ',' expected after '\"'\nSkipping line 31647: ',' expected after '\"'\nSkipping line 31655: ',' expected after '\"'\nSkipping line 31668: ',' expected after '\"'\nSkipping line 31696: ',' expected after '\"'\nSkipping line 31697: ',' expected after '\"'\nSkipping line 31712: ',' expected after '\"'\nSkipping line 31714: ',' expected after '\"'\nSkipping line 31715: ',' expected after '\"'\nSkipping line 31724: ',' expected after '\"'\nSkipping line 31725: ',' expected after '\"'\nSkipping line 31738: ',' expected after '\"'\nSkipping line 31751: ',' expected after '\"'\nSkipping line 31766: ',' expected after '\"'\nSkipping line 31796: ',' expected after '\"'\nSkipping line 31803: ',' expected after '\"'\nSkipping line 31810: ',' expected after '\"'\nSkipping line 31821: ',' expected after '\"'\nSkipping line 31830: ',' expected after '\"'\nSkipping line 31844: ',' expected after '\"'\nSkipping line 31851: ',' expected after '\"'\nSkipping line 31860: ',' expected after '\"'\nSkipping line 31868: ',' expected after '\"'\nSkipping line 31869: ',' expected after '\"'\nSkipping line 31878: ',' expected after '\"'\nSkipping line 31903: ',' expected after '\"'\nSkipping line 31921: ',' expected after '\"'\nSkipping line 31934: ',' expected after '\"'\nSkipping line 31936: ',' expected after '\"'\nSkipping line 31937: ',' expected after '\"'\nSkipping line 31940: ',' expected after '\"'\nSkipping line 31944: ',' expected after '\"'\nSkipping line 31949: ',' expected after '\"'\nSkipping line 31950: ',' expected after '\"'\nSkipping line 31968: ',' expected after '\"'\nSkipping line 31983: ',' expected after '\"'\nSkipping line 31998: ',' expected after '\"'\nSkipping line 32018: ',' expected after '\"'\nSkipping line 32080: ',' expected after '\"'\nSkipping line 32097: ',' expected after '\"'\nSkipping line 32103: ',' expected after '\"'\nSkipping line 32120: ',' expected after '\"'\nSkipping line 32125: ',' expected after '\"'\nSkipping line 32127: ',' expected after '\"'\nSkipping line 32140: ',' expected after '\"'\nSkipping line 32173: ',' expected after '\"'\nSkipping line 32176: ',' expected after '\"'\nSkipping line 32182: ',' expected after '\"'\nSkipping line 32184: ',' expected after '\"'\nSkipping line 32211: ',' expected after '\"'\nSkipping line 32223: ',' expected after '\"'\nSkipping line 32236: ',' expected after '\"'\nSkipping line 32244: ',' expected after '\"'\nSkipping line 32249: ',' expected after '\"'\nSkipping line 32276: ',' expected after '\"'\nSkipping line 32283: ',' expected after '\"'\nSkipping line 32324: ',' expected after '\"'\nSkipping line 32328: ',' expected after '\"'\nSkipping line 32334: ',' expected after '\"'\nSkipping line 32346: ',' expected after '\"'\nSkipping line 32352: ',' expected after '\"'\nSkipping line 32365: ',' expected after '\"'\nSkipping line 32377: ',' expected after '\"'\nSkipping line 32402: ',' expected after '\"'\nSkipping line 32420: ',' expected after '\"'\nSkipping line 32436: ',' expected after '\"'\nSkipping line 32440: ',' expected after '\"'\nSkipping line 32441: ',' expected after '\"'\nSkipping line 32442: ',' expected after '\"'\nSkipping line 32489: ',' expected after '\"'\nSkipping line 32503: ',' expected after '\"'\nSkipping line 32534: ',' expected after '\"'\nSkipping line 32538: ',' expected after '\"'\nSkipping line 32540: ',' expected after '\"'\nSkipping line 32544: ',' expected after '\"'\nSkipping line 32559: ',' expected after '\"'\nSkipping line 32576: ',' expected after '\"'\nSkipping line 32577: ',' expected after '\"'\nSkipping line 32578: ',' expected after '\"'\nSkipping line 32583: ',' expected after '\"'\nSkipping line 32639: ',' expected after '\"'\nSkipping line 32710: ',' expected after '\"'\nSkipping line 32717: ',' expected after '\"'\nSkipping line 32722: ',' expected after '\"'\nSkipping line 32736: ',' expected after '\"'\nSkipping line 32744: ',' expected after '\"'\nSkipping line 32814: ',' expected after '\"'\nSkipping line 32815: ',' expected after '\"'\nSkipping line 32840: ',' expected after '\"'\nSkipping line 32845: ',' expected after '\"'\nSkipping line 32849: ',' expected after '\"'\nSkipping line 32891: ',' expected after '\"'\nSkipping line 32894: ',' expected after '\"'\nSkipping line 32920: ',' expected after '\"'\nSkipping line 33002: ',' expected after '\"'\nSkipping line 33036: ',' expected after '\"'\nSkipping line 33042: ',' expected after '\"'\nSkipping line 33101: ',' expected after '\"'\nSkipping line 33124: ',' expected after '\"'\nSkipping line 33125: ',' expected after '\"'\nSkipping line 33130: ',' expected after '\"'\nSkipping line 33131: ',' expected after '\"'\nSkipping line 33147: ',' expected after '\"'\nSkipping line 33157: ',' expected after '\"'\nSkipping line 33246: ',' expected after '\"'\nSkipping line 33254: ',' expected after '\"'\nSkipping line 33268: ',' expected after '\"'\nSkipping line 33286: ',' expected after '\"'\nSkipping line 33288: ',' expected after '\"'\nSkipping line 33312: ',' expected after '\"'\nSkipping line 33373: ',' expected after '\"'\nSkipping line 33400: ',' expected after '\"'\nSkipping line 33411: ',' expected after '\"'\nSkipping line 33417: ',' expected after '\"'\nSkipping line 33420: ',' expected after '\"'\nSkipping line 33442: ',' expected after '\"'\nSkipping line 33452: ',' expected after '\"'\nSkipping line 33457: ',' expected after '\"'\nSkipping line 33459: ',' expected after '\"'\nSkipping line 33460: ',' expected after '\"'\nSkipping line 33477: ',' expected after '\"'\nSkipping line 33491: ',' expected after '\"'\nSkipping line 33536: ',' expected after '\"'\nSkipping line 33680: ',' expected after '\"'\nSkipping line 33695: ',' expected after '\"'\nSkipping line 33721: ',' expected after '\"'\nSkipping line 33723: ',' expected after '\"'\nSkipping line 33733: ',' expected after '\"'\nSkipping line 33745: ',' expected after '\"'\nSkipping line 33746: ',' expected after '\"'\nSkipping line 33775: ',' expected after '\"'\nSkipping line 33798: ',' expected after '\"'\nSkipping line 33839: ',' expected after '\"'\nSkipping line 33849: ',' expected after '\"'\nSkipping line 33850: ',' expected after '\"'\nSkipping line 33856: ',' expected after '\"'\nSkipping line 33865: ',' expected after '\"'\nSkipping line 33884: ',' expected after '\"'\nSkipping line 33899: ',' expected after '\"'\nSkipping line 33909: ',' expected after '\"'\nSkipping line 33967: ',' expected after '\"'\nSkipping line 33972: ',' expected after '\"'\nSkipping line 33974: ',' expected after '\"'\nSkipping line 33982: ',' expected after '\"'\nSkipping line 34011: ',' expected after '\"'\nSkipping line 34031: ',' expected after '\"'\nSkipping line 34062: ',' expected after '\"'\nSkipping line 34109: ',' expected after '\"'\nSkipping line 34131: ',' expected after '\"'\nSkipping line 34139: ',' expected after '\"'\nSkipping line 34155: ',' expected after '\"'\nSkipping line 34166: ',' expected after '\"'\nSkipping line 34173: ',' expected after '\"'\nSkipping line 34213: ',' expected after '\"'\nSkipping line 34232: ',' expected after '\"'\nSkipping line 34235: ',' expected after '\"'\nSkipping line 34284: ',' expected after '\"'\nSkipping line 34308: ',' expected after '\"'\nSkipping line 34317: ',' expected after '\"'\nSkipping line 34331: ',' expected after '\"'\nSkipping line 34346: ',' expected after '\"'\nSkipping line 34353: ',' expected after '\"'\nSkipping line 34363: ',' expected after '\"'\nSkipping line 34371: ',' expected after '\"'\nSkipping line 34376: ',' expected after '\"'\nSkipping line 34405: ',' expected after '\"'\nSkipping line 34407: ',' expected after '\"'\nSkipping line 34420: ',' expected after '\"'\nSkipping line 34436: ',' expected after '\"'\nSkipping line 34465: ',' expected after '\"'\nSkipping line 34507: ',' expected after '\"'\nSkipping line 34540: ',' expected after '\"'\nSkipping line 34548: ',' expected after '\"'\nSkipping line 34589: ',' expected after '\"'\nSkipping line 34620: ',' expected after '\"'\nSkipping line 34629: ',' expected after '\"'\nSkipping line 34652: ',' expected after '\"'\nSkipping line 34670: ',' expected after '\"'\nSkipping line 34702: ',' expected after '\"'\nSkipping line 34733: ',' expected after '\"'\nSkipping line 34771: ',' expected after '\"'\nSkipping line 34775: ',' expected after '\"'\nSkipping line 34790: ',' expected after '\"'\nSkipping line 34809: ',' expected after '\"'\nSkipping line 34846: ',' expected after '\"'\nSkipping line 34847: ',' expected after '\"'\nSkipping line 34850: ',' expected after '\"'\nSkipping line 34869: ',' expected after '\"'\nSkipping line 34874: ',' expected after '\"'\nSkipping line 34919: ',' expected after '\"'\nSkipping line 34943: ',' expected after '\"'\nSkipping line 34954: ',' expected after '\"'\nSkipping line 34975: ',' expected after '\"'\nSkipping line 34978: ',' expected after '\"'\nSkipping line 34981: ',' expected after '\"'\nSkipping line 35016: ',' expected after '\"'\nSkipping line 35044: ',' expected after '\"'\nSkipping line 35070: ',' expected after '\"'\nSkipping line 35165: ',' expected after '\"'\nSkipping line 35183: ',' expected after '\"'\nSkipping line 35202: ',' expected after '\"'\nSkipping line 35216: ',' expected after '\"'\nSkipping line 35220: ',' expected after '\"'\nSkipping line 35226: ',' expected after '\"'\nSkipping line 35250: ',' expected after '\"'\nSkipping line 35251: ',' expected after '\"'\nSkipping line 35263: ',' expected after '\"'\nSkipping line 35276: ',' expected after '\"'\nSkipping line 35302: ',' expected after '\"'\nSkipping line 35306: ',' expected after '\"'\nSkipping line 35318: ',' expected after '\"'\nSkipping line 35347: ',' expected after '\"'\nSkipping line 35362: ',' expected after '\"'\nSkipping line 35394: ',' expected after '\"'\nSkipping line 35399: ',' expected after '\"'\nSkipping line 35421: ',' expected after '\"'\nSkipping line 35440: ',' expected after '\"'\nSkipping line 35590: ',' expected after '\"'\nSkipping line 35625: ',' expected after '\"'\nSkipping line 35653: ',' expected after '\"'\nSkipping line 35654: ',' expected after '\"'\nSkipping line 35705: ',' expected after '\"'\nSkipping line 35739: ',' expected after '\"'\nSkipping line 35783: ',' expected after '\"'\nSkipping line 35829: ',' expected after '\"'\nSkipping line 35832: ',' expected after '\"'\nSkipping line 35854: ',' expected after '\"'\nSkipping line 35872: ',' expected after '\"'\nSkipping line 35897: ',' expected after '\"'\nSkipping line 35917: ',' expected after '\"'\nSkipping line 35995: ',' expected after '\"'\nSkipping line 36055: ',' expected after '\"'\nSkipping line 36057: ',' expected after '\"'\nSkipping line 36069: ',' expected after '\"'\nSkipping line 36074: ',' expected after '\"'\nSkipping line 36078: ',' expected after '\"'\nSkipping line 36080: ',' expected after '\"'\nSkipping line 36082: ',' expected after '\"'\nSkipping line 36122: ',' expected after '\"'\nSkipping line 36129: ',' expected after '\"'\nSkipping line 36133: ',' expected after '\"'\nSkipping line 36180: ',' expected after '\"'\nSkipping line 36187: ',' expected after '\"'\nSkipping line 36235: ',' expected after '\"'\nSkipping line 36236: ',' expected after '\"'\nSkipping line 36244: ',' expected after '\"'\nSkipping line 36254: ',' expected after '\"'\nSkipping line 36264: ',' expected after '\"'\nSkipping line 36266: ',' expected after '\"'\nSkipping line 36270: ',' expected after '\"'\nSkipping line 36286: ',' expected after '\"'\nSkipping line 36292: ',' expected after '\"'\nSkipping line 36293: ',' expected after '\"'\nSkipping line 36312: ',' expected after '\"'\nSkipping line 36605: ',' expected after '\"'\nSkipping line 36780: ',' expected after '\"'\nSkipping line 36848: ',' expected after '\"'\nSkipping line 36913: ',' expected after '\"'\nSkipping line 36934: ',' expected after '\"'\nSkipping line 36959: ',' expected after '\"'\nSkipping line 37018: ',' expected after '\"'\nSkipping line 37108: ',' expected after '\"'\nSkipping line 37257: ',' expected after '\"'\nSkipping line 37325: ',' expected after '\"'\nSkipping line 37446: ',' expected after '\"'\nSkipping line 37470: ',' expected after '\"'\nSkipping line 37603: ',' expected after '\"'\nSkipping line 38135: ',' expected after '\"'\nSkipping line 38142: ',' expected after '\"'\nSkipping line 38190: ',' expected after '\"'\nSkipping line 38258: ',' expected after '\"'\nSkipping line 38327: ',' expected after '\"'\nSkipping line 38342: ',' expected after '\"'\nSkipping line 38347: ',' expected after '\"'\nSkipping line 38370: ',' expected after '\"'\nSkipping line 38371: ',' expected after '\"'\nSkipping line 38441: ',' expected after '\"'\nSkipping line 38544: ',' expected after '\"'\nSkipping line 38580: ',' expected after '\"'\nSkipping line 38584: ',' expected after '\"'\nSkipping line 38592: ',' expected after '\"'\nSkipping line 38628: ',' expected after '\"'\nSkipping line 38659: ',' expected after '\"'\nSkipping line 38735: ',' expected after '\"'\nSkipping line 38797: ',' expected after '\"'\nSkipping line 38849: ',' expected after '\"'\nSkipping line 38862: ',' expected after '\"'\nSkipping line 38913: ',' expected after '\"'\nSkipping line 38916: ',' expected after '\"'\nSkipping line 39013: ',' expected after '\"'\nSkipping line 39067: ',' expected after '\"'\nSkipping line 39081: ',' expected after '\"'\nSkipping line 39136: ',' expected after '\"'\nSkipping line 39143: ',' expected after '\"'\nSkipping line 39175: ',' expected after '\"'\nSkipping line 39249: ',' expected after '\"'\nSkipping line 39305: ',' expected after '\"'\nSkipping line 39343: ',' expected after '\"'\nSkipping line 39344: ',' expected after '\"'\nSkipping line 39369: ',' expected after '\"'\nSkipping line 39378: ',' expected after '\"'\nSkipping line 39699: ',' expected after '\"'\nSkipping line 39882: ',' expected after '\"'\nSkipping line 40055: ',' expected after '\"'\nSkipping line 40122: ',' expected after '\"'\nSkipping line 40158: ',' expected after '\"'\nSkipping line 40162: ',' expected after '\"'\nSkipping line 40166: ',' expected after '\"'\nSkipping line 40211: ',' expected after '\"'\nSkipping line 40229: ',' expected after '\"'\nSkipping line 40275: ',' expected after '\"'\nSkipping line 40399: ',' expected after '\"'\nSkipping line 40407: ',' expected after '\"'\nSkipping line 40490: ',' expected after '\"'\nSkipping line 40575: ',' expected after '\"'\nSkipping line 40592: ',' expected after '\"'\nSkipping line 40605: ',' expected after '\"'\nSkipping line 40627: ',' expected after '\"'\nSkipping line 40669: ',' expected after '\"'\nSkipping line 40691: ',' expected after '\"'\nSkipping line 40743: ',' expected after '\"'\nSkipping line 40750: ',' expected after '\"'\nSkipping line 40832: ',' expected after '\"'\nSkipping line 40904: ',' expected after '\"'\nSkipping line 40907: ',' expected after '\"'\nSkipping line 40929: ',' expected after '\"'\nSkipping line 40941: ',' expected after '\"'\nSkipping line 40999: ',' expected after '\"'\nSkipping line 41007: ',' expected after '\"'\nSkipping line 41024: ',' expected after '\"'\nSkipping line 41156: ',' expected after '\"'\nSkipping line 41164: ',' expected after '\"'\nSkipping line 41425: ',' expected after '\"'\nSkipping line 41447: ',' expected after '\"'\nSkipping line 41450: ',' expected after '\"'\nSkipping line 41542: ',' expected after '\"'\nSkipping line 41653: ',' expected after '\"'\nSkipping line 41746: ',' expected after '\"'\nSkipping line 41748: ',' expected after '\"'\nSkipping line 41810: ',' expected after '\"'\nSkipping line 41817: ',' expected after '\"'\nSkipping line 41818: ',' expected after '\"'\nSkipping line 41848: ',' expected after '\"'\nSkipping line 41884: ',' expected after '\"'\nSkipping line 41888: ',' expected after '\"'\nSkipping line 41923: ',' expected after '\"'\nSkipping line 41933: ',' expected after '\"'\nSkipping line 41950: ',' expected after '\"'\nSkipping line 41952: ',' expected after '\"'\nSkipping line 41957: ',' expected after '\"'\nSkipping line 41982: ',' expected after '\"'\nSkipping line 42002: ',' expected after '\"'\nSkipping line 42048: ',' expected after '\"'\nSkipping line 42075: ',' expected after '\"'\nSkipping line 42079: ',' expected after '\"'\nSkipping line 42109: ',' expected after '\"'\nSkipping line 42133: ',' expected after '\"'\nSkipping line 42137: ',' expected after '\"'\nSkipping line 42138: ',' expected after '\"'\nSkipping line 42147: ',' expected after '\"'\nSkipping line 42176: ',' expected after '\"'\nSkipping line 42177: ',' expected after '\"'\nSkipping line 42178: ',' expected after '\"'\nSkipping line 42198: ',' expected after '\"'\nSkipping line 42245: ',' expected after '\"'\nSkipping line 42248: ',' expected after '\"'\nSkipping line 42267: ',' expected after '\"'\nSkipping line 42295: ',' expected after '\"'\nSkipping line 42309: ',' expected after '\"'\nSkipping line 42340: ',' expected after '\"'\nSkipping line 42365: ',' expected after '\"'\nSkipping line 42373: ',' expected after '\"'\nSkipping line 42376: ',' expected after '\"'\nSkipping line 42395: ',' expected after '\"'\nSkipping line 42428: ',' expected after '\"'\nSkipping line 42462: ',' expected after '\"'\nSkipping line 42479: ',' expected after '\"'\nSkipping line 42496: ',' expected after '\"'\nSkipping line 42563: ',' expected after '\"'\nSkipping line 42587: ',' expected after '\"'\nSkipping line 42598: ',' expected after '\"'\nSkipping line 42619: ',' expected after '\"'\nSkipping line 42625: ',' expected after '\"'\nSkipping line 42662: ',' expected after '\"'\nSkipping line 42767: ',' expected after '\"'\nSkipping line 42776: ',' expected after '\"'\nSkipping line 42836: ',' expected after '\"'\nSkipping line 42852: ',' expected after '\"'\nSkipping line 42888: ',' expected after '\"'\nSkipping line 42897: unexpected end of data\nSkipping line 32926: Expected 47 fields in line 32926, saw 51\nSkipping line 41499: Expected 47 fields in line 41499, saw 48\n"
    }
   ],
   "source": [
    "df = pd.read_csv('reduced1.csv', header=0, error_bad_lines=False, engine=\"python\")\n",
    "dforig = pd.read_csv('311_Cases.csv', header= 0, nrows=30)"
   ]
  },
  {
   "cell_type": "code",
   "execution_count": 284,
   "metadata": {},
   "outputs": [
    {
     "output_type": "execute_result",
     "data": {
      "text/plain": "         CaseID                  Opened                  Closed  \\\n0        570729  12/29/2009 06:31:54 AM  12/30/2009 10:11:25 AM   \n1        570341  12/28/2009 01:31:53 PM  12/30/2009 11:16:26 AM   \n2        570337  12/28/2009 01:29:47 PM  12/30/2009 11:09:34 AM   \n3        570026  12/28/2009 08:45:41 AM  12/30/2009 06:16:37 AM   \n4        570009  12/28/2009 08:33:03 AM  12/29/2009 11:16:38 AM   \n...         ...                     ...                     ...   \n41679  11428789  09/17/2019 02:24:05 PM  09/17/2019 03:28:47 PM   \n41680  11450562  09/22/2019 02:18:00 PM  09/22/2019 05:38:48 PM   \n41681  11425262  09/16/2019 08:03:42 PM  09/17/2019 05:13:02 PM   \n41682  11415892  09/14/2019 02:03:00 PM  09/14/2019 05:27:34 PM   \n41683  11430206  09/17/2019 07:08:56 PM  10/18/2019 08:10:01 AM   \n\n                      Updated  Status  \\\n0      12/30/2009 10:11:25 AM  Closed   \n1      12/30/2009 11:16:26 AM  Closed   \n2      12/30/2009 11:09:34 AM  Closed   \n3      12/30/2009 06:16:37 AM  Closed   \n4      12/29/2009 11:16:38 AM  Closed   \n...                       ...     ...   \n41679  09/17/2019 03:28:47 PM  Closed   \n41680  09/22/2019 05:38:48 PM  Closed   \n41681  09/17/2019 05:13:02 PM  Closed   \n41682  09/14/2019 05:27:34 PM  Closed   \n41683  10/18/2019 08:10:01 AM  Closed   \n\n                                            Status Notes  \\\n0                          Case Transferred - PSR 353925   \n1                            Case Transferred - # 353946   \n2                            Case Transferred - # 353942   \n3                         See Notes tab for more details   \n4                         See Notes tab for more details   \n...                                                  ...   \n41679                  Case Resolved - Pickup completed.   \n41680  Case Resolved - Officer responded to request u...   \n41681                  Case Resolved - Pickup completed.   \n41682                  Case Resolved - Pickup completed.   \n41683  Case Resolved - The sign shop has indicated th...   \n\n                       Responsible Agency                      Category  \\\n0                         MUNI Work Queue                 MUNI Feedback   \n1                         MUNI Work Queue                 MUNI Feedback   \n2                         MUNI Work Queue                 MUNI Feedback   \n3                           DPW Ops Queue  Street and Sidewalk Cleaning   \n4                           DPW Ops Queue  Street and Sidewalk Cleaning   \n...                                   ...                           ...   \n41679                  Recology_Abandoned  Street and Sidewalk Cleaning   \n41680  Parking Enforcement Dispatch Queue           Parking Enforcement   \n41681                  Recology_Abandoned  Street and Sidewalk Cleaning   \n41682                  Recology_Abandoned  Street and Sidewalk Cleaning   \n41683                  DPT SignShop Queue                   Sign Repair   \n\n                                            Request Type  \\\n0            MUNI - Services_Service_Delivery_Facilities   \n1              MUNI - Conduct_Inattentiveness_Negligence   \n2      MUNI - Conduct_Discourteous_Insensitive_Inappr...   \n3                                       General Cleaning   \n4                                            Bulky Items   \n...                                                  ...   \n41679                                        Bulky Items   \n41680                        Blocking_Driveway_Cite_Only   \n41681                                        Bulky Items   \n41682                                        Bulky Items   \n41683                                     Sign - Defaced   \n\n                                  Request Details  ... DELETE - HSOC Zones  \\\n0                          604_Vehicle_Appearance  ...                 NaN   \n1         201_Pass_Up_Did_Not_Wait_for_Transferee  ...                 NaN   \n2                     301_Discourtesy_to_Customer  ...                 NaN   \n3                             Other Loose Garbage  ...                 1.0   \n4                                     Electronics  ...                 NaN   \n...                                           ...  ...                 ...   \n41679                                   Furniture  ...                 NaN   \n41680                        White - ???? - ?????  ...                 NaN   \n41681                                   Furniture  ...                 NaN   \n41682                                   Furniture  ...                 NaN   \n41683  Other_Parking_Type - Defaced; support - OK  ...                 NaN   \n\n      Fix It Zones as of 2018-02-07 CBD, BID and GBD Boundaries as of 2017  \\\n0                               NaN                                    NaN   \n1                               NaN                                    NaN   \n2                               NaN                                    NaN   \n3                               6.0                                    NaN   \n4                               NaN                                    NaN   \n...                             ...                                    ...   \n41679                           NaN                                    NaN   \n41680                           NaN                                    NaN   \n41681                           NaN                                    NaN   \n41682                           NaN                                    NaN   \n41683                           NaN                                    NaN   \n\n      Central Market/Tenderloin Boundary Areas of Vulnerability, 2016  \\\n0                                    NaN                          NaN   \n1                                    NaN                          NaN   \n2                                    NaN                          NaN   \n3                                    NaN                          2.0   \n4                                    NaN                          1.0   \n...                                  ...                          ...   \n41679                                NaN                          1.0   \n41680                                NaN                          1.0   \n41681                                NaN                          1.0   \n41682                                NaN                          1.0   \n41683                                NaN                          1.0   \n\n      Central Market/Tenderloin Boundary Polygon - Updated  \\\n0                                                    NaN     \n1                                                    NaN     \n2                                                    NaN     \n3                                                    NaN     \n4                                                    NaN     \n...                                                  ...     \n41679                                                NaN     \n41680                                                NaN     \n41681                                                NaN     \n41682                                                NaN     \n41683                                                NaN     \n\n      HSOC Zones as of 2018-06-05 OWED Public Spaces  \\\n0                             NaN                NaN   \n1                             NaN                NaN   \n2                             NaN                NaN   \n3                             1.0                NaN   \n4                             NaN                NaN   \n...                           ...                ...   \n41679                         NaN                NaN   \n41680                         NaN                NaN   \n41681                         NaN                NaN   \n41682                         NaN                NaN   \n41683                         NaN                NaN   \n\n      Parks Alliance CPSI (27+TL sites) Neighborhoods  \n0                                   NaN           NaN  \n1                                   NaN           NaN  \n2                                   NaN           NaN  \n3                                   NaN          32.0  \n4                                   NaN          26.0  \n...                                 ...           ...  \n41679                               NaN          86.0  \n41680                               NaN          23.0  \n41681                               NaN           5.0  \n41682                               NaN          28.0  \n41683                               NaN           8.0  \n\n[41684 rows x 47 columns]",
      "text/html": "<div>\n<style scoped>\n    .dataframe tbody tr th:only-of-type {\n        vertical-align: middle;\n    }\n\n    .dataframe tbody tr th {\n        vertical-align: top;\n    }\n\n    .dataframe thead th {\n        text-align: right;\n    }\n</style>\n<table border=\"1\" class=\"dataframe\">\n  <thead>\n    <tr style=\"text-align: right;\">\n      <th></th>\n      <th>CaseID</th>\n      <th>Opened</th>\n      <th>Closed</th>\n      <th>Updated</th>\n      <th>Status</th>\n      <th>Status Notes</th>\n      <th>Responsible Agency</th>\n      <th>Category</th>\n      <th>Request Type</th>\n      <th>Request Details</th>\n      <th>...</th>\n      <th>DELETE - HSOC Zones</th>\n      <th>Fix It Zones as of 2018-02-07</th>\n      <th>CBD, BID and GBD Boundaries as of 2017</th>\n      <th>Central Market/Tenderloin Boundary</th>\n      <th>Areas of Vulnerability, 2016</th>\n      <th>Central Market/Tenderloin Boundary Polygon - Updated</th>\n      <th>HSOC Zones as of 2018-06-05</th>\n      <th>OWED Public Spaces</th>\n      <th>Parks Alliance CPSI (27+TL sites)</th>\n      <th>Neighborhoods</th>\n    </tr>\n  </thead>\n  <tbody>\n    <tr>\n      <th>0</th>\n      <td>570729</td>\n      <td>12/29/2009 06:31:54 AM</td>\n      <td>12/30/2009 10:11:25 AM</td>\n      <td>12/30/2009 10:11:25 AM</td>\n      <td>Closed</td>\n      <td>Case Transferred - PSR 353925</td>\n      <td>MUNI Work Queue</td>\n      <td>MUNI Feedback</td>\n      <td>MUNI - Services_Service_Delivery_Facilities</td>\n      <td>604_Vehicle_Appearance</td>\n      <td>...</td>\n      <td>NaN</td>\n      <td>NaN</td>\n      <td>NaN</td>\n      <td>NaN</td>\n      <td>NaN</td>\n      <td>NaN</td>\n      <td>NaN</td>\n      <td>NaN</td>\n      <td>NaN</td>\n      <td>NaN</td>\n    </tr>\n    <tr>\n      <th>1</th>\n      <td>570341</td>\n      <td>12/28/2009 01:31:53 PM</td>\n      <td>12/30/2009 11:16:26 AM</td>\n      <td>12/30/2009 11:16:26 AM</td>\n      <td>Closed</td>\n      <td>Case Transferred - # 353946</td>\n      <td>MUNI Work Queue</td>\n      <td>MUNI Feedback</td>\n      <td>MUNI - Conduct_Inattentiveness_Negligence</td>\n      <td>201_Pass_Up_Did_Not_Wait_for_Transferee</td>\n      <td>...</td>\n      <td>NaN</td>\n      <td>NaN</td>\n      <td>NaN</td>\n      <td>NaN</td>\n      <td>NaN</td>\n      <td>NaN</td>\n      <td>NaN</td>\n      <td>NaN</td>\n      <td>NaN</td>\n      <td>NaN</td>\n    </tr>\n    <tr>\n      <th>2</th>\n      <td>570337</td>\n      <td>12/28/2009 01:29:47 PM</td>\n      <td>12/30/2009 11:09:34 AM</td>\n      <td>12/30/2009 11:09:34 AM</td>\n      <td>Closed</td>\n      <td>Case Transferred - # 353942</td>\n      <td>MUNI Work Queue</td>\n      <td>MUNI Feedback</td>\n      <td>MUNI - Conduct_Discourteous_Insensitive_Inappr...</td>\n      <td>301_Discourtesy_to_Customer</td>\n      <td>...</td>\n      <td>NaN</td>\n      <td>NaN</td>\n      <td>NaN</td>\n      <td>NaN</td>\n      <td>NaN</td>\n      <td>NaN</td>\n      <td>NaN</td>\n      <td>NaN</td>\n      <td>NaN</td>\n      <td>NaN</td>\n    </tr>\n    <tr>\n      <th>3</th>\n      <td>570026</td>\n      <td>12/28/2009 08:45:41 AM</td>\n      <td>12/30/2009 06:16:37 AM</td>\n      <td>12/30/2009 06:16:37 AM</td>\n      <td>Closed</td>\n      <td>See Notes tab for more details</td>\n      <td>DPW Ops Queue</td>\n      <td>Street and Sidewalk Cleaning</td>\n      <td>General Cleaning</td>\n      <td>Other Loose Garbage</td>\n      <td>...</td>\n      <td>1.0</td>\n      <td>6.0</td>\n      <td>NaN</td>\n      <td>NaN</td>\n      <td>2.0</td>\n      <td>NaN</td>\n      <td>1.0</td>\n      <td>NaN</td>\n      <td>NaN</td>\n      <td>32.0</td>\n    </tr>\n    <tr>\n      <th>4</th>\n      <td>570009</td>\n      <td>12/28/2009 08:33:03 AM</td>\n      <td>12/29/2009 11:16:38 AM</td>\n      <td>12/29/2009 11:16:38 AM</td>\n      <td>Closed</td>\n      <td>See Notes tab for more details</td>\n      <td>DPW Ops Queue</td>\n      <td>Street and Sidewalk Cleaning</td>\n      <td>Bulky Items</td>\n      <td>Electronics</td>\n      <td>...</td>\n      <td>NaN</td>\n      <td>NaN</td>\n      <td>NaN</td>\n      <td>NaN</td>\n      <td>1.0</td>\n      <td>NaN</td>\n      <td>NaN</td>\n      <td>NaN</td>\n      <td>NaN</td>\n      <td>26.0</td>\n    </tr>\n    <tr>\n      <th>...</th>\n      <td>...</td>\n      <td>...</td>\n      <td>...</td>\n      <td>...</td>\n      <td>...</td>\n      <td>...</td>\n      <td>...</td>\n      <td>...</td>\n      <td>...</td>\n      <td>...</td>\n      <td>...</td>\n      <td>...</td>\n      <td>...</td>\n      <td>...</td>\n      <td>...</td>\n      <td>...</td>\n      <td>...</td>\n      <td>...</td>\n      <td>...</td>\n      <td>...</td>\n      <td>...</td>\n    </tr>\n    <tr>\n      <th>41679</th>\n      <td>11428789</td>\n      <td>09/17/2019 02:24:05 PM</td>\n      <td>09/17/2019 03:28:47 PM</td>\n      <td>09/17/2019 03:28:47 PM</td>\n      <td>Closed</td>\n      <td>Case Resolved - Pickup completed.</td>\n      <td>Recology_Abandoned</td>\n      <td>Street and Sidewalk Cleaning</td>\n      <td>Bulky Items</td>\n      <td>Furniture</td>\n      <td>...</td>\n      <td>NaN</td>\n      <td>NaN</td>\n      <td>NaN</td>\n      <td>NaN</td>\n      <td>1.0</td>\n      <td>NaN</td>\n      <td>NaN</td>\n      <td>NaN</td>\n      <td>NaN</td>\n      <td>86.0</td>\n    </tr>\n    <tr>\n      <th>41680</th>\n      <td>11450562</td>\n      <td>09/22/2019 02:18:00 PM</td>\n      <td>09/22/2019 05:38:48 PM</td>\n      <td>09/22/2019 05:38:48 PM</td>\n      <td>Closed</td>\n      <td>Case Resolved - Officer responded to request u...</td>\n      <td>Parking Enforcement Dispatch Queue</td>\n      <td>Parking Enforcement</td>\n      <td>Blocking_Driveway_Cite_Only</td>\n      <td>White - ???? - ?????</td>\n      <td>...</td>\n      <td>NaN</td>\n      <td>NaN</td>\n      <td>NaN</td>\n      <td>NaN</td>\n      <td>1.0</td>\n      <td>NaN</td>\n      <td>NaN</td>\n      <td>NaN</td>\n      <td>NaN</td>\n      <td>23.0</td>\n    </tr>\n    <tr>\n      <th>41681</th>\n      <td>11425262</td>\n      <td>09/16/2019 08:03:42 PM</td>\n      <td>09/17/2019 05:13:02 PM</td>\n      <td>09/17/2019 05:13:02 PM</td>\n      <td>Closed</td>\n      <td>Case Resolved - Pickup completed.</td>\n      <td>Recology_Abandoned</td>\n      <td>Street and Sidewalk Cleaning</td>\n      <td>Bulky Items</td>\n      <td>Furniture</td>\n      <td>...</td>\n      <td>NaN</td>\n      <td>NaN</td>\n      <td>NaN</td>\n      <td>NaN</td>\n      <td>1.0</td>\n      <td>NaN</td>\n      <td>NaN</td>\n      <td>NaN</td>\n      <td>NaN</td>\n      <td>5.0</td>\n    </tr>\n    <tr>\n      <th>41682</th>\n      <td>11415892</td>\n      <td>09/14/2019 02:03:00 PM</td>\n      <td>09/14/2019 05:27:34 PM</td>\n      <td>09/14/2019 05:27:34 PM</td>\n      <td>Closed</td>\n      <td>Case Resolved - Pickup completed.</td>\n      <td>Recology_Abandoned</td>\n      <td>Street and Sidewalk Cleaning</td>\n      <td>Bulky Items</td>\n      <td>Furniture</td>\n      <td>...</td>\n      <td>NaN</td>\n      <td>NaN</td>\n      <td>NaN</td>\n      <td>NaN</td>\n      <td>1.0</td>\n      <td>NaN</td>\n      <td>NaN</td>\n      <td>NaN</td>\n      <td>NaN</td>\n      <td>28.0</td>\n    </tr>\n    <tr>\n      <th>41683</th>\n      <td>11430206</td>\n      <td>09/17/2019 07:08:56 PM</td>\n      <td>10/18/2019 08:10:01 AM</td>\n      <td>10/18/2019 08:10:01 AM</td>\n      <td>Closed</td>\n      <td>Case Resolved - The sign shop has indicated th...</td>\n      <td>DPT SignShop Queue</td>\n      <td>Sign Repair</td>\n      <td>Sign - Defaced</td>\n      <td>Other_Parking_Type - Defaced; support - OK</td>\n      <td>...</td>\n      <td>NaN</td>\n      <td>NaN</td>\n      <td>NaN</td>\n      <td>NaN</td>\n      <td>1.0</td>\n      <td>NaN</td>\n      <td>NaN</td>\n      <td>NaN</td>\n      <td>NaN</td>\n      <td>8.0</td>\n    </tr>\n  </tbody>\n</table>\n<p>41684 rows × 47 columns</p>\n</div>"
     },
     "metadata": {},
     "execution_count": 284
    }
   ],
   "source": [
    "dforig.columns == df.columns\n",
    "columns = df.columns\n",
    "str_cols = df.select_dtypes('object').columns\n",
    "df"
   ]
  },
  {
   "cell_type": "code",
   "execution_count": 285,
   "metadata": {},
   "outputs": [],
   "source": [
    "delete = [s for s in df.columns.values if 'DELETE - ' in s] \n",
    "delete\n",
    "boundary = [s for s in df.columns.values if 'Boundary' in s] "
   ]
  },
  {
   "cell_type": "code",
   "execution_count": 286,
   "metadata": {},
   "outputs": [
    {
     "output_type": "execute_result",
     "data": {
      "text/plain": "['DELETE - Supervisor Districts',\n 'DELETE - Fire Prevention Districts',\n 'DELETE - Current Police Districts',\n 'DELETE - Zip Codes',\n 'DELETE - Police Districts',\n 'DELETE - Neighborhoods',\n 'DELETE - Neighborhoods_from_fyvs_ahh9',\n 'DELETE - 2017 Fix It Zones',\n 'DELETE - SF Find Neighborhoods',\n 'DELETE - Current Supervisor Districts',\n 'DELETE - HSOC Zones']"
     },
     "metadata": {},
     "execution_count": 286
    }
   ],
   "source": [
    "\n",
    "delete"
   ]
  },
  {
   "cell_type": "code",
   "execution_count": 287,
   "metadata": {},
   "outputs": [
    {
     "output_type": "execute_result",
     "data": {
      "text/plain": "['Civic Center Harm Reduction Project Boundary',\n 'Central Market/Tenderloin Boundary',\n 'Central Market/Tenderloin Boundary Polygon - Updated',\n 'SF Find Neighborhoods',\n 'Current Police Districts',\n 'Current Supervisor Districts',\n 'Analysis Neighborhoods',\n 'DELETE - Supervisor Districts',\n 'DELETE - Fire Prevention Districts',\n 'DELETE - Current Police Districts',\n 'DELETE - Zip Codes',\n 'DELETE - Police Districts',\n 'DELETE - Neighborhoods',\n 'DELETE - Neighborhoods_from_fyvs_ahh9',\n 'DELETE - 2017 Fix It Zones',\n 'DELETE - SF Find Neighborhoods',\n 'Civic Center Harm Reduction Project Boundary',\n 'DELETE - Current Supervisor Districts',\n 'Fix It Zones as of 2017-11-06 ',\n 'Invest In Neighborhoods (IIN) Areas',\n 'DELETE - HSOC Zones',\n 'Fix It Zones as of 2018-02-07',\n 'CBD, BID and GBD Boundaries as of 2017',\n 'Central Market/Tenderloin Boundary',\n 'Areas of Vulnerability, 2016',\n 'Central Market/Tenderloin Boundary Polygon - Updated',\n 'HSOC Zones as of 2018-06-05',\n 'OWED Public Spaces',\n 'Parks Alliance CPSI (27+TL sites)',\n 'Neighborhoods']"
     },
     "metadata": {},
     "execution_count": 287
    }
   ],
   "source": [
    "floatcols = df.select_dtypes(include='float64').columns\n",
    "df[floatcols].isnull().sum()\n",
    "\n",
    "df[boundary].describe()\n",
    "\n",
    "boundary += floatcols.tolist()\n",
    "boundary\n"
   ]
  },
  {
   "cell_type": "code",
   "execution_count": 288,
   "metadata": {},
   "outputs": [],
   "source": [
    "todrop =['CBD, BID and GBD Boundaries as of 2017']\n",
    "\n",
    "coldesc ={ 'SF Find Neighborhoods':\n",
    "'https://sfplanninggis.org/SFFind/SFFindHelp.html'}"
   ]
  },
  {
   "cell_type": "code",
   "execution_count": 289,
   "metadata": {},
   "outputs": [],
   "source": [
    "def wrangle(df):\n",
    "    X= df.copy()\n",
    "    cols  = X.columns.tolist()\n",
    "\n",
    "    dropcols = target()\n",
    "    dropcols += boundary\n",
    "    df.drop(labels=delete, axis=1, inplace=True)\n",
    "    #do stuff\n",
    "\n",
    "    #drop column \n",
    "    return X"
   ]
  },
  {
   "cell_type": "code",
   "execution_count": 310,
   "metadata": {},
   "outputs": [],
   "source": [
    "class wrangler:\n",
    "    #instance vars\n",
    "    raw_df = pd.DataFrame() #preserve a copy of the original DF passed in\n",
    "    dropcols = list() #list to store columns to drop\n",
    "    bool_filters = dict() # list of name, expression tuples , or dict?\n",
    "    encoders = dict() # colname \n",
    "\n",
    "    def __init__(self, data):\n",
    "            self.raw_df = data.copy()  \n",
    "    order_default = ['fillnans', 'encode_cols', \n",
    "                    'add_features', 'drop_cols',\n",
    "                    'validate_dataframe']    #list of methods in order of application\n",
    "    \n",
    "\n",
    "    #methods\n",
    "    def set_data(self,df):\n",
    "        print('set data to df', df.shape)\n",
    "        self.raw_df= df.copy()\n",
    "        return self.raw_df\n",
    "    def add_to_dropcols(self,labels):\n",
    "        for l in labels:\n",
    "            if l in self.dropcols:\n",
    "                print('error column already in dropcols list')\n",
    "                break\n",
    "                return self.dropcols\n",
    "        self.dropcols += labels\n",
    "        return self.dropcols\n",
    "\n",
    "    def get_dropcols(self):\n",
    "        if not self.dropcols: \n",
    "            print('no columns to drop')\n",
    "        return self.dropcols\n",
    "    def clear_dropcols(self):\n",
    "        self.dropcols=list()\n",
    "        return True\n",
    "    def get_nancols(self, store=False):\n",
    "        cols =self.raw_df.columns\n",
    "        if self.dropcols:\n",
    "            cols = cols.drop(self.dropcols)\n",
    "        nc=self.raw_df[cols].isnull().sum().index.tolist()\n",
    "        if store:\n",
    "            self.nancols = nc\n",
    "        return nc\n",
    "    def get_params(self):\n",
    "        pass\n",
    "        #return all wrangler settings \n",
    "    def set_nanval(self):\n",
    "        pass \n",
    "       # self.nanvals add self to \n",
    "    def add_bool_filter(self, label, expr):  #\n",
    "        self.bool_filters[label] = expr\n",
    "        return self.bool_filters\n",
    "    def add_encoding(self, label, mapper):\n",
    "        self.encoders[label]= mapper\n",
    "    def wrangle(self, df=None):\n",
    "        if df is None:\n",
    "            df =self.raw_df\n",
    "        #apply list of actions\n",
    "        output = self.raw_df.copy()\n",
    "        #do all the actions in order \n",
    "        output = self.drop_columns(output)   #just drop for now\n",
    "        return output\n",
    "#internal \n",
    "    def drop_columns(self,df=None):\n",
    "        if df is None:\n",
    "            df = self.raw_df\n",
    "        #todo check dropcols present in df.columns\n",
    "        return df.drop(labels=self.dropcols, axis=1)\n",
    "    def encode(self):\n",
    "        temp  = self.raw_df.copy()\n",
    "        for k in self.encoders:\n",
    "            temp[k] = temp[k].map(self.encoders[k])\n",
    "        return temp\n"
   ]
  },
  {
   "cell_type": "code",
   "execution_count": 311,
   "metadata": {},
   "outputs": [],
   "source": [
    "test = wrangler(df)\n",
    "test.clear_dropcols()\n",
    "test.add_to_dropcols(delete)\n",
    "df[test.get_nancols()].describe()\n",
    "test.locationcols =['Latitude','Longitude','Point']\n",
    "test.add_to_dropcols('Point')\n",
    "missing_neighborhood = lambda x : 'missing' if math.isnan(x) else x\n",
    "test.encoders['Analyis Neighborhoods']= (lambda x : 'missing' if math.isnan(x) else x)\n",
    "\n",
    "\n"
   ]
  },
  {
   "cell_type": "code",
   "execution_count": 304,
   "metadata": {},
   "outputs": [
    {
     "output_type": "execute_result",
     "data": {
      "text/plain": "<function __main__.<lambda>(x)>"
     },
     "metadata": {},
     "execution_count": 304
    }
   ],
   "source": [
    "test.encoders['Analyis Neighborhoods']\n"
   ]
  },
  {
   "cell_type": "code",
   "execution_count": 314,
   "metadata": {},
   "outputs": [
    {
     "output_type": "execute_result",
     "data": {
      "text/plain": "0        missing\n1        missing\n2        missing\n3             34\n4              3\n          ...   \n41679          1\n41680          9\n41681         29\n41682          9\n41683         29\nName: Analysis Neighborhoods, Length: 41684, dtype: object"
     },
     "metadata": {},
     "execution_count": 314
    }
   ],
   "source": [
    "df['Analysis Neighborhoods'].apply(test.encoders['Analyis Neighborhoods'])\n"
   ]
  },
  {
   "cell_type": "code",
   "execution_count": 300,
   "metadata": {},
   "outputs": [
    {
     "output_type": "error",
     "ename": "TypeError",
     "evalue": "cannot convert the series to <class 'float'>",
     "traceback": [
      "\u001b[0;31m---------------------------------------------------------------------------\u001b[0m",
      "\u001b[0;31mTypeError\u001b[0m                                 Traceback (most recent call last)",
      "\u001b[0;32m<ipython-input-300-fed58794304c>\u001b[0m in \u001b[0;36m<module>\u001b[0;34m\u001b[0m\n\u001b[0;32m----> 1\u001b[0;31m \u001b[0mtest\u001b[0m\u001b[0;34m.\u001b[0m\u001b[0mencode\u001b[0m\u001b[0;34m(\u001b[0m\u001b[0;34m)\u001b[0m\u001b[0;34m\u001b[0m\u001b[0;34m\u001b[0m\u001b[0m\n\u001b[0m",
      "\u001b[0;32m<ipython-input-290-03bf3b1d414b>\u001b[0m in \u001b[0;36mencode\u001b[0;34m(self)\u001b[0m\n\u001b[1;32m     70\u001b[0m         \u001b[0mtemp\u001b[0m  \u001b[0;34m=\u001b[0m \u001b[0mself\u001b[0m\u001b[0;34m.\u001b[0m\u001b[0mraw_df\u001b[0m\u001b[0;34m.\u001b[0m\u001b[0mcopy\u001b[0m\u001b[0;34m(\u001b[0m\u001b[0;34m)\u001b[0m\u001b[0;34m\u001b[0m\u001b[0;34m\u001b[0m\u001b[0m\n\u001b[1;32m     71\u001b[0m         \u001b[0;32mfor\u001b[0m \u001b[0mk\u001b[0m \u001b[0;32min\u001b[0m \u001b[0mself\u001b[0m\u001b[0;34m.\u001b[0m\u001b[0mencoders\u001b[0m\u001b[0;34m:\u001b[0m\u001b[0;34m\u001b[0m\u001b[0;34m\u001b[0m\u001b[0m\n\u001b[0;32m---> 72\u001b[0;31m             \u001b[0mtemp\u001b[0m\u001b[0;34m[\u001b[0m\u001b[0mk\u001b[0m\u001b[0;34m]\u001b[0m \u001b[0;34m=\u001b[0m \u001b[0mtemp\u001b[0m\u001b[0;34m.\u001b[0m\u001b[0mapply\u001b[0m\u001b[0;34m(\u001b[0m\u001b[0mself\u001b[0m\u001b[0;34m.\u001b[0m\u001b[0mencoders\u001b[0m\u001b[0;34m[\u001b[0m\u001b[0mk\u001b[0m\u001b[0;34m]\u001b[0m\u001b[0;34m)\u001b[0m\u001b[0;34m\u001b[0m\u001b[0;34m\u001b[0m\u001b[0m\n\u001b[0m\u001b[1;32m     73\u001b[0m         \u001b[0;32mreturn\u001b[0m \u001b[0mtemp\u001b[0m\u001b[0;34m\u001b[0m\u001b[0;34m\u001b[0m\u001b[0m\n",
      "\u001b[0;32m~/anaconda3/lib/python3.7/site-packages/pandas/core/frame.py\u001b[0m in \u001b[0;36mapply\u001b[0;34m(self, func, axis, raw, result_type, args, **kwds)\u001b[0m\n\u001b[1;32m   6876\u001b[0m             \u001b[0mkwds\u001b[0m\u001b[0;34m=\u001b[0m\u001b[0mkwds\u001b[0m\u001b[0;34m,\u001b[0m\u001b[0;34m\u001b[0m\u001b[0;34m\u001b[0m\u001b[0m\n\u001b[1;32m   6877\u001b[0m         )\n\u001b[0;32m-> 6878\u001b[0;31m         \u001b[0;32mreturn\u001b[0m \u001b[0mop\u001b[0m\u001b[0;34m.\u001b[0m\u001b[0mget_result\u001b[0m\u001b[0;34m(\u001b[0m\u001b[0;34m)\u001b[0m\u001b[0;34m\u001b[0m\u001b[0;34m\u001b[0m\u001b[0m\n\u001b[0m\u001b[1;32m   6879\u001b[0m \u001b[0;34m\u001b[0m\u001b[0m\n\u001b[1;32m   6880\u001b[0m     \u001b[0;32mdef\u001b[0m \u001b[0mapplymap\u001b[0m\u001b[0;34m(\u001b[0m\u001b[0mself\u001b[0m\u001b[0;34m,\u001b[0m \u001b[0mfunc\u001b[0m\u001b[0;34m)\u001b[0m \u001b[0;34m->\u001b[0m \u001b[0;34m\"DataFrame\"\u001b[0m\u001b[0;34m:\u001b[0m\u001b[0;34m\u001b[0m\u001b[0;34m\u001b[0m\u001b[0m\n",
      "\u001b[0;32m~/anaconda3/lib/python3.7/site-packages/pandas/core/apply.py\u001b[0m in \u001b[0;36mget_result\u001b[0;34m(self)\u001b[0m\n\u001b[1;32m    184\u001b[0m             \u001b[0;32mreturn\u001b[0m \u001b[0mself\u001b[0m\u001b[0;34m.\u001b[0m\u001b[0mapply_raw\u001b[0m\u001b[0;34m(\u001b[0m\u001b[0;34m)\u001b[0m\u001b[0;34m\u001b[0m\u001b[0;34m\u001b[0m\u001b[0m\n\u001b[1;32m    185\u001b[0m \u001b[0;34m\u001b[0m\u001b[0m\n\u001b[0;32m--> 186\u001b[0;31m         \u001b[0;32mreturn\u001b[0m \u001b[0mself\u001b[0m\u001b[0;34m.\u001b[0m\u001b[0mapply_standard\u001b[0m\u001b[0;34m(\u001b[0m\u001b[0;34m)\u001b[0m\u001b[0;34m\u001b[0m\u001b[0;34m\u001b[0m\u001b[0m\n\u001b[0m\u001b[1;32m    187\u001b[0m \u001b[0;34m\u001b[0m\u001b[0m\n\u001b[1;32m    188\u001b[0m     \u001b[0;32mdef\u001b[0m \u001b[0mapply_empty_result\u001b[0m\u001b[0;34m(\u001b[0m\u001b[0mself\u001b[0m\u001b[0;34m)\u001b[0m\u001b[0;34m:\u001b[0m\u001b[0;34m\u001b[0m\u001b[0;34m\u001b[0m\u001b[0m\n",
      "\u001b[0;32m~/anaconda3/lib/python3.7/site-packages/pandas/core/apply.py\u001b[0m in \u001b[0;36mapply_standard\u001b[0;34m(self)\u001b[0m\n\u001b[1;32m    294\u001b[0m             \u001b[0;32mtry\u001b[0m\u001b[0;34m:\u001b[0m\u001b[0;34m\u001b[0m\u001b[0;34m\u001b[0m\u001b[0m\n\u001b[1;32m    295\u001b[0m                 result = libreduction.compute_reduction(\n\u001b[0;32m--> 296\u001b[0;31m                     \u001b[0mvalues\u001b[0m\u001b[0;34m,\u001b[0m \u001b[0mself\u001b[0m\u001b[0;34m.\u001b[0m\u001b[0mf\u001b[0m\u001b[0;34m,\u001b[0m \u001b[0maxis\u001b[0m\u001b[0;34m=\u001b[0m\u001b[0mself\u001b[0m\u001b[0;34m.\u001b[0m\u001b[0maxis\u001b[0m\u001b[0;34m,\u001b[0m \u001b[0mdummy\u001b[0m\u001b[0;34m=\u001b[0m\u001b[0mdummy\u001b[0m\u001b[0;34m,\u001b[0m \u001b[0mlabels\u001b[0m\u001b[0;34m=\u001b[0m\u001b[0mlabels\u001b[0m\u001b[0;34m\u001b[0m\u001b[0;34m\u001b[0m\u001b[0m\n\u001b[0m\u001b[1;32m    297\u001b[0m                 )\n\u001b[1;32m    298\u001b[0m             \u001b[0;32mexcept\u001b[0m \u001b[0mValueError\u001b[0m \u001b[0;32mas\u001b[0m \u001b[0merr\u001b[0m\u001b[0;34m:\u001b[0m\u001b[0;34m\u001b[0m\u001b[0;34m\u001b[0m\u001b[0m\n",
      "\u001b[0;32mpandas/_libs/reduction.pyx\u001b[0m in \u001b[0;36mpandas._libs.reduction.compute_reduction\u001b[0;34m()\u001b[0m\n",
      "\u001b[0;32mpandas/_libs/reduction.pyx\u001b[0m in \u001b[0;36mpandas._libs.reduction.Reducer.get_result\u001b[0;34m()\u001b[0m\n",
      "\u001b[0;32m<ipython-input-299-94d4c3d2f7ce>\u001b[0m in \u001b[0;36m<lambda>\u001b[0;34m(x)\u001b[0m\n\u001b[1;32m      6\u001b[0m \u001b[0mtest\u001b[0m\u001b[0;34m.\u001b[0m\u001b[0madd_to_dropcols\u001b[0m\u001b[0;34m(\u001b[0m\u001b[0;34m'Point'\u001b[0m\u001b[0;34m)\u001b[0m\u001b[0;34m\u001b[0m\u001b[0;34m\u001b[0m\u001b[0m\n\u001b[1;32m      7\u001b[0m \u001b[0mmissing_neighborhood\u001b[0m \u001b[0;34m=\u001b[0m \u001b[0;32mlambda\u001b[0m \u001b[0mx\u001b[0m \u001b[0;34m:\u001b[0m \u001b[0;34m'missing'\u001b[0m \u001b[0;32mif\u001b[0m \u001b[0mmath\u001b[0m\u001b[0;34m.\u001b[0m\u001b[0misnan\u001b[0m\u001b[0;34m(\u001b[0m\u001b[0mx\u001b[0m\u001b[0;34m)\u001b[0m \u001b[0;32melse\u001b[0m \u001b[0mx\u001b[0m\u001b[0;34m\u001b[0m\u001b[0;34m\u001b[0m\u001b[0m\n\u001b[0;32m----> 8\u001b[0;31m \u001b[0mtest\u001b[0m\u001b[0;34m.\u001b[0m\u001b[0mencoders\u001b[0m\u001b[0;34m[\u001b[0m\u001b[0;34m'Analyis Neighborhoods'\u001b[0m\u001b[0;34m]\u001b[0m\u001b[0;34m=\u001b[0m \u001b[0;34m(\u001b[0m\u001b[0;32mlambda\u001b[0m \u001b[0mx\u001b[0m \u001b[0;34m:\u001b[0m \u001b[0;34m'missing'\u001b[0m \u001b[0;32mif\u001b[0m \u001b[0mmath\u001b[0m\u001b[0;34m.\u001b[0m\u001b[0misnan\u001b[0m\u001b[0;34m(\u001b[0m\u001b[0mx\u001b[0m\u001b[0;34m)\u001b[0m \u001b[0;32melse\u001b[0m \u001b[0mx\u001b[0m\u001b[0;34m)\u001b[0m\u001b[0;34m\u001b[0m\u001b[0;34m\u001b[0m\u001b[0m\n\u001b[0m\u001b[1;32m      9\u001b[0m \u001b[0;34m\u001b[0m\u001b[0m\n\u001b[1;32m     10\u001b[0m \u001b[0;34m\u001b[0m\u001b[0m\n",
      "\u001b[0;32m~/anaconda3/lib/python3.7/site-packages/pandas/core/series.py\u001b[0m in \u001b[0;36mwrapper\u001b[0;34m(self)\u001b[0m\n\u001b[1;32m    110\u001b[0m         \u001b[0;32mif\u001b[0m \u001b[0mlen\u001b[0m\u001b[0;34m(\u001b[0m\u001b[0mself\u001b[0m\u001b[0;34m)\u001b[0m \u001b[0;34m==\u001b[0m \u001b[0;36m1\u001b[0m\u001b[0;34m:\u001b[0m\u001b[0;34m\u001b[0m\u001b[0;34m\u001b[0m\u001b[0m\n\u001b[1;32m    111\u001b[0m             \u001b[0;32mreturn\u001b[0m \u001b[0mconverter\u001b[0m\u001b[0;34m(\u001b[0m\u001b[0mself\u001b[0m\u001b[0;34m.\u001b[0m\u001b[0miloc\u001b[0m\u001b[0;34m[\u001b[0m\u001b[0;36m0\u001b[0m\u001b[0;34m]\u001b[0m\u001b[0;34m)\u001b[0m\u001b[0;34m\u001b[0m\u001b[0;34m\u001b[0m\u001b[0m\n\u001b[0;32m--> 112\u001b[0;31m         \u001b[0;32mraise\u001b[0m \u001b[0mTypeError\u001b[0m\u001b[0;34m(\u001b[0m\u001b[0;34mf\"cannot convert the series to {converter}\"\u001b[0m\u001b[0;34m)\u001b[0m\u001b[0;34m\u001b[0m\u001b[0;34m\u001b[0m\u001b[0m\n\u001b[0m\u001b[1;32m    113\u001b[0m \u001b[0;34m\u001b[0m\u001b[0m\n\u001b[1;32m    114\u001b[0m     \u001b[0mwrapper\u001b[0m\u001b[0;34m.\u001b[0m\u001b[0m__name__\u001b[0m \u001b[0;34m=\u001b[0m \u001b[0;34mf\"__{converter.__name__}__\"\u001b[0m\u001b[0;34m\u001b[0m\u001b[0;34m\u001b[0m\u001b[0m\n",
      "\u001b[0;31mTypeError\u001b[0m: cannot convert the series to <class 'float'>"
     ]
    }
   ],
   "source": [
    "test.encode()\n"
   ]
  },
  {
   "cell_type": "code",
   "execution_count": 294,
   "metadata": {},
   "outputs": [
    {
     "output_type": "execute_result",
     "data": {
      "text/plain": "         CaseID                  Opened                  Closed  \\\n0        570729  12/29/2009 06:31:54 AM  12/30/2009 10:11:25 AM   \n1        570341  12/28/2009 01:31:53 PM  12/30/2009 11:16:26 AM   \n2        570337  12/28/2009 01:29:47 PM  12/30/2009 11:09:34 AM   \n3        570026  12/28/2009 08:45:41 AM  12/30/2009 06:16:37 AM   \n4        570009  12/28/2009 08:33:03 AM  12/29/2009 11:16:38 AM   \n...         ...                     ...                     ...   \n41679  11428789  09/17/2019 02:24:05 PM  09/17/2019 03:28:47 PM   \n41680  11450562  09/22/2019 02:18:00 PM  09/22/2019 05:38:48 PM   \n41681  11425262  09/16/2019 08:03:42 PM  09/17/2019 05:13:02 PM   \n41682  11415892  09/14/2019 02:03:00 PM  09/14/2019 05:27:34 PM   \n41683  11430206  09/17/2019 07:08:56 PM  10/18/2019 08:10:01 AM   \n\n                      Updated  Status  \\\n0      12/30/2009 10:11:25 AM  Closed   \n1      12/30/2009 11:16:26 AM  Closed   \n2      12/30/2009 11:09:34 AM  Closed   \n3      12/30/2009 06:16:37 AM  Closed   \n4      12/29/2009 11:16:38 AM  Closed   \n...                       ...     ...   \n41679  09/17/2019 03:28:47 PM  Closed   \n41680  09/22/2019 05:38:48 PM  Closed   \n41681  09/17/2019 05:13:02 PM  Closed   \n41682  09/14/2019 05:27:34 PM  Closed   \n41683  10/18/2019 08:10:01 AM  Closed   \n\n                                            Status Notes  \\\n0                          Case Transferred - PSR 353925   \n1                            Case Transferred - # 353946   \n2                            Case Transferred - # 353942   \n3                         See Notes tab for more details   \n4                         See Notes tab for more details   \n...                                                  ...   \n41679                  Case Resolved - Pickup completed.   \n41680  Case Resolved - Officer responded to request u...   \n41681                  Case Resolved - Pickup completed.   \n41682                  Case Resolved - Pickup completed.   \n41683  Case Resolved - The sign shop has indicated th...   \n\n                       Responsible Agency                      Category  \\\n0                         MUNI Work Queue                 MUNI Feedback   \n1                         MUNI Work Queue                 MUNI Feedback   \n2                         MUNI Work Queue                 MUNI Feedback   \n3                           DPW Ops Queue  Street and Sidewalk Cleaning   \n4                           DPW Ops Queue  Street and Sidewalk Cleaning   \n...                                   ...                           ...   \n41679                  Recology_Abandoned  Street and Sidewalk Cleaning   \n41680  Parking Enforcement Dispatch Queue           Parking Enforcement   \n41681                  Recology_Abandoned  Street and Sidewalk Cleaning   \n41682                  Recology_Abandoned  Street and Sidewalk Cleaning   \n41683                  DPT SignShop Queue                   Sign Repair   \n\n                                            Request Type  \\\n0            MUNI - Services_Service_Delivery_Facilities   \n1              MUNI - Conduct_Inattentiveness_Negligence   \n2      MUNI - Conduct_Discourteous_Insensitive_Inappr...   \n3                                       General Cleaning   \n4                                            Bulky Items   \n...                                                  ...   \n41679                                        Bulky Items   \n41680                        Blocking_Driveway_Cite_Only   \n41681                                        Bulky Items   \n41682                                        Bulky Items   \n41683                                     Sign - Defaced   \n\n                                  Request Details  ... DELETE - HSOC Zones  \\\n0                          604_Vehicle_Appearance  ...                 NaN   \n1         201_Pass_Up_Did_Not_Wait_for_Transferee  ...                 NaN   \n2                     301_Discourtesy_to_Customer  ...                 NaN   \n3                             Other Loose Garbage  ...                 1.0   \n4                                     Electronics  ...                 NaN   \n...                                           ...  ...                 ...   \n41679                                   Furniture  ...                 NaN   \n41680                        White - ???? - ?????  ...                 NaN   \n41681                                   Furniture  ...                 NaN   \n41682                                   Furniture  ...                 NaN   \n41683  Other_Parking_Type - Defaced; support - OK  ...                 NaN   \n\n      Fix It Zones as of 2018-02-07 CBD, BID and GBD Boundaries as of 2017  \\\n0                               NaN                                    NaN   \n1                               NaN                                    NaN   \n2                               NaN                                    NaN   \n3                               6.0                                    NaN   \n4                               NaN                                    NaN   \n...                             ...                                    ...   \n41679                           NaN                                    NaN   \n41680                           NaN                                    NaN   \n41681                           NaN                                    NaN   \n41682                           NaN                                    NaN   \n41683                           NaN                                    NaN   \n\n      Central Market/Tenderloin Boundary Areas of Vulnerability, 2016  \\\n0                                    NaN                          NaN   \n1                                    NaN                          NaN   \n2                                    NaN                          NaN   \n3                                    NaN                          2.0   \n4                                    NaN                          1.0   \n...                                  ...                          ...   \n41679                                NaN                          1.0   \n41680                                NaN                          1.0   \n41681                                NaN                          1.0   \n41682                                NaN                          1.0   \n41683                                NaN                          1.0   \n\n      Central Market/Tenderloin Boundary Polygon - Updated  \\\n0                                                    NaN     \n1                                                    NaN     \n2                                                    NaN     \n3                                                    NaN     \n4                                                    NaN     \n...                                                  ...     \n41679                                                NaN     \n41680                                                NaN     \n41681                                                NaN     \n41682                                                NaN     \n41683                                                NaN     \n\n      HSOC Zones as of 2018-06-05 OWED Public Spaces  \\\n0                             NaN                NaN   \n1                             NaN                NaN   \n2                             NaN                NaN   \n3                             1.0                NaN   \n4                             NaN                NaN   \n...                           ...                ...   \n41679                         NaN                NaN   \n41680                         NaN                NaN   \n41681                         NaN                NaN   \n41682                         NaN                NaN   \n41683                         NaN                NaN   \n\n      Parks Alliance CPSI (27+TL sites) Neighborhoods  \n0                                   NaN           NaN  \n1                                   NaN           NaN  \n2                                   NaN           NaN  \n3                                   NaN          32.0  \n4                                   NaN          26.0  \n...                                 ...           ...  \n41679                               NaN          86.0  \n41680                               NaN          23.0  \n41681                               NaN           5.0  \n41682                               NaN          28.0  \n41683                               NaN           8.0  \n\n[41684 rows x 47 columns]",
      "text/html": "<div>\n<style scoped>\n    .dataframe tbody tr th:only-of-type {\n        vertical-align: middle;\n    }\n\n    .dataframe tbody tr th {\n        vertical-align: top;\n    }\n\n    .dataframe thead th {\n        text-align: right;\n    }\n</style>\n<table border=\"1\" class=\"dataframe\">\n  <thead>\n    <tr style=\"text-align: right;\">\n      <th></th>\n      <th>CaseID</th>\n      <th>Opened</th>\n      <th>Closed</th>\n      <th>Updated</th>\n      <th>Status</th>\n      <th>Status Notes</th>\n      <th>Responsible Agency</th>\n      <th>Category</th>\n      <th>Request Type</th>\n      <th>Request Details</th>\n      <th>...</th>\n      <th>DELETE - HSOC Zones</th>\n      <th>Fix It Zones as of 2018-02-07</th>\n      <th>CBD, BID and GBD Boundaries as of 2017</th>\n      <th>Central Market/Tenderloin Boundary</th>\n      <th>Areas of Vulnerability, 2016</th>\n      <th>Central Market/Tenderloin Boundary Polygon - Updated</th>\n      <th>HSOC Zones as of 2018-06-05</th>\n      <th>OWED Public Spaces</th>\n      <th>Parks Alliance CPSI (27+TL sites)</th>\n      <th>Neighborhoods</th>\n    </tr>\n  </thead>\n  <tbody>\n    <tr>\n      <th>0</th>\n      <td>570729</td>\n      <td>12/29/2009 06:31:54 AM</td>\n      <td>12/30/2009 10:11:25 AM</td>\n      <td>12/30/2009 10:11:25 AM</td>\n      <td>Closed</td>\n      <td>Case Transferred - PSR 353925</td>\n      <td>MUNI Work Queue</td>\n      <td>MUNI Feedback</td>\n      <td>MUNI - Services_Service_Delivery_Facilities</td>\n      <td>604_Vehicle_Appearance</td>\n      <td>...</td>\n      <td>NaN</td>\n      <td>NaN</td>\n      <td>NaN</td>\n      <td>NaN</td>\n      <td>NaN</td>\n      <td>NaN</td>\n      <td>NaN</td>\n      <td>NaN</td>\n      <td>NaN</td>\n      <td>NaN</td>\n    </tr>\n    <tr>\n      <th>1</th>\n      <td>570341</td>\n      <td>12/28/2009 01:31:53 PM</td>\n      <td>12/30/2009 11:16:26 AM</td>\n      <td>12/30/2009 11:16:26 AM</td>\n      <td>Closed</td>\n      <td>Case Transferred - # 353946</td>\n      <td>MUNI Work Queue</td>\n      <td>MUNI Feedback</td>\n      <td>MUNI - Conduct_Inattentiveness_Negligence</td>\n      <td>201_Pass_Up_Did_Not_Wait_for_Transferee</td>\n      <td>...</td>\n      <td>NaN</td>\n      <td>NaN</td>\n      <td>NaN</td>\n      <td>NaN</td>\n      <td>NaN</td>\n      <td>NaN</td>\n      <td>NaN</td>\n      <td>NaN</td>\n      <td>NaN</td>\n      <td>NaN</td>\n    </tr>\n    <tr>\n      <th>2</th>\n      <td>570337</td>\n      <td>12/28/2009 01:29:47 PM</td>\n      <td>12/30/2009 11:09:34 AM</td>\n      <td>12/30/2009 11:09:34 AM</td>\n      <td>Closed</td>\n      <td>Case Transferred - # 353942</td>\n      <td>MUNI Work Queue</td>\n      <td>MUNI Feedback</td>\n      <td>MUNI - Conduct_Discourteous_Insensitive_Inappr...</td>\n      <td>301_Discourtesy_to_Customer</td>\n      <td>...</td>\n      <td>NaN</td>\n      <td>NaN</td>\n      <td>NaN</td>\n      <td>NaN</td>\n      <td>NaN</td>\n      <td>NaN</td>\n      <td>NaN</td>\n      <td>NaN</td>\n      <td>NaN</td>\n      <td>NaN</td>\n    </tr>\n    <tr>\n      <th>3</th>\n      <td>570026</td>\n      <td>12/28/2009 08:45:41 AM</td>\n      <td>12/30/2009 06:16:37 AM</td>\n      <td>12/30/2009 06:16:37 AM</td>\n      <td>Closed</td>\n      <td>See Notes tab for more details</td>\n      <td>DPW Ops Queue</td>\n      <td>Street and Sidewalk Cleaning</td>\n      <td>General Cleaning</td>\n      <td>Other Loose Garbage</td>\n      <td>...</td>\n      <td>1.0</td>\n      <td>6.0</td>\n      <td>NaN</td>\n      <td>NaN</td>\n      <td>2.0</td>\n      <td>NaN</td>\n      <td>1.0</td>\n      <td>NaN</td>\n      <td>NaN</td>\n      <td>32.0</td>\n    </tr>\n    <tr>\n      <th>4</th>\n      <td>570009</td>\n      <td>12/28/2009 08:33:03 AM</td>\n      <td>12/29/2009 11:16:38 AM</td>\n      <td>12/29/2009 11:16:38 AM</td>\n      <td>Closed</td>\n      <td>See Notes tab for more details</td>\n      <td>DPW Ops Queue</td>\n      <td>Street and Sidewalk Cleaning</td>\n      <td>Bulky Items</td>\n      <td>Electronics</td>\n      <td>...</td>\n      <td>NaN</td>\n      <td>NaN</td>\n      <td>NaN</td>\n      <td>NaN</td>\n      <td>1.0</td>\n      <td>NaN</td>\n      <td>NaN</td>\n      <td>NaN</td>\n      <td>NaN</td>\n      <td>26.0</td>\n    </tr>\n    <tr>\n      <th>...</th>\n      <td>...</td>\n      <td>...</td>\n      <td>...</td>\n      <td>...</td>\n      <td>...</td>\n      <td>...</td>\n      <td>...</td>\n      <td>...</td>\n      <td>...</td>\n      <td>...</td>\n      <td>...</td>\n      <td>...</td>\n      <td>...</td>\n      <td>...</td>\n      <td>...</td>\n      <td>...</td>\n      <td>...</td>\n      <td>...</td>\n      <td>...</td>\n      <td>...</td>\n      <td>...</td>\n    </tr>\n    <tr>\n      <th>41679</th>\n      <td>11428789</td>\n      <td>09/17/2019 02:24:05 PM</td>\n      <td>09/17/2019 03:28:47 PM</td>\n      <td>09/17/2019 03:28:47 PM</td>\n      <td>Closed</td>\n      <td>Case Resolved - Pickup completed.</td>\n      <td>Recology_Abandoned</td>\n      <td>Street and Sidewalk Cleaning</td>\n      <td>Bulky Items</td>\n      <td>Furniture</td>\n      <td>...</td>\n      <td>NaN</td>\n      <td>NaN</td>\n      <td>NaN</td>\n      <td>NaN</td>\n      <td>1.0</td>\n      <td>NaN</td>\n      <td>NaN</td>\n      <td>NaN</td>\n      <td>NaN</td>\n      <td>86.0</td>\n    </tr>\n    <tr>\n      <th>41680</th>\n      <td>11450562</td>\n      <td>09/22/2019 02:18:00 PM</td>\n      <td>09/22/2019 05:38:48 PM</td>\n      <td>09/22/2019 05:38:48 PM</td>\n      <td>Closed</td>\n      <td>Case Resolved - Officer responded to request u...</td>\n      <td>Parking Enforcement Dispatch Queue</td>\n      <td>Parking Enforcement</td>\n      <td>Blocking_Driveway_Cite_Only</td>\n      <td>White - ???? - ?????</td>\n      <td>...</td>\n      <td>NaN</td>\n      <td>NaN</td>\n      <td>NaN</td>\n      <td>NaN</td>\n      <td>1.0</td>\n      <td>NaN</td>\n      <td>NaN</td>\n      <td>NaN</td>\n      <td>NaN</td>\n      <td>23.0</td>\n    </tr>\n    <tr>\n      <th>41681</th>\n      <td>11425262</td>\n      <td>09/16/2019 08:03:42 PM</td>\n      <td>09/17/2019 05:13:02 PM</td>\n      <td>09/17/2019 05:13:02 PM</td>\n      <td>Closed</td>\n      <td>Case Resolved - Pickup completed.</td>\n      <td>Recology_Abandoned</td>\n      <td>Street and Sidewalk Cleaning</td>\n      <td>Bulky Items</td>\n      <td>Furniture</td>\n      <td>...</td>\n      <td>NaN</td>\n      <td>NaN</td>\n      <td>NaN</td>\n      <td>NaN</td>\n      <td>1.0</td>\n      <td>NaN</td>\n      <td>NaN</td>\n      <td>NaN</td>\n      <td>NaN</td>\n      <td>5.0</td>\n    </tr>\n    <tr>\n      <th>41682</th>\n      <td>11415892</td>\n      <td>09/14/2019 02:03:00 PM</td>\n      <td>09/14/2019 05:27:34 PM</td>\n      <td>09/14/2019 05:27:34 PM</td>\n      <td>Closed</td>\n      <td>Case Resolved - Pickup completed.</td>\n      <td>Recology_Abandoned</td>\n      <td>Street and Sidewalk Cleaning</td>\n      <td>Bulky Items</td>\n      <td>Furniture</td>\n      <td>...</td>\n      <td>NaN</td>\n      <td>NaN</td>\n      <td>NaN</td>\n      <td>NaN</td>\n      <td>1.0</td>\n      <td>NaN</td>\n      <td>NaN</td>\n      <td>NaN</td>\n      <td>NaN</td>\n      <td>28.0</td>\n    </tr>\n    <tr>\n      <th>41683</th>\n      <td>11430206</td>\n      <td>09/17/2019 07:08:56 PM</td>\n      <td>10/18/2019 08:10:01 AM</td>\n      <td>10/18/2019 08:10:01 AM</td>\n      <td>Closed</td>\n      <td>Case Resolved - The sign shop has indicated th...</td>\n      <td>DPT SignShop Queue</td>\n      <td>Sign Repair</td>\n      <td>Sign - Defaced</td>\n      <td>Other_Parking_Type - Defaced; support - OK</td>\n      <td>...</td>\n      <td>NaN</td>\n      <td>NaN</td>\n      <td>NaN</td>\n      <td>NaN</td>\n      <td>1.0</td>\n      <td>NaN</td>\n      <td>NaN</td>\n      <td>NaN</td>\n      <td>NaN</td>\n      <td>8.0</td>\n    </tr>\n  </tbody>\n</table>\n<p>41684 rows × 47 columns</p>\n</div>"
     },
     "metadata": {},
     "execution_count": 294
    }
   ],
   "source": [
    "test.raw_df"
   ]
  },
  {
   "cell_type": "code",
   "execution_count": 209,
   "metadata": {},
   "outputs": [
    {
     "output_type": "execute_result",
     "data": {
      "text/plain": "['DELETE - Supervisor Districts',\n 'DELETE - Fire Prevention Districts',\n 'DELETE - Current Police Districts',\n 'DELETE - Zip Codes',\n 'DELETE - Police Districts',\n 'DELETE - Neighborhoods',\n 'DELETE - Neighborhoods_from_fyvs_ahh9',\n 'DELETE - 2017 Fix It Zones',\n 'DELETE - SF Find Neighborhoods',\n 'DELETE - Current Supervisor Districts',\n 'DELETE - HSOC Zones',\n 'DELETE - Supervisor Districts',\n 'DELETE - Fire Prevention Districts',\n 'DELETE - Current Police Districts',\n 'DELETE - Zip Codes',\n 'DELETE - Police Districts',\n 'DELETE - Neighborhoods',\n 'DELETE - Neighborhoods_from_fyvs_ahh9',\n 'DELETE - 2017 Fix It Zones',\n 'DELETE - SF Find Neighborhoods',\n 'DELETE - Current Supervisor Districts',\n 'DELETE - HSOC Zones']"
     },
     "metadata": {},
     "execution_count": 209
    }
   ],
   "source": []
  }
 ],
 "metadata": {
  "language_info": {
   "codemirror_mode": {
    "name": "ipython",
    "version": 3
   },
   "file_extension": ".py",
   "mimetype": "text/x-python",
   "name": "python",
   "nbconvert_exporter": "python",
   "pygments_lexer": "ipython3",
   "version": "3.7.4-final"
  },
  "orig_nbformat": 2,
  "kernelspec": {
   "name": "python3",
   "display_name": "Python 3"
  }
 },
 "nbformat": 4,
 "nbformat_minor": 2
}