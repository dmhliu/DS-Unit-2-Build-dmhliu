{
 "cells": [
  {
   "cell_type": "markdown",
   "metadata": {},
   "source": [
    "#NEED TO SAMPLE THE FILE TO DEVELOP \n",
    "awk 'BEGIN {srand()} !/^$/ { if (rand() <= .01 || FNR==1) print $0}' filename\n"
   ]
  },
  {
   "cell_type": "code",
   "execution_count": 73,
   "metadata": {
    "tags": []
   },
   "outputs": [
    {
     "output_type": "stream",
     "name": "stdout",
     "text": "/home/dliu/lambda/unit-2/DS-Unit-2-Build-dmhliu\n"
    }
   ],
   "source": [
    "!pwd\n"
   ]
  },
  {
   "cell_type": "code",
   "execution_count": 74,
   "metadata": {},
   "outputs": [],
   "source": [
    "import pandas as pd\n",
    "import numpy as np\n",
    "import math \n",
    "\n",
    "pd.options.display.max_columns = 100\n",
    "pd.set_option('display.max_rows', 100)\n"
   ]
  },
  {
   "cell_type": "code",
   "execution_count": 75,
   "metadata": {},
   "outputs": [],
   "source": [
    "# Get Pandas Profiling Report\n",
    "import pandas_profiling\n",
    "#pandas_profiling.ProfileReport(df)"
   ]
  },
  {
   "cell_type": "code",
   "execution_count": 76,
   "metadata": {
    "tags": [
     "outputPrepend"
    ]
   },
   "outputs": [
    {
     "output_type": "stream",
     "name": "stderr",
     "text": "e 30657: ',' expected after '\"'\nSkipping line 30660: ',' expected after '\"'\nSkipping line 30683: ',' expected after '\"'\nSkipping line 30689: ',' expected after '\"'\nSkipping line 30697: ',' expected after '\"'\nSkipping line 30725: ',' expected after '\"'\nSkipping line 30748: ',' expected after '\"'\nSkipping line 30749: ',' expected after '\"'\nSkipping line 30758: ',' expected after '\"'\nSkipping line 30765: ',' expected after '\"'\nSkipping line 30783: ',' expected after '\"'\nSkipping line 30805: ',' expected after '\"'\nSkipping line 30879: ',' expected after '\"'\nSkipping line 30895: ',' expected after '\"'\nSkipping line 30900: ',' expected after '\"'\nSkipping line 30919: ',' expected after '\"'\nSkipping line 30924: ',' expected after '\"'\nSkipping line 30939: ',' expected after '\"'\nSkipping line 30995: ',' expected after '\"'\nSkipping line 31030: ',' expected after '\"'\nSkipping line 31039: ',' expected after '\"'\nSkipping line 31044: ',' expected after '\"'\nSkipping line 31045: ',' expected after '\"'\nSkipping line 31068: ',' expected after '\"'\nSkipping line 31080: ',' expected after '\"'\nSkipping line 31092: ',' expected after '\"'\nSkipping line 31122: ',' expected after '\"'\nSkipping line 31124: ',' expected after '\"'\nSkipping line 31125: ',' expected after '\"'\nSkipping line 31133: ',' expected after '\"'\nSkipping line 31136: ',' expected after '\"'\nSkipping line 31139: ',' expected after '\"'\nSkipping line 31144: ',' expected after '\"'\nSkipping line 31146: ',' expected after '\"'\nSkipping line 31150: ',' expected after '\"'\nSkipping line 31167: ',' expected after '\"'\nSkipping line 31176: ',' expected after '\"'\nSkipping line 31190: ',' expected after '\"'\nSkipping line 31206: ',' expected after '\"'\nSkipping line 31216: ',' expected after '\"'\nSkipping line 31230: ',' expected after '\"'\nSkipping line 31239: ',' expected after '\"'\nSkipping line 31251: ',' expected after '\"'\nSkipping line 31260: ',' expected after '\"'\nSkipping line 31267: ',' expected after '\"'\nSkipping line 31271: ',' expected after '\"'\nSkipping line 31325: ',' expected after '\"'\nSkipping line 31366: ',' expected after '\"'\nSkipping line 31403: ',' expected after '\"'\nSkipping line 31413: ',' expected after '\"'\nSkipping line 31415: ',' expected after '\"'\nSkipping line 31422: ',' expected after '\"'\nSkipping line 31458: ',' expected after '\"'\nSkipping line 31482: ',' expected after '\"'\nSkipping line 31527: ',' expected after '\"'\nSkipping line 31530: ',' expected after '\"'\nSkipping line 31546: ',' expected after '\"'\nSkipping line 31559: ',' expected after '\"'\nSkipping line 31605: ',' expected after '\"'\nSkipping line 31614: ',' expected after '\"'\nSkipping line 31618: ',' expected after '\"'\nSkipping line 31622: ',' expected after '\"'\nSkipping line 31643: ',' expected after '\"'\nSkipping line 31647: ',' expected after '\"'\nSkipping line 31655: ',' expected after '\"'\nSkipping line 31668: ',' expected after '\"'\nSkipping line 31696: ',' expected after '\"'\nSkipping line 31697: ',' expected after '\"'\nSkipping line 31712: ',' expected after '\"'\nSkipping line 31714: ',' expected after '\"'\nSkipping line 31715: ',' expected after '\"'\nSkipping line 31724: ',' expected after '\"'\nSkipping line 31725: ',' expected after '\"'\nSkipping line 31738: ',' expected after '\"'\nSkipping line 31751: ',' expected after '\"'\nSkipping line 31766: ',' expected after '\"'\nSkipping line 31796: ',' expected after '\"'\nSkipping line 31803: ',' expected after '\"'\nSkipping line 31810: ',' expected after '\"'\nSkipping line 31821: ',' expected after '\"'\nSkipping line 31830: ',' expected after '\"'\nSkipping line 31844: ',' expected after '\"'\nSkipping line 31851: ',' expected after '\"'\nSkipping line 31860: ',' expected after '\"'\nSkipping line 31868: ',' expected after '\"'\nSkipping line 31869: ',' expected after '\"'\nSkipping line 31878: ',' expected after '\"'\nSkipping line 31903: ',' expected after '\"'\nSkipping line 31921: ',' expected after '\"'\nSkipping line 31934: ',' expected after '\"'\nSkipping line 31936: ',' expected after '\"'\nSkipping line 31937: ',' expected after '\"'\nSkipping line 31940: ',' expected after '\"'\nSkipping line 31944: ',' expected after '\"'\nSkipping line 31949: ',' expected after '\"'\nSkipping line 31950: ',' expected after '\"'\nSkipping line 31968: ',' expected after '\"'\nSkipping line 31983: ',' expected after '\"'\nSkipping line 31998: ',' expected after '\"'\nSkipping line 32018: ',' expected after '\"'\nSkipping line 32080: ',' expected after '\"'\nSkipping line 32097: ',' expected after '\"'\nSkipping line 32103: ',' expected after '\"'\nSkipping line 32120: ',' expected after '\"'\nSkipping line 32125: ',' expected after '\"'\nSkipping line 32127: ',' expected after '\"'\nSkipping line 32140: ',' expected after '\"'\nSkipping line 32173: ',' expected after '\"'\nSkipping line 32176: ',' expected after '\"'\nSkipping line 32182: ',' expected after '\"'\nSkipping line 32184: ',' expected after '\"'\nSkipping line 32211: ',' expected after '\"'\nSkipping line 32223: ',' expected after '\"'\nSkipping line 32236: ',' expected after '\"'\nSkipping line 32244: ',' expected after '\"'\nSkipping line 32249: ',' expected after '\"'\nSkipping line 32276: ',' expected after '\"'\nSkipping line 32283: ',' expected after '\"'\nSkipping line 32324: ',' expected after '\"'\nSkipping line 32328: ',' expected after '\"'\nSkipping line 32334: ',' expected after '\"'\nSkipping line 32346: ',' expected after '\"'\nSkipping line 32352: ',' expected after '\"'\nSkipping line 32365: ',' expected after '\"'\nSkipping line 32377: ',' expected after '\"'\nSkipping line 32402: ',' expected after '\"'\nSkipping line 32420: ',' expected after '\"'\nSkipping line 32436: ',' expected after '\"'\nSkipping line 32440: ',' expected after '\"'\nSkipping line 32441: ',' expected after '\"'\nSkipping line 32442: ',' expected after '\"'\nSkipping line 32489: ',' expected after '\"'\nSkipping line 32503: ',' expected after '\"'\nSkipping line 32534: ',' expected after '\"'\nSkipping line 32538: ',' expected after '\"'\nSkipping line 32540: ',' expected after '\"'\nSkipping line 32544: ',' expected after '\"'\nSkipping line 32559: ',' expected after '\"'\nSkipping line 32576: ',' expected after '\"'\nSkipping line 32577: ',' expected after '\"'\nSkipping line 32578: ',' expected after '\"'\nSkipping line 32583: ',' expected after '\"'\nSkipping line 32639: ',' expected after '\"'\nSkipping line 32710: ',' expected after '\"'\nSkipping line 32717: ',' expected after '\"'\nSkipping line 32722: ',' expected after '\"'\nSkipping line 32736: ',' expected after '\"'\nSkipping line 32744: ',' expected after '\"'\nSkipping line 32814: ',' expected after '\"'\nSkipping line 32815: ',' expected after '\"'\nSkipping line 32840: ',' expected after '\"'\nSkipping line 32845: ',' expected after '\"'\nSkipping line 32849: ',' expected after '\"'\nSkipping line 32891: ',' expected after '\"'\nSkipping line 32894: ',' expected after '\"'\nSkipping line 32920: ',' expected after '\"'\nSkipping line 33002: ',' expected after '\"'\nSkipping line 33036: ',' expected after '\"'\nSkipping line 33042: ',' expected after '\"'\nSkipping line 33101: ',' expected after '\"'\nSkipping line 33124: ',' expected after '\"'\nSkipping line 33125: ',' expected after '\"'\nSkipping line 33130: ',' expected after '\"'\nSkipping line 33131: ',' expected after '\"'\nSkipping line 33147: ',' expected after '\"'\nSkipping line 33157: ',' expected after '\"'\nSkipping line 33246: ',' expected after '\"'\nSkipping line 33254: ',' expected after '\"'\nSkipping line 33268: ',' expected after '\"'\nSkipping line 33286: ',' expected after '\"'\nSkipping line 33288: ',' expected after '\"'\nSkipping line 33312: ',' expected after '\"'\nSkipping line 33373: ',' expected after '\"'\nSkipping line 33400: ',' expected after '\"'\nSkipping line 33411: ',' expected after '\"'\nSkipping line 33417: ',' expected after '\"'\nSkipping line 33420: ',' expected after '\"'\nSkipping line 33442: ',' expected after '\"'\nSkipping line 33452: ',' expected after '\"'\nSkipping line 33457: ',' expected after '\"'\nSkipping line 33459: ',' expected after '\"'\nSkipping line 33460: ',' expected after '\"'\nSkipping line 33477: ',' expected after '\"'\nSkipping line 33491: ',' expected after '\"'\nSkipping line 33536: ',' expected after '\"'\nSkipping line 33680: ',' expected after '\"'\nSkipping line 33695: ',' expected after '\"'\nSkipping line 33721: ',' expected after '\"'\nSkipping line 33723: ',' expected after '\"'\nSkipping line 33733: ',' expected after '\"'\nSkipping line 33745: ',' expected after '\"'\nSkipping line 33746: ',' expected after '\"'\nSkipping line 33775: ',' expected after '\"'\nSkipping line 33798: ',' expected after '\"'\nSkipping line 33839: ',' expected after '\"'\nSkipping line 33849: ',' expected after '\"'\nSkipping line 33850: ',' expected after '\"'\nSkipping line 33856: ',' expected after '\"'\nSkipping line 33865: ',' expected after '\"'\nSkipping line 33884: ',' expected after '\"'\nSkipping line 33899: ',' expected after '\"'\nSkipping line 33909: ',' expected after '\"'\nSkipping line 33967: ',' expected after '\"'\nSkipping line 33972: ',' expected after '\"'\nSkipping line 33974: ',' expected after '\"'\nSkipping line 33982: ',' expected after '\"'\nSkipping line 34011: ',' expected after '\"'\nSkipping line 34031: ',' expected after '\"'\nSkipping line 34062: ',' expected after '\"'\nSkipping line 34109: ',' expected after '\"'\nSkipping line 34131: ',' expected after '\"'\nSkipping line 34139: ',' expected after '\"'\nSkipping line 34155: ',' expected after '\"'\nSkipping line 34166: ',' expected after '\"'\nSkipping line 34173: ',' expected after '\"'\nSkipping line 34213: ',' expected after '\"'\nSkipping line 34232: ',' expected after '\"'\nSkipping line 34235: ',' expected after '\"'\nSkipping line 34284: ',' expected after '\"'\nSkipping line 34308: ',' expected after '\"'\nSkipping line 34317: ',' expected after '\"'\nSkipping line 34331: ',' expected after '\"'\nSkipping line 34346: ',' expected after '\"'\nSkipping line 34353: ',' expected after '\"'\nSkipping line 34363: ',' expected after '\"'\nSkipping line 34371: ',' expected after '\"'\nSkipping line 34376: ',' expected after '\"'\nSkipping line 34405: ',' expected after '\"'\nSkipping line 34407: ',' expected after '\"'\nSkipping line 34420: ',' expected after '\"'\nSkipping line 34436: ',' expected after '\"'\nSkipping line 34465: ',' expected after '\"'\nSkipping line 34507: ',' expected after '\"'\nSkipping line 34540: ',' expected after '\"'\nSkipping line 34548: ',' expected after '\"'\nSkipping line 34589: ',' expected after '\"'\nSkipping line 34620: ',' expected after '\"'\nSkipping line 34629: ',' expected after '\"'\nSkipping line 34652: ',' expected after '\"'\nSkipping line 34670: ',' expected after '\"'\nSkipping line 34702: ',' expected after '\"'\nSkipping line 34733: ',' expected after '\"'\nSkipping line 34771: ',' expected after '\"'\nSkipping line 34775: ',' expected after '\"'\nSkipping line 34790: ',' expected after '\"'\nSkipping line 34809: ',' expected after '\"'\nSkipping line 34846: ',' expected after '\"'\nSkipping line 34847: ',' expected after '\"'\nSkipping line 34850: ',' expected after '\"'\nSkipping line 34869: ',' expected after '\"'\nSkipping line 34874: ',' expected after '\"'\nSkipping line 34919: ',' expected after '\"'\nSkipping line 34943: ',' expected after '\"'\nSkipping line 34954: ',' expected after '\"'\nSkipping line 34975: ',' expected after '\"'\nSkipping line 34978: ',' expected after '\"'\nSkipping line 34981: ',' expected after '\"'\nSkipping line 35016: ',' expected after '\"'\nSkipping line 35044: ',' expected after '\"'\nSkipping line 35070: ',' expected after '\"'\nSkipping line 35165: ',' expected after '\"'\nSkipping line 35183: ',' expected after '\"'\nSkipping line 35202: ',' expected after '\"'\nSkipping line 35216: ',' expected after '\"'\nSkipping line 35220: ',' expected after '\"'\nSkipping line 35226: ',' expected after '\"'\nSkipping line 35250: ',' expected after '\"'\nSkipping line 35251: ',' expected after '\"'\nSkipping line 35263: ',' expected after '\"'\nSkipping line 35276: ',' expected after '\"'\nSkipping line 35302: ',' expected after '\"'\nSkipping line 35306: ',' expected after '\"'\nSkipping line 35318: ',' expected after '\"'\nSkipping line 35347: ',' expected after '\"'\nSkipping line 35362: ',' expected after '\"'\nSkipping line 35394: ',' expected after '\"'\nSkipping line 35399: ',' expected after '\"'\nSkipping line 35421: ',' expected after '\"'\nSkipping line 35440: ',' expected after '\"'\nSkipping line 35590: ',' expected after '\"'\nSkipping line 35625: ',' expected after '\"'\nSkipping line 35653: ',' expected after '\"'\nSkipping line 35654: ',' expected after '\"'\nSkipping line 35705: ',' expected after '\"'\nSkipping line 35739: ',' expected after '\"'\nSkipping line 35783: ',' expected after '\"'\nSkipping line 35829: ',' expected after '\"'\nSkipping line 35832: ',' expected after '\"'\nSkipping line 35854: ',' expected after '\"'\nSkipping line 35872: ',' expected after '\"'\nSkipping line 35897: ',' expected after '\"'\nSkipping line 35917: ',' expected after '\"'\nSkipping line 35995: ',' expected after '\"'\nSkipping line 36055: ',' expected after '\"'\nSkipping line 36057: ',' expected after '\"'\nSkipping line 36069: ',' expected after '\"'\nSkipping line 36074: ',' expected after '\"'\nSkipping line 36078: ',' expected after '\"'\nSkipping line 36080: ',' expected after '\"'\nSkipping line 36082: ',' expected after '\"'\nSkipping line 36122: ',' expected after '\"'\nSkipping line 36129: ',' expected after '\"'\nSkipping line 36133: ',' expected after '\"'\nSkipping line 36180: ',' expected after '\"'\nSkipping line 36187: ',' expected after '\"'\nSkipping line 36235: ',' expected after '\"'\nSkipping line 36236: ',' expected after '\"'\nSkipping line 36244: ',' expected after '\"'\nSkipping line 36254: ',' expected after '\"'\nSkipping line 36264: ',' expected after '\"'\nSkipping line 36266: ',' expected after '\"'\nSkipping line 36270: ',' expected after '\"'\nSkipping line 36286: ',' expected after '\"'\nSkipping line 36292: ',' expected after '\"'\nSkipping line 36293: ',' expected after '\"'\nSkipping line 36312: ',' expected after '\"'\nSkipping line 36605: ',' expected after '\"'\nSkipping line 36780: ',' expected after '\"'\nSkipping line 36848: ',' expected after '\"'\nSkipping line 36913: ',' expected after '\"'\nSkipping line 36934: ',' expected after '\"'\nSkipping line 36959: ',' expected after '\"'\nSkipping line 37018: ',' expected after '\"'\nSkipping line 37108: ',' expected after '\"'\nSkipping line 37257: ',' expected after '\"'\nSkipping line 37325: ',' expected after '\"'\nSkipping line 37446: ',' expected after '\"'\nSkipping line 37470: ',' expected after '\"'\nSkipping line 37603: ',' expected after '\"'\nSkipping line 38135: ',' expected after '\"'\nSkipping line 38142: ',' expected after '\"'\nSkipping line 38190: ',' expected after '\"'\nSkipping line 38258: ',' expected after '\"'\nSkipping line 38327: ',' expected after '\"'\nSkipping line 38342: ',' expected after '\"'\nSkipping line 38347: ',' expected after '\"'\nSkipping line 38370: ',' expected after '\"'\nSkipping line 38371: ',' expected after '\"'\nSkipping line 38441: ',' expected after '\"'\nSkipping line 38544: ',' expected after '\"'\nSkipping line 38580: ',' expected after '\"'\nSkipping line 38584: ',' expected after '\"'\nSkipping line 38592: ',' expected after '\"'\nSkipping line 38628: ',' expected after '\"'\nSkipping line 38659: ',' expected after '\"'\nSkipping line 38735: ',' expected after '\"'\nSkipping line 38797: ',' expected after '\"'\nSkipping line 38849: ',' expected after '\"'\nSkipping line 38862: ',' expected after '\"'\nSkipping line 38913: ',' expected after '\"'\nSkipping line 38916: ',' expected after '\"'\nSkipping line 39013: ',' expected after '\"'\nSkipping line 39067: ',' expected after '\"'\nSkipping line 39081: ',' expected after '\"'\nSkipping line 39136: ',' expected after '\"'\nSkipping line 39143: ',' expected after '\"'\nSkipping line 39175: ',' expected after '\"'\nSkipping line 39249: ',' expected after '\"'\nSkipping line 39305: ',' expected after '\"'\nSkipping line 39343: ',' expected after '\"'\nSkipping line 39344: ',' expected after '\"'\nSkipping line 39369: ',' expected after '\"'\nSkipping line 39378: ',' expected after '\"'\nSkipping line 39699: ',' expected after '\"'\nSkipping line 39882: ',' expected after '\"'\nSkipping line 40055: ',' expected after '\"'\nSkipping line 40122: ',' expected after '\"'\nSkipping line 40158: ',' expected after '\"'\nSkipping line 40162: ',' expected after '\"'\nSkipping line 40166: ',' expected after '\"'\nSkipping line 40211: ',' expected after '\"'\nSkipping line 40229: ',' expected after '\"'\nSkipping line 40275: ',' expected after '\"'\nSkipping line 40399: ',' expected after '\"'\nSkipping line 40407: ',' expected after '\"'\nSkipping line 40490: ',' expected after '\"'\nSkipping line 40575: ',' expected after '\"'\nSkipping line 40592: ',' expected after '\"'\nSkipping line 40605: ',' expected after '\"'\nSkipping line 40627: ',' expected after '\"'\nSkipping line 40669: ',' expected after '\"'\nSkipping line 40691: ',' expected after '\"'\nSkipping line 40743: ',' expected after '\"'\nSkipping line 40750: ',' expected after '\"'\nSkipping line 40832: ',' expected after '\"'\nSkipping line 40904: ',' expected after '\"'\nSkipping line 40907: ',' expected after '\"'\nSkipping line 40929: ',' expected after '\"'\nSkipping line 40941: ',' expected after '\"'\nSkipping line 40999: ',' expected after '\"'\nSkipping line 41007: ',' expected after '\"'\nSkipping line 41024: ',' expected after '\"'\nSkipping line 41156: ',' expected after '\"'\nSkipping line 41164: ',' expected after '\"'\nSkipping line 41425: ',' expected after '\"'\nSkipping line 41447: ',' expected after '\"'\nSkipping line 41450: ',' expected after '\"'\nSkipping line 41542: ',' expected after '\"'\nSkipping line 41653: ',' expected after '\"'\nSkipping line 41746: ',' expected after '\"'\nSkipping line 41748: ',' expected after '\"'\nSkipping line 41810: ',' expected after '\"'\nSkipping line 41817: ',' expected after '\"'\nSkipping line 41818: ',' expected after '\"'\nSkipping line 41848: ',' expected after '\"'\nSkipping line 41884: ',' expected after '\"'\nSkipping line 41888: ',' expected after '\"'\nSkipping line 41923: ',' expected after '\"'\nSkipping line 41933: ',' expected after '\"'\nSkipping line 41950: ',' expected after '\"'\nSkipping line 41952: ',' expected after '\"'\nSkipping line 41957: ',' expected after '\"'\nSkipping line 41982: ',' expected after '\"'\nSkipping line 42002: ',' expected after '\"'\nSkipping line 42048: ',' expected after '\"'\nSkipping line 42075: ',' expected after '\"'\nSkipping line 42079: ',' expected after '\"'\nSkipping line 42109: ',' expected after '\"'\nSkipping line 42133: ',' expected after '\"'\nSkipping line 42137: ',' expected after '\"'\nSkipping line 42138: ',' expected after '\"'\nSkipping line 42147: ',' expected after '\"'\nSkipping line 42176: ',' expected after '\"'\nSkipping line 42177: ',' expected after '\"'\nSkipping line 42178: ',' expected after '\"'\nSkipping line 42198: ',' expected after '\"'\nSkipping line 42245: ',' expected after '\"'\nSkipping line 42248: ',' expected after '\"'\nSkipping line 42267: ',' expected after '\"'\nSkipping line 42295: ',' expected after '\"'\nSkipping line 42309: ',' expected after '\"'\nSkipping line 42340: ',' expected after '\"'\nSkipping line 42365: ',' expected after '\"'\nSkipping line 42373: ',' expected after '\"'\nSkipping line 42376: ',' expected after '\"'\nSkipping line 42395: ',' expected after '\"'\nSkipping line 42428: ',' expected after '\"'\nSkipping line 42462: ',' expected after '\"'\nSkipping line 42479: ',' expected after '\"'\nSkipping line 42496: ',' expected after '\"'\nSkipping line 42563: ',' expected after '\"'\nSkipping line 42587: ',' expected after '\"'\nSkipping line 42598: ',' expected after '\"'\nSkipping line 42619: ',' expected after '\"'\nSkipping line 42625: ',' expected after '\"'\nSkipping line 42662: ',' expected after '\"'\nSkipping line 42767: ',' expected after '\"'\nSkipping line 42776: ',' expected after '\"'\nSkipping line 42836: ',' expected after '\"'\nSkipping line 42852: ',' expected after '\"'\nSkipping line 42888: ',' expected after '\"'\nSkipping line 42897: unexpected end of data\nSkipping line 32926: Expected 47 fields in line 32926, saw 51\nSkipping line 41499: Expected 47 fields in line 41499, saw 48\n"
    }
   ],
   "source": [
    "df = pd.read_csv('reduced1.csv', header=0, error_bad_lines=False, engine=\"python\");"
   ]
  },
  {
   "cell_type": "code",
   "execution_count": 77,
   "metadata": {},
   "outputs": [],
   "source": [
    "columns = df.columns\n",
    "str_cols = df.select_dtypes('object').columns\n"
   ]
  },
  {
   "cell_type": "code",
   "execution_count": 78,
   "metadata": {},
   "outputs": [],
   "source": [
    "delete = [s for s in df.columns.values if 'DELETE - ' in s]   #columns have delete in name\n",
    "boundary = [s for s in df.columns.values if 'Boundary' in s]   #columns have boundary in name\n",
    "floatcols = df.select_dtypes(include='float64').columns\n"
   ]
  },
  {
   "cell_type": "code",
   "execution_count": 79,
   "metadata": {},
   "outputs": [],
   "source": [
    "class wrangler:\n",
    "    #class vars\n",
    "    dropcols = list() #list to store columns to drop\n",
    "    droprows = dict() #row boolean filters\n",
    "    dropcols_post = list()\n",
    "    bool_filters = dict() # list of name, expression tuples , or dict?\n",
    "\n",
    "    encoders = dict() # colname, function to be applied to elements\n",
    "    def calc_lt_005_cat(self, df): \n",
    "        return df.Category.value_counts()[df.Category.value_counts(normalize=True).values < .005]\n",
    "\n",
    "    def __init__(self, data):\n",
    "        self.raw_df = data.copy()  \n",
    "        self.working = self.raw_df.copy()\n",
    "    #methods\n",
    "    def set_data(self,df):          # reset dataframe to new df\n",
    "        print('set data to df', df.shape)\n",
    "        self.raw_df= df.copy()\n",
    "        self.working = self.raw_df.copy()\n",
    "        return working\n",
    "    def add_to_dropcols(self,labels):\n",
    "        for l in labels:\n",
    "            if l in self.dropcols:\n",
    "                print('error column already in dropcols list')\n",
    "                break\n",
    "                return self.dropcols\n",
    "        self.dropcols.extend(labels)\n",
    "        return self.dropcols\n",
    "\n",
    "    def get_dropcols(self):\n",
    "        if not self.dropcols: \n",
    "            print('no columns to drop')\n",
    "        return self.dropcols\n",
    "    def clear_dropcols(self):\n",
    "        self.dropcols=list()\n",
    "        return True\n",
    "    def get_nancols(self, df=None, store=False):\n",
    "        if df is None: \n",
    "            df=self.working\n",
    "        cols =df.columns\n",
    "        nc=df[cols].isnull().sum().index.tolist()\n",
    "        if store:\n",
    "            self.nancols = nc\n",
    "        return nc\n",
    "    def add_to_droprows(self, name, expr):\n",
    "        self.droprows[name] = expr \n",
    "        return self.droprows\n",
    "\n",
    "    def get_params(self):\n",
    "        pass\n",
    "        #return all wrangler settings \n",
    "    def set_nanval(self):\n",
    "        pass \n",
    "       # self.nanvals add self to \n",
    "    def add_bool_filter(self, label, expr):  #\n",
    "        self.bool_filters[label] = expr\n",
    "        return self.bool_filters\n",
    "    def add_encoding(self, label, mapper):\n",
    "        try:\n",
    "            label in self.working.columns\n",
    "        except:\n",
    "            print(label, 'not found in working copy, may have been dropped')\n",
    "            assert label in self.raw_df.columns\n",
    "        self.encoders[label]= mapper\n",
    "\n",
    "#internal \n",
    "    def drop_rows_by_mask(self,df=None,labels=None):\n",
    "        if df is None:\n",
    "            df=self.working\n",
    "        if labels is None:\n",
    "            print('dropping all in droprows..')\n",
    "            if self.droprows:\n",
    "                labels = list(self.droprows.keys())\n",
    "        mask = self.droprows[labels[0]]  #get first boolean mask\n",
    "        for l in labels: \n",
    "            print('\\napplying mask: ',l )\n",
    "            mask = mask | self.droprows[l]   #or them all together\n",
    "        df.drop(index=df[mask].index,inplace=True)\n",
    "        \n",
    "        return df \n",
    "    def drop_dupes(self, df=None):\n",
    "        if df is None:\n",
    "            df=self.working\n",
    "        todropindex = df[df.duplicated()].index\n",
    "        df.drop(todropindex,axis=0, inplace=True)\n",
    "        return df\n",
    "\n",
    "    def drop_columns(self,df=None, list=None):\n",
    "        if df is None:\n",
    "            df = self.working\n",
    "        if list is None: \n",
    "            list= self.dropcols\n",
    "        #todo check dropcols present in df.columns\n",
    "        return df.drop(labels=self.dropcols, axis=1, inplace=True)\n",
    "    def drop_columns_post(self):\n",
    "        drop_columns(list=dropcols_post)\n",
    "    \n",
    "    def encode(self,df=None):                      \n",
    "        if df is None: \n",
    "            df=self.working\n",
    "            print('/n Encoding, changing working copy..')\n",
    "        for k in list(self.encoders.keys()):\n",
    "            print('/n  ... encoding column: ',k)\n",
    "            df[k] = df[k].map(self.encoders[k])\n",
    "        return df\n",
    "    def to_datetime(self, cols=None, df=None):\n",
    "        if df is None:\n",
    "            df=self.working\n",
    "            print('\\nworking df is being changed..')\n",
    "        if cols is None:\n",
    "            cols=self.dt_cols\n",
    "        for c in cols:\n",
    "            print('converting',c,'to datetime')\n",
    "            try:\n",
    "                df[c] = pd.to_datetime(df[c],infer_datetime_format=True)  #inplace \n",
    "            except: \n",
    "                print('error - possible this column needs cleaning')\n",
    "        return df\n",
    "\n",
    "       \n",
    "    def make_feature(self,newlabel,input,fun):      #make or overwrite column newlabel\n",
    "        df=self.working\n",
    "        try:\n",
    "            df[newlabel] = df[input].apply(fun, axis=1)  #or map or tranform?\n",
    "            print('\\nadded feature:', newlabel)\n",
    "        except:\n",
    "            print('there was a problem, not added!!')\n",
    "            return False\n",
    "        return True\n",
    "    \n",
    "\n",
    "    order_default = [drop_rows_by_mask,\n",
    "                    drop_columns, \n",
    "                    drop_dupes,\n",
    "                    encode,\n",
    "                    drop_columns_post]   #list of methods in order of application\n",
    "\n",
    "    def wrangle(self, df=None):\n",
    "        if df is None:\n",
    "            df =self.raw_df.copy() # start from the beginning \n",
    "            result = df\n",
    "            print('will apply :', self.order_default)\n",
    "            for f in self.order_default:\n",
    "                print('level')\n",
    "                result = f(result)\n",
    "        return result\n",
    "## instantiate  a wrangler and setup drops and encoding. \n",
    "## run methods on the internal working copy to iterate \n",
    "## to test entire workflow, run wrangle() with the default to process the orginal data in order defined \n",
    "## "
   ]
  },
  {
   "cell_type": "code",
   "execution_count": 80,
   "metadata": {},
   "outputs": [],
   "source": [
    "##define settings here \n",
    "test = wrangler(df)   \n",
    "test.clear_dropcols()\n",
    "\n",
    "test.add_to_dropcols(delete)\n",
    "\n",
    "test.add_to_dropcols(['Point'])  ##redundant w/ lat long, but may use for geospatial later\n",
    "\n",
    "missing_to_0 = lambda x : 0 if math.isnan(x) else int(x)   #convert float to int, nan to zeros\n",
    "test.add_encoding('Analysis Neighborhoods', missing_to_0)  #convert neigborhoods\n",
    "test.add_encoding('Neighborhoods', missing_to_0) \n",
    "##\n",
    "\n",
    "test.add_encoding('Media URL', lambda x : 'present' if type(x) == str else 'missing')\n",
    "\n",
    "def caseid_to_int (x):    #convert good caseids to int, bad to zero for drop\n",
    "    try:\n",
    "        i = int(x)\n",
    "    except:\n",
    "        i = 0   \n",
    "        return 0      #strings are converted to zero for dropping \n",
    "    return i\n",
    "test.droprows['drop_missing_caseid'] = df.CaseID.map(caseid_to_int) == 0    #mask to drop rows with no caseid\n",
    "\n",
    "test.add_encoding('CaseID', caseid_to_int)        #can be done any order\n"
   ]
  },
  {
   "cell_type": "code",
   "execution_count": 81,
   "metadata": {
    "tags": []
   },
   "outputs": [],
   "source": [
    "\n",
    "##drop \n",
    "\n",
    "nopen = df.Opened.isnull()    # bad records \n",
    "\n",
    "test.droprows['drop null open date'] = nopen #migh be fixed by  missing caseID?\n",
    "\n",
    "nclosed= df.Closed.isnull()   # some are really opn\n",
    "nupdated = df.Updated.isnull()\n",
    "\n",
    "muni = df.Category== 'MUNI Feedback'   #bus complaints we dont want\n",
    "\n",
    "test.add_to_droprows('muni', muni);"
   ]
  },
  {
   "cell_type": "code",
   "execution_count": 82,
   "metadata": {},
   "outputs": [],
   "source": [
    "catcounts = test.working.Category.value_counts()\n",
    "single =catcounts.values ==1\n",
    "badcats = catcounts[single].index\n",
    "badcats = df.Category.isin( badcats)  #mask\n",
    "test.add_to_droprows('singlecategories', badcats);\n"
   ]
  },
  {
   "cell_type": "code",
   "execution_count": 83,
   "metadata": {},
   "outputs": [],
   "source": [
    "\n",
    "hoodcols = list()\n",
    "for c in df.columns:\n",
    "    if 'Neighborhood' in c:\n",
    "        hoodcols.append(c)\n",
    "\n",
    "dt_cols = ['Opened','Closed','Updated']\n",
    "test.dt_cols = dt_cols"
   ]
  },
  {
   "cell_type": "code",
   "execution_count": 84,
   "metadata": {
    "tags": []
   },
   "outputs": [
    {
     "output_type": "execute_result",
     "data": {
      "text/plain": "[<function __main__.wrangler.drop_rows_by_mask(self, df=None, labels=None)>,\n <function __main__.wrangler.drop_columns(self, df=None, list=None)>,\n <function __main__.wrangler.drop_dupes(self, df=None)>,\n <function __main__.wrangler.encode(self, df=None)>,\n <function __main__.wrangler.drop_columns_post(self)>]"
     },
     "metadata": {},
     "execution_count": 84
    }
   ],
   "source": [
    "test.order_default  # this is the order we want to run preprocessing in "
   ]
  },
  {
   "cell_type": "code",
   "execution_count": 85,
   "metadata": {
    "tags": []
   },
   "outputs": [
    {
     "output_type": "stream",
     "name": "stdout",
     "text": "drop rows:  dict_keys(['drop_missing_caseid', 'drop null open date', 'muni', 'singlecategories'])\n[   'DELETE - Supervisor Districts',\n    'DELETE - Fire Prevention Districts',\n    'DELETE - Current Police Districts',\n    'DELETE - Zip Codes',\n    'DELETE - Police Districts',\n    'DELETE - Neighborhoods',\n    'DELETE - Neighborhoods_from_fyvs_ahh9',\n    'DELETE - 2017 Fix It Zones',\n    'DELETE - SF Find Neighborhoods',\n    'DELETE - Current Supervisor Districts',\n    'DELETE - HSOC Zones',\n    'Point']\nencode:  dict_keys(['Analysis Neighborhoods', 'Neighborhoods', 'Media URL', 'CaseID'])\n"
    }
   ],
   "source": [
    "import pprint\n",
    "pp = pprint.PrettyPrinter(indent=4)\n",
    "\n",
    "print('drop rows: ', test.droprows.keys())\n",
    "pp.pprint( test.dropcols)\n",
    "print('encode: ', test.encoders.keys())"
   ]
  },
  {
   "cell_type": "code",
   "execution_count": 111,
   "metadata": {},
   "outputs": [
    {
     "output_type": "execute_result",
     "data": {
      "text/plain": "{'Analysis Neighborhoods': <function __main__.<lambda>(x)>,\n 'Neighborhoods': <function __main__.<lambda>(x)>,\n 'Media URL': <function __main__.<lambda>(x)>,\n 'CaseID': <function __main__.caseid_to_int(x)>,\n 'Category': <function __main__.<lambda>(cat)>}"
     },
     "metadata": {},
     "execution_count": 111
    }
   ],
   "source": [
    "test.dropcols_post=['Point']\n",
    "\n",
    "test.add_encoding('Category', lambda cat : 'other' if cat in self.calc_lt_005_cat(self.working).index.tolist() else cat)\n",
    "test.encoders"
   ]
  },
  {
   "cell_type": "code",
   "execution_count": 87,
   "metadata": {
    "tags": []
   },
   "outputs": [
    {
     "output_type": "stream",
     "name": "stdout",
     "text": "dropping all in droprows..\n\napplying mask:  drop_missing_caseid\n\napplying mask:  drop null open date\n\napplying mask:  muni\n\napplying mask:  singlecategories\n\nworking df is being changed..\nconverting Opened to datetime\nconverting Closed to datetime\nconverting Updated to datetime\n/n Encoding, changing working copy..\n/n  ... encoding column:  Analysis Neighborhoods\n/n  ... encoding column:  Neighborhoods\n/n  ... encoding column:  Media URL\n/n  ... encoding column:  CaseID\n\nadded feature: ttr\n"
    },
    {
     "output_type": "execute_result",
     "data": {
      "text/plain": "True"
     },
     "metadata": {},
     "execution_count": 87
    }
   ],
   "source": [
    "## run  some of the setup functionality \n",
    "test.drop_rows_by_mask()\n",
    "test.drop_dupes()\n",
    "test.to_datetime();\n",
    "test.encode();\n",
    "test.drop_columns(list=test.dropcols_post)\n",
    "test.make_feature('ttr',['Opened','Closed'],lambda x : x[1]-x[0])"
   ]
  },
  {
   "cell_type": "code",
   "execution_count": 88,
   "metadata": {},
   "outputs": [
    {
     "output_type": "display_data",
     "data": {
      "text/plain": "<Figure size 720x360 with 1 Axes>",
      "image/svg+xml": "<?xml version=\"1.0\" encoding=\"utf-8\" standalone=\"no\"?>\n<!DOCTYPE svg PUBLIC \"-//W3C//DTD SVG 1.1//EN\"\n  \"http://www.w3.org/Graphics/SVG/1.1/DTD/svg11.dtd\">\n<!-- Created with matplotlib (https://matplotlib.org/) -->\n<svg height=\"321.024063pt\" version=\"1.1\" viewBox=\"0 0 622.995938 321.024063\" width=\"622.995938pt\" xmlns=\"http://www.w3.org/2000/svg\" xmlns:xlink=\"http://www.w3.org/1999/xlink\">\n <defs>\n  <style type=\"text/css\">\n*{stroke-linecap:butt;stroke-linejoin:round;}\n  </style>\n </defs>\n <g id=\"figure_1\">\n  <g id=\"patch_1\">\n   <path d=\"M 0 321.024063 \nL 622.995938 321.024063 \nL 622.995938 0 \nL 0 0 \nz\n\" style=\"fill:none;\"/>\n  </g>\n  <g id=\"axes_1\">\n   <g id=\"patch_2\">\n    <path d=\"M 57.795938 279 \nL 615.795938 279 \nL 615.795938 7.2 \nL 57.795938 7.2 \nz\n\" style=\"fill:#ffffff;\"/>\n   </g>\n   <g id=\"matplotlib.axis_1\">\n    <g id=\"xtick_1\">\n     <g id=\"text_1\">\n      <!-- 0 -->\n      <defs>\n       <path d=\"M 31.78125 66.40625 \nQ 24.171875 66.40625 20.328125 58.90625 \nQ 16.5 51.421875 16.5 36.375 \nQ 16.5 21.390625 20.328125 13.890625 \nQ 24.171875 6.390625 31.78125 6.390625 \nQ 39.453125 6.390625 43.28125 13.890625 \nQ 47.125 21.390625 47.125 36.375 \nQ 47.125 51.421875 43.28125 58.90625 \nQ 39.453125 66.40625 31.78125 66.40625 \nz\nM 31.78125 74.21875 \nQ 44.046875 74.21875 50.515625 64.515625 \nQ 56.984375 54.828125 56.984375 36.375 \nQ 56.984375 17.96875 50.515625 8.265625 \nQ 44.046875 -1.421875 31.78125 -1.421875 \nQ 19.53125 -1.421875 13.0625 8.265625 \nQ 6.59375 17.96875 6.59375 36.375 \nQ 6.59375 54.828125 13.0625 64.515625 \nQ 19.53125 74.21875 31.78125 74.21875 \nz\n\" id=\"DejaVuSans-48\"/>\n      </defs>\n      <g style=\"fill:#262626;\" transform=\"translate(61.257545 297.098437)scale(0.1 -0.1)\">\n       <use xlink:href=\"#DejaVuSans-48\"/>\n      </g>\n     </g>\n    </g>\n    <g id=\"xtick_2\">\n     <g id=\"text_2\">\n      <!-- 1 -->\n      <defs>\n       <path d=\"M 12.40625 8.296875 \nL 28.515625 8.296875 \nL 28.515625 63.921875 \nL 10.984375 60.40625 \nL 10.984375 69.390625 \nL 28.421875 72.90625 \nL 38.28125 72.90625 \nL 38.28125 8.296875 \nL 54.390625 8.296875 \nL 54.390625 0 \nL 12.40625 0 \nz\n\" id=\"DejaVuSans-49\"/>\n      </defs>\n      <g style=\"fill:#262626;\" transform=\"translate(74.543259 297.098437)scale(0.1 -0.1)\">\n       <use xlink:href=\"#DejaVuSans-49\"/>\n      </g>\n     </g>\n    </g>\n    <g id=\"xtick_3\">\n     <g id=\"text_3\">\n      <!-- 2 -->\n      <defs>\n       <path d=\"M 19.1875 8.296875 \nL 53.609375 8.296875 \nL 53.609375 0 \nL 7.328125 0 \nL 7.328125 8.296875 \nQ 12.9375 14.109375 22.625 23.890625 \nQ 32.328125 33.6875 34.8125 36.53125 \nQ 39.546875 41.84375 41.421875 45.53125 \nQ 43.3125 49.21875 43.3125 52.78125 \nQ 43.3125 58.59375 39.234375 62.25 \nQ 35.15625 65.921875 28.609375 65.921875 \nQ 23.96875 65.921875 18.8125 64.3125 \nQ 13.671875 62.703125 7.8125 59.421875 \nL 7.8125 69.390625 \nQ 13.765625 71.78125 18.9375 73 \nQ 24.125 74.21875 28.421875 74.21875 \nQ 39.75 74.21875 46.484375 68.546875 \nQ 53.21875 62.890625 53.21875 53.421875 \nQ 53.21875 48.921875 51.53125 44.890625 \nQ 49.859375 40.875 45.40625 35.40625 \nQ 44.1875 33.984375 37.640625 27.21875 \nQ 31.109375 20.453125 19.1875 8.296875 \nz\n\" id=\"DejaVuSans-50\"/>\n      </defs>\n      <g style=\"fill:#262626;\" transform=\"translate(87.828973 297.098437)scale(0.1 -0.1)\">\n       <use xlink:href=\"#DejaVuSans-50\"/>\n      </g>\n     </g>\n    </g>\n    <g id=\"xtick_4\">\n     <g id=\"text_4\">\n      <!-- 3 -->\n      <defs>\n       <path d=\"M 40.578125 39.3125 \nQ 47.65625 37.796875 51.625 33 \nQ 55.609375 28.21875 55.609375 21.1875 \nQ 55.609375 10.40625 48.1875 4.484375 \nQ 40.765625 -1.421875 27.09375 -1.421875 \nQ 22.515625 -1.421875 17.65625 -0.515625 \nQ 12.796875 0.390625 7.625 2.203125 \nL 7.625 11.71875 \nQ 11.71875 9.328125 16.59375 8.109375 \nQ 21.484375 6.890625 26.8125 6.890625 \nQ 36.078125 6.890625 40.9375 10.546875 \nQ 45.796875 14.203125 45.796875 21.1875 \nQ 45.796875 27.640625 41.28125 31.265625 \nQ 36.765625 34.90625 28.71875 34.90625 \nL 20.21875 34.90625 \nL 20.21875 43.015625 \nL 29.109375 43.015625 \nQ 36.375 43.015625 40.234375 45.921875 \nQ 44.09375 48.828125 44.09375 54.296875 \nQ 44.09375 59.90625 40.109375 62.90625 \nQ 36.140625 65.921875 28.71875 65.921875 \nQ 24.65625 65.921875 20.015625 65.03125 \nQ 15.375 64.15625 9.8125 62.3125 \nL 9.8125 71.09375 \nQ 15.4375 72.65625 20.34375 73.4375 \nQ 25.25 74.21875 29.59375 74.21875 \nQ 40.828125 74.21875 47.359375 69.109375 \nQ 53.90625 64.015625 53.90625 55.328125 \nQ 53.90625 49.265625 50.4375 45.09375 \nQ 46.96875 40.921875 40.578125 39.3125 \nz\n\" id=\"DejaVuSans-51\"/>\n      </defs>\n      <g style=\"fill:#262626;\" transform=\"translate(101.114688 297.098437)scale(0.1 -0.1)\">\n       <use xlink:href=\"#DejaVuSans-51\"/>\n      </g>\n     </g>\n    </g>\n    <g id=\"xtick_5\">\n     <g id=\"text_5\">\n      <!-- 4 -->\n      <defs>\n       <path d=\"M 37.796875 64.3125 \nL 12.890625 25.390625 \nL 37.796875 25.390625 \nz\nM 35.203125 72.90625 \nL 47.609375 72.90625 \nL 47.609375 25.390625 \nL 58.015625 25.390625 \nL 58.015625 17.1875 \nL 47.609375 17.1875 \nL 47.609375 0 \nL 37.796875 0 \nL 37.796875 17.1875 \nL 4.890625 17.1875 \nL 4.890625 26.703125 \nz\n\" id=\"DejaVuSans-52\"/>\n      </defs>\n      <g style=\"fill:#262626;\" transform=\"translate(114.400402 297.098437)scale(0.1 -0.1)\">\n       <use xlink:href=\"#DejaVuSans-52\"/>\n      </g>\n     </g>\n    </g>\n    <g id=\"xtick_6\">\n     <g id=\"text_6\">\n      <!-- 5 -->\n      <defs>\n       <path d=\"M 10.796875 72.90625 \nL 49.515625 72.90625 \nL 49.515625 64.59375 \nL 19.828125 64.59375 \nL 19.828125 46.734375 \nQ 21.96875 47.46875 24.109375 47.828125 \nQ 26.265625 48.1875 28.421875 48.1875 \nQ 40.625 48.1875 47.75 41.5 \nQ 54.890625 34.8125 54.890625 23.390625 \nQ 54.890625 11.625 47.5625 5.09375 \nQ 40.234375 -1.421875 26.90625 -1.421875 \nQ 22.3125 -1.421875 17.546875 -0.640625 \nQ 12.796875 0.140625 7.71875 1.703125 \nL 7.71875 11.625 \nQ 12.109375 9.234375 16.796875 8.0625 \nQ 21.484375 6.890625 26.703125 6.890625 \nQ 35.15625 6.890625 40.078125 11.328125 \nQ 45.015625 15.765625 45.015625 23.390625 \nQ 45.015625 31 40.078125 35.4375 \nQ 35.15625 39.890625 26.703125 39.890625 \nQ 22.75 39.890625 18.8125 39.015625 \nQ 14.890625 38.140625 10.796875 36.28125 \nz\n\" id=\"DejaVuSans-53\"/>\n      </defs>\n      <g style=\"fill:#262626;\" transform=\"translate(127.686116 297.098437)scale(0.1 -0.1)\">\n       <use xlink:href=\"#DejaVuSans-53\"/>\n      </g>\n     </g>\n    </g>\n    <g id=\"xtick_7\">\n     <g id=\"text_7\">\n      <!-- 6 -->\n      <defs>\n       <path d=\"M 33.015625 40.375 \nQ 26.375 40.375 22.484375 35.828125 \nQ 18.609375 31.296875 18.609375 23.390625 \nQ 18.609375 15.53125 22.484375 10.953125 \nQ 26.375 6.390625 33.015625 6.390625 \nQ 39.65625 6.390625 43.53125 10.953125 \nQ 47.40625 15.53125 47.40625 23.390625 \nQ 47.40625 31.296875 43.53125 35.828125 \nQ 39.65625 40.375 33.015625 40.375 \nz\nM 52.59375 71.296875 \nL 52.59375 62.3125 \nQ 48.875 64.0625 45.09375 64.984375 \nQ 41.3125 65.921875 37.59375 65.921875 \nQ 27.828125 65.921875 22.671875 59.328125 \nQ 17.53125 52.734375 16.796875 39.40625 \nQ 19.671875 43.65625 24.015625 45.921875 \nQ 28.375 48.1875 33.59375 48.1875 \nQ 44.578125 48.1875 50.953125 41.515625 \nQ 57.328125 34.859375 57.328125 23.390625 \nQ 57.328125 12.15625 50.6875 5.359375 \nQ 44.046875 -1.421875 33.015625 -1.421875 \nQ 20.359375 -1.421875 13.671875 8.265625 \nQ 6.984375 17.96875 6.984375 36.375 \nQ 6.984375 53.65625 15.1875 63.9375 \nQ 23.390625 74.21875 37.203125 74.21875 \nQ 40.921875 74.21875 44.703125 73.484375 \nQ 48.484375 72.75 52.59375 71.296875 \nz\n\" id=\"DejaVuSans-54\"/>\n      </defs>\n      <g style=\"fill:#262626;\" transform=\"translate(140.97183 297.098437)scale(0.1 -0.1)\">\n       <use xlink:href=\"#DejaVuSans-54\"/>\n      </g>\n     </g>\n    </g>\n    <g id=\"xtick_8\">\n     <g id=\"text_8\">\n      <!-- 7 -->\n      <defs>\n       <path d=\"M 8.203125 72.90625 \nL 55.078125 72.90625 \nL 55.078125 68.703125 \nL 28.609375 0 \nL 18.3125 0 \nL 43.21875 64.59375 \nL 8.203125 64.59375 \nz\n\" id=\"DejaVuSans-55\"/>\n      </defs>\n      <g style=\"fill:#262626;\" transform=\"translate(154.257545 297.098437)scale(0.1 -0.1)\">\n       <use xlink:href=\"#DejaVuSans-55\"/>\n      </g>\n     </g>\n    </g>\n    <g id=\"xtick_9\">\n     <g id=\"text_9\">\n      <!-- 8 -->\n      <defs>\n       <path d=\"M 31.78125 34.625 \nQ 24.75 34.625 20.71875 30.859375 \nQ 16.703125 27.09375 16.703125 20.515625 \nQ 16.703125 13.921875 20.71875 10.15625 \nQ 24.75 6.390625 31.78125 6.390625 \nQ 38.8125 6.390625 42.859375 10.171875 \nQ 46.921875 13.96875 46.921875 20.515625 \nQ 46.921875 27.09375 42.890625 30.859375 \nQ 38.875 34.625 31.78125 34.625 \nz\nM 21.921875 38.8125 \nQ 15.578125 40.375 12.03125 44.71875 \nQ 8.5 49.078125 8.5 55.328125 \nQ 8.5 64.0625 14.71875 69.140625 \nQ 20.953125 74.21875 31.78125 74.21875 \nQ 42.671875 74.21875 48.875 69.140625 \nQ 55.078125 64.0625 55.078125 55.328125 \nQ 55.078125 49.078125 51.53125 44.71875 \nQ 48 40.375 41.703125 38.8125 \nQ 48.828125 37.15625 52.796875 32.3125 \nQ 56.78125 27.484375 56.78125 20.515625 \nQ 56.78125 9.90625 50.3125 4.234375 \nQ 43.84375 -1.421875 31.78125 -1.421875 \nQ 19.734375 -1.421875 13.25 4.234375 \nQ 6.78125 9.90625 6.78125 20.515625 \nQ 6.78125 27.484375 10.78125 32.3125 \nQ 14.796875 37.15625 21.921875 38.8125 \nz\nM 18.3125 54.390625 \nQ 18.3125 48.734375 21.84375 45.5625 \nQ 25.390625 42.390625 31.78125 42.390625 \nQ 38.140625 42.390625 41.71875 45.5625 \nQ 45.3125 48.734375 45.3125 54.390625 \nQ 45.3125 60.0625 41.71875 63.234375 \nQ 38.140625 66.40625 31.78125 66.40625 \nQ 25.390625 66.40625 21.84375 63.234375 \nQ 18.3125 60.0625 18.3125 54.390625 \nz\n\" id=\"DejaVuSans-56\"/>\n      </defs>\n      <g style=\"fill:#262626;\" transform=\"translate(167.543259 297.098437)scale(0.1 -0.1)\">\n       <use xlink:href=\"#DejaVuSans-56\"/>\n      </g>\n     </g>\n    </g>\n    <g id=\"xtick_10\">\n     <g id=\"text_10\">\n      <!-- 9 -->\n      <defs>\n       <path d=\"M 10.984375 1.515625 \nL 10.984375 10.5 \nQ 14.703125 8.734375 18.5 7.8125 \nQ 22.3125 6.890625 25.984375 6.890625 \nQ 35.75 6.890625 40.890625 13.453125 \nQ 46.046875 20.015625 46.78125 33.40625 \nQ 43.953125 29.203125 39.59375 26.953125 \nQ 35.25 24.703125 29.984375 24.703125 \nQ 19.046875 24.703125 12.671875 31.3125 \nQ 6.296875 37.9375 6.296875 49.421875 \nQ 6.296875 60.640625 12.9375 67.421875 \nQ 19.578125 74.21875 30.609375 74.21875 \nQ 43.265625 74.21875 49.921875 64.515625 \nQ 56.59375 54.828125 56.59375 36.375 \nQ 56.59375 19.140625 48.40625 8.859375 \nQ 40.234375 -1.421875 26.421875 -1.421875 \nQ 22.703125 -1.421875 18.890625 -0.6875 \nQ 15.09375 0.046875 10.984375 1.515625 \nz\nM 30.609375 32.421875 \nQ 37.25 32.421875 41.125 36.953125 \nQ 45.015625 41.5 45.015625 49.421875 \nQ 45.015625 57.28125 41.125 61.84375 \nQ 37.25 66.40625 30.609375 66.40625 \nQ 23.96875 66.40625 20.09375 61.84375 \nQ 16.21875 57.28125 16.21875 49.421875 \nQ 16.21875 41.5 20.09375 36.953125 \nQ 23.96875 32.421875 30.609375 32.421875 \nz\n\" id=\"DejaVuSans-57\"/>\n      </defs>\n      <g style=\"fill:#262626;\" transform=\"translate(180.828973 297.098437)scale(0.1 -0.1)\">\n       <use xlink:href=\"#DejaVuSans-57\"/>\n      </g>\n     </g>\n    </g>\n    <g id=\"xtick_11\">\n     <g id=\"text_11\">\n      <!-- 10 -->\n      <g style=\"fill:#262626;\" transform=\"translate(190.933437 297.098437)scale(0.1 -0.1)\">\n       <use xlink:href=\"#DejaVuSans-49\"/>\n       <use x=\"63.623047\" xlink:href=\"#DejaVuSans-48\"/>\n      </g>\n     </g>\n    </g>\n    <g id=\"xtick_12\">\n     <g id=\"text_12\">\n      <!-- 11 -->\n      <g style=\"fill:#262626;\" transform=\"translate(204.219152 297.098437)scale(0.1 -0.1)\">\n       <use xlink:href=\"#DejaVuSans-49\"/>\n       <use x=\"63.623047\" xlink:href=\"#DejaVuSans-49\"/>\n      </g>\n     </g>\n    </g>\n    <g id=\"xtick_13\">\n     <g id=\"text_13\">\n      <!-- 12 -->\n      <g style=\"fill:#262626;\" transform=\"translate(217.504866 297.098437)scale(0.1 -0.1)\">\n       <use xlink:href=\"#DejaVuSans-49\"/>\n       <use x=\"63.623047\" xlink:href=\"#DejaVuSans-50\"/>\n      </g>\n     </g>\n    </g>\n    <g id=\"xtick_14\">\n     <g id=\"text_14\">\n      <!-- 13 -->\n      <g style=\"fill:#262626;\" transform=\"translate(230.79058 297.098437)scale(0.1 -0.1)\">\n       <use xlink:href=\"#DejaVuSans-49\"/>\n       <use x=\"63.623047\" xlink:href=\"#DejaVuSans-51\"/>\n      </g>\n     </g>\n    </g>\n    <g id=\"xtick_15\">\n     <g id=\"text_15\">\n      <!-- 14 -->\n      <g style=\"fill:#262626;\" transform=\"translate(244.076295 297.098437)scale(0.1 -0.1)\">\n       <use xlink:href=\"#DejaVuSans-49\"/>\n       <use x=\"63.623047\" xlink:href=\"#DejaVuSans-52\"/>\n      </g>\n     </g>\n    </g>\n    <g id=\"xtick_16\">\n     <g id=\"text_16\">\n      <!-- 15 -->\n      <g style=\"fill:#262626;\" transform=\"translate(257.362009 297.098437)scale(0.1 -0.1)\">\n       <use xlink:href=\"#DejaVuSans-49\"/>\n       <use x=\"63.623047\" xlink:href=\"#DejaVuSans-53\"/>\n      </g>\n     </g>\n    </g>\n    <g id=\"xtick_17\">\n     <g id=\"text_17\">\n      <!-- 16 -->\n      <g style=\"fill:#262626;\" transform=\"translate(270.647723 297.098437)scale(0.1 -0.1)\">\n       <use xlink:href=\"#DejaVuSans-49\"/>\n       <use x=\"63.623047\" xlink:href=\"#DejaVuSans-54\"/>\n      </g>\n     </g>\n    </g>\n    <g id=\"xtick_18\">\n     <g id=\"text_18\">\n      <!-- 17 -->\n      <g style=\"fill:#262626;\" transform=\"translate(283.933437 297.098437)scale(0.1 -0.1)\">\n       <use xlink:href=\"#DejaVuSans-49\"/>\n       <use x=\"63.623047\" xlink:href=\"#DejaVuSans-55\"/>\n      </g>\n     </g>\n    </g>\n    <g id=\"xtick_19\">\n     <g id=\"text_19\">\n      <!-- 18 -->\n      <g style=\"fill:#262626;\" transform=\"translate(297.219152 297.098437)scale(0.1 -0.1)\">\n       <use xlink:href=\"#DejaVuSans-49\"/>\n       <use x=\"63.623047\" xlink:href=\"#DejaVuSans-56\"/>\n      </g>\n     </g>\n    </g>\n    <g id=\"xtick_20\">\n     <g id=\"text_20\">\n      <!-- 19 -->\n      <g style=\"fill:#262626;\" transform=\"translate(310.504866 297.098437)scale(0.1 -0.1)\">\n       <use xlink:href=\"#DejaVuSans-49\"/>\n       <use x=\"63.623047\" xlink:href=\"#DejaVuSans-57\"/>\n      </g>\n     </g>\n    </g>\n    <g id=\"xtick_21\">\n     <g id=\"text_21\">\n      <!-- 20 -->\n      <g style=\"fill:#262626;\" transform=\"translate(323.79058 297.098437)scale(0.1 -0.1)\">\n       <use xlink:href=\"#DejaVuSans-50\"/>\n       <use x=\"63.623047\" xlink:href=\"#DejaVuSans-48\"/>\n      </g>\n     </g>\n    </g>\n    <g id=\"xtick_22\">\n     <g id=\"text_22\">\n      <!-- 21 -->\n      <g style=\"fill:#262626;\" transform=\"translate(337.076295 297.098437)scale(0.1 -0.1)\">\n       <use xlink:href=\"#DejaVuSans-50\"/>\n       <use x=\"63.623047\" xlink:href=\"#DejaVuSans-49\"/>\n      </g>\n     </g>\n    </g>\n    <g id=\"xtick_23\">\n     <g id=\"text_23\">\n      <!-- 22 -->\n      <g style=\"fill:#262626;\" transform=\"translate(350.362009 297.098437)scale(0.1 -0.1)\">\n       <use xlink:href=\"#DejaVuSans-50\"/>\n       <use x=\"63.623047\" xlink:href=\"#DejaVuSans-50\"/>\n      </g>\n     </g>\n    </g>\n    <g id=\"xtick_24\">\n     <g id=\"text_24\">\n      <!-- 23 -->\n      <g style=\"fill:#262626;\" transform=\"translate(363.647723 297.098437)scale(0.1 -0.1)\">\n       <use xlink:href=\"#DejaVuSans-50\"/>\n       <use x=\"63.623047\" xlink:href=\"#DejaVuSans-51\"/>\n      </g>\n     </g>\n    </g>\n    <g id=\"xtick_25\">\n     <g id=\"text_25\">\n      <!-- 24 -->\n      <g style=\"fill:#262626;\" transform=\"translate(376.933437 297.098437)scale(0.1 -0.1)\">\n       <use xlink:href=\"#DejaVuSans-50\"/>\n       <use x=\"63.623047\" xlink:href=\"#DejaVuSans-52\"/>\n      </g>\n     </g>\n    </g>\n    <g id=\"xtick_26\">\n     <g id=\"text_26\">\n      <!-- 25 -->\n      <g style=\"fill:#262626;\" transform=\"translate(390.219152 297.098437)scale(0.1 -0.1)\">\n       <use xlink:href=\"#DejaVuSans-50\"/>\n       <use x=\"63.623047\" xlink:href=\"#DejaVuSans-53\"/>\n      </g>\n     </g>\n    </g>\n    <g id=\"xtick_27\">\n     <g id=\"text_27\">\n      <!-- 26 -->\n      <g style=\"fill:#262626;\" transform=\"translate(403.504866 297.098437)scale(0.1 -0.1)\">\n       <use xlink:href=\"#DejaVuSans-50\"/>\n       <use x=\"63.623047\" xlink:href=\"#DejaVuSans-54\"/>\n      </g>\n     </g>\n    </g>\n    <g id=\"xtick_28\">\n     <g id=\"text_28\">\n      <!-- 27 -->\n      <g style=\"fill:#262626;\" transform=\"translate(416.79058 297.098437)scale(0.1 -0.1)\">\n       <use xlink:href=\"#DejaVuSans-50\"/>\n       <use x=\"63.623047\" xlink:href=\"#DejaVuSans-55\"/>\n      </g>\n     </g>\n    </g>\n    <g id=\"xtick_29\">\n     <g id=\"text_29\">\n      <!-- 28 -->\n      <g style=\"fill:#262626;\" transform=\"translate(430.076295 297.098437)scale(0.1 -0.1)\">\n       <use xlink:href=\"#DejaVuSans-50\"/>\n       <use x=\"63.623047\" xlink:href=\"#DejaVuSans-56\"/>\n      </g>\n     </g>\n    </g>\n    <g id=\"xtick_30\">\n     <g id=\"text_30\">\n      <!-- 29 -->\n      <g style=\"fill:#262626;\" transform=\"translate(443.362009 297.098437)scale(0.1 -0.1)\">\n       <use xlink:href=\"#DejaVuSans-50\"/>\n       <use x=\"63.623047\" xlink:href=\"#DejaVuSans-57\"/>\n      </g>\n     </g>\n    </g>\n    <g id=\"xtick_31\">\n     <g id=\"text_31\">\n      <!-- 30 -->\n      <g style=\"fill:#262626;\" transform=\"translate(456.647723 297.098437)scale(0.1 -0.1)\">\n       <use xlink:href=\"#DejaVuSans-51\"/>\n       <use x=\"63.623047\" xlink:href=\"#DejaVuSans-48\"/>\n      </g>\n     </g>\n    </g>\n    <g id=\"xtick_32\">\n     <g id=\"text_32\">\n      <!-- 31 -->\n      <g style=\"fill:#262626;\" transform=\"translate(469.933437 297.098437)scale(0.1 -0.1)\">\n       <use xlink:href=\"#DejaVuSans-51\"/>\n       <use x=\"63.623047\" xlink:href=\"#DejaVuSans-49\"/>\n      </g>\n     </g>\n    </g>\n    <g id=\"xtick_33\">\n     <g id=\"text_33\">\n      <!-- 32 -->\n      <g style=\"fill:#262626;\" transform=\"translate(483.219152 297.098437)scale(0.1 -0.1)\">\n       <use xlink:href=\"#DejaVuSans-51\"/>\n       <use x=\"63.623047\" xlink:href=\"#DejaVuSans-50\"/>\n      </g>\n     </g>\n    </g>\n    <g id=\"xtick_34\">\n     <g id=\"text_34\">\n      <!-- 33 -->\n      <g style=\"fill:#262626;\" transform=\"translate(496.504866 297.098437)scale(0.1 -0.1)\">\n       <use xlink:href=\"#DejaVuSans-51\"/>\n       <use x=\"63.623047\" xlink:href=\"#DejaVuSans-51\"/>\n      </g>\n     </g>\n    </g>\n    <g id=\"xtick_35\">\n     <g id=\"text_35\">\n      <!-- 34 -->\n      <g style=\"fill:#262626;\" transform=\"translate(509.79058 297.098437)scale(0.1 -0.1)\">\n       <use xlink:href=\"#DejaVuSans-51\"/>\n       <use x=\"63.623047\" xlink:href=\"#DejaVuSans-52\"/>\n      </g>\n     </g>\n    </g>\n    <g id=\"xtick_36\">\n     <g id=\"text_36\">\n      <!-- 35 -->\n      <g style=\"fill:#262626;\" transform=\"translate(523.076295 297.098437)scale(0.1 -0.1)\">\n       <use xlink:href=\"#DejaVuSans-51\"/>\n       <use x=\"63.623047\" xlink:href=\"#DejaVuSans-53\"/>\n      </g>\n     </g>\n    </g>\n    <g id=\"xtick_37\">\n     <g id=\"text_37\">\n      <!-- 36 -->\n      <g style=\"fill:#262626;\" transform=\"translate(536.362009 297.098437)scale(0.1 -0.1)\">\n       <use xlink:href=\"#DejaVuSans-51\"/>\n       <use x=\"63.623047\" xlink:href=\"#DejaVuSans-54\"/>\n      </g>\n     </g>\n    </g>\n    <g id=\"xtick_38\">\n     <g id=\"text_38\">\n      <!-- 37 -->\n      <g style=\"fill:#262626;\" transform=\"translate(549.647723 297.098437)scale(0.1 -0.1)\">\n       <use xlink:href=\"#DejaVuSans-51\"/>\n       <use x=\"63.623047\" xlink:href=\"#DejaVuSans-55\"/>\n      </g>\n     </g>\n    </g>\n    <g id=\"xtick_39\">\n     <g id=\"text_39\">\n      <!-- 38 -->\n      <g style=\"fill:#262626;\" transform=\"translate(562.933438 297.098437)scale(0.1 -0.1)\">\n       <use xlink:href=\"#DejaVuSans-51\"/>\n       <use x=\"63.623047\" xlink:href=\"#DejaVuSans-56\"/>\n      </g>\n     </g>\n    </g>\n    <g id=\"xtick_40\">\n     <g id=\"text_40\">\n      <!-- 39 -->\n      <g style=\"fill:#262626;\" transform=\"translate(576.219152 297.098437)scale(0.1 -0.1)\">\n       <use xlink:href=\"#DejaVuSans-51\"/>\n       <use x=\"63.623047\" xlink:href=\"#DejaVuSans-57\"/>\n      </g>\n     </g>\n    </g>\n    <g id=\"xtick_41\">\n     <g id=\"text_41\">\n      <!-- 40 -->\n      <g style=\"fill:#262626;\" transform=\"translate(589.504866 297.098437)scale(0.1 -0.1)\">\n       <use xlink:href=\"#DejaVuSans-52\"/>\n       <use x=\"63.623047\" xlink:href=\"#DejaVuSans-48\"/>\n      </g>\n     </g>\n    </g>\n    <g id=\"xtick_42\">\n     <g id=\"text_42\">\n      <!-- 41 -->\n      <g style=\"fill:#262626;\" transform=\"translate(602.79058 297.098437)scale(0.1 -0.1)\">\n       <use xlink:href=\"#DejaVuSans-52\"/>\n       <use x=\"63.623047\" xlink:href=\"#DejaVuSans-49\"/>\n      </g>\n     </g>\n    </g>\n    <g id=\"text_43\">\n     <!-- Analysis Neighborhoods -->\n     <defs>\n      <path d=\"M 34.1875 63.1875 \nL 20.796875 26.90625 \nL 47.609375 26.90625 \nz\nM 28.609375 72.90625 \nL 39.796875 72.90625 \nL 67.578125 0 \nL 57.328125 0 \nL 50.6875 18.703125 \nL 17.828125 18.703125 \nL 11.1875 0 \nL 0.78125 0 \nz\n\" id=\"DejaVuSans-65\"/>\n      <path d=\"M 54.890625 33.015625 \nL 54.890625 0 \nL 45.90625 0 \nL 45.90625 32.71875 \nQ 45.90625 40.484375 42.875 44.328125 \nQ 39.84375 48.1875 33.796875 48.1875 \nQ 26.515625 48.1875 22.3125 43.546875 \nQ 18.109375 38.921875 18.109375 30.90625 \nL 18.109375 0 \nL 9.078125 0 \nL 9.078125 54.6875 \nL 18.109375 54.6875 \nL 18.109375 46.1875 \nQ 21.34375 51.125 25.703125 53.5625 \nQ 30.078125 56 35.796875 56 \nQ 45.21875 56 50.046875 50.171875 \nQ 54.890625 44.34375 54.890625 33.015625 \nz\n\" id=\"DejaVuSans-110\"/>\n      <path d=\"M 34.28125 27.484375 \nQ 23.390625 27.484375 19.1875 25 \nQ 14.984375 22.515625 14.984375 16.5 \nQ 14.984375 11.71875 18.140625 8.90625 \nQ 21.296875 6.109375 26.703125 6.109375 \nQ 34.1875 6.109375 38.703125 11.40625 \nQ 43.21875 16.703125 43.21875 25.484375 \nL 43.21875 27.484375 \nz\nM 52.203125 31.203125 \nL 52.203125 0 \nL 43.21875 0 \nL 43.21875 8.296875 \nQ 40.140625 3.328125 35.546875 0.953125 \nQ 30.953125 -1.421875 24.3125 -1.421875 \nQ 15.921875 -1.421875 10.953125 3.296875 \nQ 6 8.015625 6 15.921875 \nQ 6 25.140625 12.171875 29.828125 \nQ 18.359375 34.515625 30.609375 34.515625 \nL 43.21875 34.515625 \nL 43.21875 35.40625 \nQ 43.21875 41.609375 39.140625 45 \nQ 35.0625 48.390625 27.6875 48.390625 \nQ 23 48.390625 18.546875 47.265625 \nQ 14.109375 46.140625 10.015625 43.890625 \nL 10.015625 52.203125 \nQ 14.9375 54.109375 19.578125 55.046875 \nQ 24.21875 56 28.609375 56 \nQ 40.484375 56 46.34375 49.84375 \nQ 52.203125 43.703125 52.203125 31.203125 \nz\n\" id=\"DejaVuSans-97\"/>\n      <path d=\"M 9.421875 75.984375 \nL 18.40625 75.984375 \nL 18.40625 0 \nL 9.421875 0 \nz\n\" id=\"DejaVuSans-108\"/>\n      <path d=\"M 32.171875 -5.078125 \nQ 28.375 -14.84375 24.75 -17.8125 \nQ 21.140625 -20.796875 15.09375 -20.796875 \nL 7.90625 -20.796875 \nL 7.90625 -13.28125 \nL 13.1875 -13.28125 \nQ 16.890625 -13.28125 18.9375 -11.515625 \nQ 21 -9.765625 23.484375 -3.21875 \nL 25.09375 0.875 \nL 2.984375 54.6875 \nL 12.5 54.6875 \nL 29.59375 11.921875 \nL 46.6875 54.6875 \nL 56.203125 54.6875 \nz\n\" id=\"DejaVuSans-121\"/>\n      <path d=\"M 44.28125 53.078125 \nL 44.28125 44.578125 \nQ 40.484375 46.53125 36.375 47.5 \nQ 32.28125 48.484375 27.875 48.484375 \nQ 21.1875 48.484375 17.84375 46.4375 \nQ 14.5 44.390625 14.5 40.28125 \nQ 14.5 37.15625 16.890625 35.375 \nQ 19.28125 33.59375 26.515625 31.984375 \nL 29.59375 31.296875 \nQ 39.15625 29.25 43.1875 25.515625 \nQ 47.21875 21.78125 47.21875 15.09375 \nQ 47.21875 7.46875 41.1875 3.015625 \nQ 35.15625 -1.421875 24.609375 -1.421875 \nQ 20.21875 -1.421875 15.453125 -0.5625 \nQ 10.6875 0.296875 5.421875 2 \nL 5.421875 11.28125 \nQ 10.40625 8.6875 15.234375 7.390625 \nQ 20.0625 6.109375 24.8125 6.109375 \nQ 31.15625 6.109375 34.5625 8.28125 \nQ 37.984375 10.453125 37.984375 14.40625 \nQ 37.984375 18.0625 35.515625 20.015625 \nQ 33.0625 21.96875 24.703125 23.78125 \nL 21.578125 24.515625 \nQ 13.234375 26.265625 9.515625 29.90625 \nQ 5.8125 33.546875 5.8125 39.890625 \nQ 5.8125 47.609375 11.28125 51.796875 \nQ 16.75 56 26.8125 56 \nQ 31.78125 56 36.171875 55.265625 \nQ 40.578125 54.546875 44.28125 53.078125 \nz\n\" id=\"DejaVuSans-115\"/>\n      <path d=\"M 9.421875 54.6875 \nL 18.40625 54.6875 \nL 18.40625 0 \nL 9.421875 0 \nz\nM 9.421875 75.984375 \nL 18.40625 75.984375 \nL 18.40625 64.59375 \nL 9.421875 64.59375 \nz\n\" id=\"DejaVuSans-105\"/>\n      <path id=\"DejaVuSans-32\"/>\n      <path d=\"M 9.8125 72.90625 \nL 23.09375 72.90625 \nL 55.421875 11.921875 \nL 55.421875 72.90625 \nL 64.984375 72.90625 \nL 64.984375 0 \nL 51.703125 0 \nL 19.390625 60.984375 \nL 19.390625 0 \nL 9.8125 0 \nz\n\" id=\"DejaVuSans-78\"/>\n      <path d=\"M 56.203125 29.59375 \nL 56.203125 25.203125 \nL 14.890625 25.203125 \nQ 15.484375 15.921875 20.484375 11.0625 \nQ 25.484375 6.203125 34.421875 6.203125 \nQ 39.59375 6.203125 44.453125 7.46875 \nQ 49.3125 8.734375 54.109375 11.28125 \nL 54.109375 2.78125 \nQ 49.265625 0.734375 44.1875 -0.34375 \nQ 39.109375 -1.421875 33.890625 -1.421875 \nQ 20.796875 -1.421875 13.15625 6.1875 \nQ 5.515625 13.8125 5.515625 26.8125 \nQ 5.515625 40.234375 12.765625 48.109375 \nQ 20.015625 56 32.328125 56 \nQ 43.359375 56 49.78125 48.890625 \nQ 56.203125 41.796875 56.203125 29.59375 \nz\nM 47.21875 32.234375 \nQ 47.125 39.59375 43.09375 43.984375 \nQ 39.0625 48.390625 32.421875 48.390625 \nQ 24.90625 48.390625 20.390625 44.140625 \nQ 15.875 39.890625 15.1875 32.171875 \nz\n\" id=\"DejaVuSans-101\"/>\n      <path d=\"M 45.40625 27.984375 \nQ 45.40625 37.75 41.375 43.109375 \nQ 37.359375 48.484375 30.078125 48.484375 \nQ 22.859375 48.484375 18.828125 43.109375 \nQ 14.796875 37.75 14.796875 27.984375 \nQ 14.796875 18.265625 18.828125 12.890625 \nQ 22.859375 7.515625 30.078125 7.515625 \nQ 37.359375 7.515625 41.375 12.890625 \nQ 45.40625 18.265625 45.40625 27.984375 \nz\nM 54.390625 6.78125 \nQ 54.390625 -7.171875 48.1875 -13.984375 \nQ 42 -20.796875 29.203125 -20.796875 \nQ 24.46875 -20.796875 20.265625 -20.09375 \nQ 16.0625 -19.390625 12.109375 -17.921875 \nL 12.109375 -9.1875 \nQ 16.0625 -11.328125 19.921875 -12.34375 \nQ 23.78125 -13.375 27.78125 -13.375 \nQ 36.625 -13.375 41.015625 -8.765625 \nQ 45.40625 -4.15625 45.40625 5.171875 \nL 45.40625 9.625 \nQ 42.625 4.78125 38.28125 2.390625 \nQ 33.9375 0 27.875 0 \nQ 17.828125 0 11.671875 7.65625 \nQ 5.515625 15.328125 5.515625 27.984375 \nQ 5.515625 40.671875 11.671875 48.328125 \nQ 17.828125 56 27.875 56 \nQ 33.9375 56 38.28125 53.609375 \nQ 42.625 51.21875 45.40625 46.390625 \nL 45.40625 54.6875 \nL 54.390625 54.6875 \nz\n\" id=\"DejaVuSans-103\"/>\n      <path d=\"M 54.890625 33.015625 \nL 54.890625 0 \nL 45.90625 0 \nL 45.90625 32.71875 \nQ 45.90625 40.484375 42.875 44.328125 \nQ 39.84375 48.1875 33.796875 48.1875 \nQ 26.515625 48.1875 22.3125 43.546875 \nQ 18.109375 38.921875 18.109375 30.90625 \nL 18.109375 0 \nL 9.078125 0 \nL 9.078125 75.984375 \nL 18.109375 75.984375 \nL 18.109375 46.1875 \nQ 21.34375 51.125 25.703125 53.5625 \nQ 30.078125 56 35.796875 56 \nQ 45.21875 56 50.046875 50.171875 \nQ 54.890625 44.34375 54.890625 33.015625 \nz\n\" id=\"DejaVuSans-104\"/>\n      <path d=\"M 48.6875 27.296875 \nQ 48.6875 37.203125 44.609375 42.84375 \nQ 40.53125 48.484375 33.40625 48.484375 \nQ 26.265625 48.484375 22.1875 42.84375 \nQ 18.109375 37.203125 18.109375 27.296875 \nQ 18.109375 17.390625 22.1875 11.75 \nQ 26.265625 6.109375 33.40625 6.109375 \nQ 40.53125 6.109375 44.609375 11.75 \nQ 48.6875 17.390625 48.6875 27.296875 \nz\nM 18.109375 46.390625 \nQ 20.953125 51.265625 25.265625 53.625 \nQ 29.59375 56 35.59375 56 \nQ 45.5625 56 51.78125 48.09375 \nQ 58.015625 40.1875 58.015625 27.296875 \nQ 58.015625 14.40625 51.78125 6.484375 \nQ 45.5625 -1.421875 35.59375 -1.421875 \nQ 29.59375 -1.421875 25.265625 0.953125 \nQ 20.953125 3.328125 18.109375 8.203125 \nL 18.109375 0 \nL 9.078125 0 \nL 9.078125 75.984375 \nL 18.109375 75.984375 \nz\n\" id=\"DejaVuSans-98\"/>\n      <path d=\"M 30.609375 48.390625 \nQ 23.390625 48.390625 19.1875 42.75 \nQ 14.984375 37.109375 14.984375 27.296875 \nQ 14.984375 17.484375 19.15625 11.84375 \nQ 23.34375 6.203125 30.609375 6.203125 \nQ 37.796875 6.203125 41.984375 11.859375 \nQ 46.1875 17.53125 46.1875 27.296875 \nQ 46.1875 37.015625 41.984375 42.703125 \nQ 37.796875 48.390625 30.609375 48.390625 \nz\nM 30.609375 56 \nQ 42.328125 56 49.015625 48.375 \nQ 55.71875 40.765625 55.71875 27.296875 \nQ 55.71875 13.875 49.015625 6.21875 \nQ 42.328125 -1.421875 30.609375 -1.421875 \nQ 18.84375 -1.421875 12.171875 6.21875 \nQ 5.515625 13.875 5.515625 27.296875 \nQ 5.515625 40.765625 12.171875 48.375 \nQ 18.84375 56 30.609375 56 \nz\n\" id=\"DejaVuSans-111\"/>\n      <path d=\"M 41.109375 46.296875 \nQ 39.59375 47.171875 37.8125 47.578125 \nQ 36.03125 48 33.890625 48 \nQ 26.265625 48 22.1875 43.046875 \nQ 18.109375 38.09375 18.109375 28.8125 \nL 18.109375 0 \nL 9.078125 0 \nL 9.078125 54.6875 \nL 18.109375 54.6875 \nL 18.109375 46.1875 \nQ 20.953125 51.171875 25.484375 53.578125 \nQ 30.03125 56 36.53125 56 \nQ 37.453125 56 38.578125 55.875 \nQ 39.703125 55.765625 41.0625 55.515625 \nz\n\" id=\"DejaVuSans-114\"/>\n      <path d=\"M 45.40625 46.390625 \nL 45.40625 75.984375 \nL 54.390625 75.984375 \nL 54.390625 0 \nL 45.40625 0 \nL 45.40625 8.203125 \nQ 42.578125 3.328125 38.25 0.953125 \nQ 33.9375 -1.421875 27.875 -1.421875 \nQ 17.96875 -1.421875 11.734375 6.484375 \nQ 5.515625 14.40625 5.515625 27.296875 \nQ 5.515625 40.1875 11.734375 48.09375 \nQ 17.96875 56 27.875 56 \nQ 33.9375 56 38.25 53.625 \nQ 42.578125 51.265625 45.40625 46.390625 \nz\nM 14.796875 27.296875 \nQ 14.796875 17.390625 18.875 11.75 \nQ 22.953125 6.109375 30.078125 6.109375 \nQ 37.203125 6.109375 41.296875 11.75 \nQ 45.40625 17.390625 45.40625 27.296875 \nQ 45.40625 37.203125 41.296875 42.84375 \nQ 37.203125 48.484375 30.078125 48.484375 \nQ 22.953125 48.484375 18.875 42.84375 \nQ 14.796875 37.203125 14.796875 27.296875 \nz\n\" id=\"DejaVuSans-100\"/>\n     </defs>\n     <g style=\"fill:#262626;\" transform=\"translate(270.789063 311.536406)scale(0.11 -0.11)\">\n      <use xlink:href=\"#DejaVuSans-65\"/>\n      <use x=\"68.408203\" xlink:href=\"#DejaVuSans-110\"/>\n      <use x=\"131.787109\" xlink:href=\"#DejaVuSans-97\"/>\n      <use x=\"193.066406\" xlink:href=\"#DejaVuSans-108\"/>\n      <use x=\"220.849609\" xlink:href=\"#DejaVuSans-121\"/>\n      <use x=\"280.029297\" xlink:href=\"#DejaVuSans-115\"/>\n      <use x=\"332.128906\" xlink:href=\"#DejaVuSans-105\"/>\n      <use x=\"359.912109\" xlink:href=\"#DejaVuSans-115\"/>\n      <use x=\"412.011719\" xlink:href=\"#DejaVuSans-32\"/>\n      <use x=\"443.798828\" xlink:href=\"#DejaVuSans-78\"/>\n      <use x=\"518.603516\" xlink:href=\"#DejaVuSans-101\"/>\n      <use x=\"580.126953\" xlink:href=\"#DejaVuSans-105\"/>\n      <use x=\"607.910156\" xlink:href=\"#DejaVuSans-103\"/>\n      <use x=\"671.386719\" xlink:href=\"#DejaVuSans-104\"/>\n      <use x=\"734.765625\" xlink:href=\"#DejaVuSans-98\"/>\n      <use x=\"798.242188\" xlink:href=\"#DejaVuSans-111\"/>\n      <use x=\"859.423828\" xlink:href=\"#DejaVuSans-114\"/>\n      <use x=\"898.787109\" xlink:href=\"#DejaVuSans-104\"/>\n      <use x=\"962.166016\" xlink:href=\"#DejaVuSans-111\"/>\n      <use x=\"1023.347656\" xlink:href=\"#DejaVuSans-111\"/>\n      <use x=\"1084.529297\" xlink:href=\"#DejaVuSans-100\"/>\n      <use x=\"1148.005859\" xlink:href=\"#DejaVuSans-115\"/>\n     </g>\n    </g>\n   </g>\n   <g id=\"matplotlib.axis_2\">\n    <g id=\"ytick_1\">\n     <g id=\"text_44\">\n      <!-- 0 -->\n      <g style=\"fill:#262626;\" transform=\"translate(40.933438 282.799219)scale(0.1 -0.1)\">\n       <use xlink:href=\"#DejaVuSans-48\"/>\n      </g>\n     </g>\n    </g>\n    <g id=\"ytick_2\">\n     <g id=\"text_45\">\n      <!-- 1000 -->\n      <g style=\"fill:#262626;\" transform=\"translate(21.845938 238.633182)scale(0.1 -0.1)\">\n       <use xlink:href=\"#DejaVuSans-49\"/>\n       <use x=\"63.623047\" xlink:href=\"#DejaVuSans-48\"/>\n       <use x=\"127.246094\" xlink:href=\"#DejaVuSans-48\"/>\n       <use x=\"190.869141\" xlink:href=\"#DejaVuSans-48\"/>\n      </g>\n     </g>\n    </g>\n    <g id=\"ytick_3\">\n     <g id=\"text_46\">\n      <!-- 2000 -->\n      <g style=\"fill:#262626;\" transform=\"translate(21.845938 194.467145)scale(0.1 -0.1)\">\n       <use xlink:href=\"#DejaVuSans-50\"/>\n       <use x=\"63.623047\" xlink:href=\"#DejaVuSans-48\"/>\n       <use x=\"127.246094\" xlink:href=\"#DejaVuSans-48\"/>\n       <use x=\"190.869141\" xlink:href=\"#DejaVuSans-48\"/>\n      </g>\n     </g>\n    </g>\n    <g id=\"ytick_4\">\n     <g id=\"text_47\">\n      <!-- 3000 -->\n      <g style=\"fill:#262626;\" transform=\"translate(21.845938 150.301108)scale(0.1 -0.1)\">\n       <use xlink:href=\"#DejaVuSans-51\"/>\n       <use x=\"63.623047\" xlink:href=\"#DejaVuSans-48\"/>\n       <use x=\"127.246094\" xlink:href=\"#DejaVuSans-48\"/>\n       <use x=\"190.869141\" xlink:href=\"#DejaVuSans-48\"/>\n      </g>\n     </g>\n    </g>\n    <g id=\"ytick_5\">\n     <g id=\"text_48\">\n      <!-- 4000 -->\n      <g style=\"fill:#262626;\" transform=\"translate(21.845938 106.135071)scale(0.1 -0.1)\">\n       <use xlink:href=\"#DejaVuSans-52\"/>\n       <use x=\"63.623047\" xlink:href=\"#DejaVuSans-48\"/>\n       <use x=\"127.246094\" xlink:href=\"#DejaVuSans-48\"/>\n       <use x=\"190.869141\" xlink:href=\"#DejaVuSans-48\"/>\n      </g>\n     </g>\n    </g>\n    <g id=\"ytick_6\">\n     <g id=\"text_49\">\n      <!-- 5000 -->\n      <g style=\"fill:#262626;\" transform=\"translate(21.845938 61.969034)scale(0.1 -0.1)\">\n       <use xlink:href=\"#DejaVuSans-53\"/>\n       <use x=\"63.623047\" xlink:href=\"#DejaVuSans-48\"/>\n       <use x=\"127.246094\" xlink:href=\"#DejaVuSans-48\"/>\n       <use x=\"190.869141\" xlink:href=\"#DejaVuSans-48\"/>\n      </g>\n     </g>\n    </g>\n    <g id=\"ytick_7\">\n     <g id=\"text_50\">\n      <!-- 6000 -->\n      <g style=\"fill:#262626;\" transform=\"translate(21.845938 17.802997)scale(0.1 -0.1)\">\n       <use xlink:href=\"#DejaVuSans-54\"/>\n       <use x=\"63.623047\" xlink:href=\"#DejaVuSans-48\"/>\n       <use x=\"127.246094\" xlink:href=\"#DejaVuSans-48\"/>\n       <use x=\"190.869141\" xlink:href=\"#DejaVuSans-48\"/>\n      </g>\n     </g>\n    </g>\n    <g id=\"text_51\">\n     <!-- count -->\n     <defs>\n      <path d=\"M 48.78125 52.59375 \nL 48.78125 44.1875 \nQ 44.96875 46.296875 41.140625 47.34375 \nQ 37.3125 48.390625 33.40625 48.390625 \nQ 24.65625 48.390625 19.8125 42.84375 \nQ 14.984375 37.3125 14.984375 27.296875 \nQ 14.984375 17.28125 19.8125 11.734375 \nQ 24.65625 6.203125 33.40625 6.203125 \nQ 37.3125 6.203125 41.140625 7.25 \nQ 44.96875 8.296875 48.78125 10.40625 \nL 48.78125 2.09375 \nQ 45.015625 0.34375 40.984375 -0.53125 \nQ 36.96875 -1.421875 32.421875 -1.421875 \nQ 20.0625 -1.421875 12.78125 6.34375 \nQ 5.515625 14.109375 5.515625 27.296875 \nQ 5.515625 40.671875 12.859375 48.328125 \nQ 20.21875 56 33.015625 56 \nQ 37.15625 56 41.109375 55.140625 \nQ 45.0625 54.296875 48.78125 52.59375 \nz\n\" id=\"DejaVuSans-99\"/>\n      <path d=\"M 8.5 21.578125 \nL 8.5 54.6875 \nL 17.484375 54.6875 \nL 17.484375 21.921875 \nQ 17.484375 14.15625 20.5 10.265625 \nQ 23.53125 6.390625 29.59375 6.390625 \nQ 36.859375 6.390625 41.078125 11.03125 \nQ 45.3125 15.671875 45.3125 23.6875 \nL 45.3125 54.6875 \nL 54.296875 54.6875 \nL 54.296875 0 \nL 45.3125 0 \nL 45.3125 8.40625 \nQ 42.046875 3.421875 37.71875 1 \nQ 33.40625 -1.421875 27.6875 -1.421875 \nQ 18.265625 -1.421875 13.375 4.4375 \nQ 8.5 10.296875 8.5 21.578125 \nz\nM 31.109375 56 \nz\n\" id=\"DejaVuSans-117\"/>\n      <path d=\"M 18.3125 70.21875 \nL 18.3125 54.6875 \nL 36.8125 54.6875 \nL 36.8125 47.703125 \nL 18.3125 47.703125 \nL 18.3125 18.015625 \nQ 18.3125 11.328125 20.140625 9.421875 \nQ 21.96875 7.515625 27.59375 7.515625 \nL 36.8125 7.515625 \nL 36.8125 0 \nL 27.59375 0 \nQ 17.1875 0 13.234375 3.875 \nQ 9.28125 7.765625 9.28125 18.015625 \nL 9.28125 47.703125 \nL 2.6875 47.703125 \nL 2.6875 54.6875 \nL 9.28125 54.6875 \nL 9.28125 70.21875 \nz\n\" id=\"DejaVuSans-116\"/>\n     </defs>\n     <g style=\"fill:#262626;\" transform=\"translate(15.558281 158.616875)rotate(-90)scale(0.11 -0.11)\">\n      <use xlink:href=\"#DejaVuSans-99\"/>\n      <use x=\"54.980469\" xlink:href=\"#DejaVuSans-111\"/>\n      <use x=\"116.162109\" xlink:href=\"#DejaVuSans-117\"/>\n      <use x=\"179.541016\" xlink:href=\"#DejaVuSans-110\"/>\n      <use x=\"242.919922\" xlink:href=\"#DejaVuSans-116\"/>\n     </g>\n    </g>\n   </g>\n   <g id=\"patch_3\">\n    <path clip-path=\"url(#p4353c1684e)\" d=\"M 59.124509 279 \nL 69.75308 279 \nL 69.75308 200.384454 \nL 59.124509 200.384454 \nz\n\" style=\"fill:#ea96a3;stroke:#ffffff;stroke-linejoin:miter;stroke-width:0.3;\"/>\n   </g>\n   <g id=\"patch_4\">\n    <path clip-path=\"url(#p4353c1684e)\" d=\"M 72.410223 279 \nL 83.038795 279 \nL 83.038795 194.996198 \nL 72.410223 194.996198 \nz\n\" style=\"fill:#ea9797;stroke:#ffffff;stroke-linejoin:miter;stroke-width:0.3;\"/>\n   </g>\n   <g id=\"patch_5\">\n    <path clip-path=\"url(#p4353c1684e)\" d=\"M 85.695937 279 \nL 96.324509 279 \nL 96.324509 226.486582 \nL 85.695937 226.486582 \nz\n\" style=\"fill:#e89685;stroke:#ffffff;stroke-linejoin:miter;stroke-width:0.3;\"/>\n   </g>\n   <g id=\"patch_6\">\n    <path clip-path=\"url(#p4353c1684e)\" d=\"M 98.981652 279 \nL 109.610223 279 \nL 109.610223 234.657299 \nL 98.981652 234.657299 \nz\n\" style=\"fill:#e4946a;stroke:#ffffff;stroke-linejoin:miter;stroke-width:0.3;\"/>\n   </g>\n   <g id=\"patch_7\">\n    <path clip-path=\"url(#p4353c1684e)\" d=\"M 112.267366 279 \nL 122.895938 279 \nL 122.895938 261.554415 \nL 112.267366 261.554415 \nz\n\" style=\"fill:#da934e;stroke:#ffffff;stroke-linejoin:miter;stroke-width:0.3;\"/>\n   </g>\n   <g id=\"patch_8\">\n    <path clip-path=\"url(#p4353c1684e)\" d=\"M 125.55308 279 \nL 136.181652 279 \nL 136.181652 210.23348 \nL 125.55308 210.23348 \nz\n\" style=\"fill:#cd974c;stroke:#ffffff;stroke-linejoin:miter;stroke-width:0.3;\"/>\n   </g>\n   <g id=\"patch_9\">\n    <path clip-path=\"url(#p4353c1684e)\" d=\"M 138.838795 279 \nL 149.467366 279 \nL 149.467366 242.916348 \nL 138.838795 242.916348 \nz\n\" style=\"fill:#c29a4b;stroke:#ffffff;stroke-linejoin:miter;stroke-width:0.3;\"/>\n   </g>\n   <g id=\"patch_10\">\n    <path clip-path=\"url(#p4353c1684e)\" d=\"M 152.124509 279 \nL 162.75308 279 \nL 162.75308 238.058084 \nL 152.124509 238.058084 \nz\n\" style=\"fill:#b89c49;stroke:#ffffff;stroke-linejoin:miter;stroke-width:0.3;\"/>\n   </g>\n   <g id=\"patch_11\">\n    <path clip-path=\"url(#p4353c1684e)\" d=\"M 165.410223 279 \nL 176.038795 279 \nL 176.038795 218.757526 \nL 165.410223 218.757526 \nz\n\" style=\"fill:#af9d48;stroke:#ffffff;stroke-linejoin:miter;stroke-width:0.3;\"/>\n   </g>\n   <g id=\"patch_12\">\n    <path clip-path=\"url(#p4353c1684e)\" d=\"M 178.695937 279 \nL 189.324509 279 \nL 189.324509 218.315865 \nL 178.695937 218.315865 \nz\n\" style=\"fill:#a69f46;stroke:#ffffff;stroke-linejoin:miter;stroke-width:0.3;\"/>\n   </g>\n   <g id=\"patch_13\">\n    <path clip-path=\"url(#p4353c1684e)\" d=\"M 191.981652 279 \nL 202.610223 279 \nL 202.610223 268.267653 \nL 191.981652 268.267653 \nz\n\" style=\"fill:#9ca145;stroke:#ffffff;stroke-linejoin:miter;stroke-width:0.3;\"/>\n   </g>\n   <g id=\"patch_14\">\n    <path clip-path=\"url(#p4353c1684e)\" d=\"M 205.267366 279 \nL 215.895938 279 \nL 215.895938 246.052136 \nL 205.267366 246.052136 \nz\n\" style=\"fill:#93a446;stroke:#ffffff;stroke-linejoin:miter;stroke-width:0.3;\"/>\n   </g>\n   <g id=\"patch_15\">\n    <path clip-path=\"url(#p4353c1684e)\" d=\"M 218.55308 279 \nL 229.181652 279 \nL 229.181652 264.999366 \nL 218.55308 264.999366 \nz\n\" style=\"fill:#88a746;stroke:#ffffff;stroke-linejoin:miter;stroke-width:0.3;\"/>\n   </g>\n   <g id=\"patch_16\">\n    <path clip-path=\"url(#p4353c1684e)\" d=\"M 231.838795 279 \nL 242.467366 279 \nL 242.467366 250.866234 \nL 231.838795 250.866234 \nz\n\" style=\"fill:#78aa47;stroke:#ffffff;stroke-linejoin:miter;stroke-width:0.3;\"/>\n   </g>\n   <g id=\"patch_17\">\n    <path clip-path=\"url(#p4353c1684e)\" d=\"M 245.124509 279 \nL 255.75308 279 \nL 255.75308 247.156287 \nL 245.124509 247.156287 \nz\n\" style=\"fill:#60ae47;stroke:#ffffff;stroke-linejoin:miter;stroke-width:0.3;\"/>\n   </g>\n   <g id=\"patch_18\">\n    <path clip-path=\"url(#p4353c1684e)\" d=\"M 258.410223 279 \nL 269.038795 279 \nL 269.038795 271.845102 \nL 258.410223 271.845102 \nz\n\" style=\"fill:#48b05e;stroke:#ffffff;stroke-linejoin:miter;stroke-width:0.3;\"/>\n   </g>\n   <g id=\"patch_19\">\n    <path clip-path=\"url(#p4353c1684e)\" d=\"M 271.695938 279 \nL 282.324509 279 \nL 282.324509 274.3184 \nL 271.695938 274.3184 \nz\n\" style=\"fill:#49af77;stroke:#ffffff;stroke-linejoin:miter;stroke-width:0.3;\"/>\n   </g>\n   <g id=\"patch_20\">\n    <path clip-path=\"url(#p4353c1684e)\" d=\"M 284.981652 279 \nL 295.610223 279 \nL 295.610223 278.028347 \nL 284.981652 278.028347 \nz\n\" style=\"fill:#49ae85;stroke:#ffffff;stroke-linejoin:miter;stroke-width:0.3;\"/>\n   </g>\n   <g id=\"patch_21\">\n    <path clip-path=\"url(#p4353c1684e)\" d=\"M 298.267366 279 \nL 308.895938 279 \nL 308.895938 254.046189 \nL 298.267366 254.046189 \nz\n\" style=\"fill:#4aad8f;stroke:#ffffff;stroke-linejoin:miter;stroke-width:0.3;\"/>\n   </g>\n   <g id=\"patch_22\">\n    <path clip-path=\"url(#p4353c1684e)\" d=\"M 311.55308 279 \nL 322.181652 279 \nL 322.181652 275.555049 \nL 311.55308 275.555049 \nz\n\" style=\"fill:#4aac97;stroke:#ffffff;stroke-linejoin:miter;stroke-width:0.3;\"/>\n   </g>\n   <g id=\"patch_23\">\n    <path clip-path=\"url(#p4353c1684e)\" d=\"M 324.838795 279 \nL 335.467366 279 \nL 335.467366 20.142857 \nL 324.838795 20.142857 \nz\n\" style=\"fill:#4bac9e;stroke:#ffffff;stroke-linejoin:miter;stroke-width:0.3;\"/>\n   </g>\n   <g id=\"patch_24\">\n    <path clip-path=\"url(#p4353c1684e)\" d=\"M 338.124509 279 \nL 348.75308 279 \nL 348.75308 228.827382 \nL 338.124509 228.827382 \nz\n\" style=\"fill:#4baba4;stroke:#ffffff;stroke-linejoin:miter;stroke-width:0.3;\"/>\n   </g>\n   <g id=\"patch_25\">\n    <path clip-path=\"url(#p4353c1684e)\" d=\"M 351.410223 279 \nL 362.038795 279 \nL 362.038795 257.27031 \nL 351.410223 257.27031 \nz\n\" style=\"fill:#4babaa;stroke:#ffffff;stroke-linejoin:miter;stroke-width:0.3;\"/>\n   </g>\n   <g id=\"patch_26\">\n    <path clip-path=\"url(#p4353c1684e)\" d=\"M 364.695938 279 \nL 375.324509 279 \nL 375.324509 254.797012 \nL 364.695938 254.797012 \nz\n\" style=\"fill:#4dabb1;stroke:#ffffff;stroke-linejoin:miter;stroke-width:0.3;\"/>\n   </g>\n   <g id=\"patch_27\">\n    <path clip-path=\"url(#p4353c1684e)\" d=\"M 377.981652 279 \nL 388.610223 279 \nL 388.610223 253.427865 \nL 377.981652 253.427865 \nz\n\" style=\"fill:#4eabb8;stroke:#ffffff;stroke-linejoin:miter;stroke-width:0.3;\"/>\n   </g>\n   <g id=\"patch_28\">\n    <path clip-path=\"url(#p4353c1684e)\" d=\"M 391.267366 279 \nL 401.895938 279 \nL 401.895938 246.670461 \nL 391.267366 246.670461 \nz\n\" style=\"fill:#50acc1;stroke:#ffffff;stroke-linejoin:miter;stroke-width:0.3;\"/>\n   </g>\n   <g id=\"patch_29\">\n    <path clip-path=\"url(#p4353c1684e)\" d=\"M 404.55308 279 \nL 415.181652 279 \nL 415.181652 253.074536 \nL 404.55308 253.074536 \nz\n\" style=\"fill:#52acca;stroke:#ffffff;stroke-linejoin:miter;stroke-width:0.3;\"/>\n   </g>\n   <g id=\"patch_30\">\n    <path clip-path=\"url(#p4353c1684e)\" d=\"M 417.838795 279 \nL 428.467366 279 \nL 428.467366 277.277525 \nL 417.838795 277.277525 \nz\n\" style=\"fill:#55acd7;stroke:#ffffff;stroke-linejoin:miter;stroke-width:0.3;\"/>\n   </g>\n   <g id=\"patch_31\">\n    <path clip-path=\"url(#p4353c1684e)\" d=\"M 431.124509 279 \nL 441.75308 279 \nL 441.75308 247.112121 \nL 431.124509 247.112121 \nz\n\" style=\"fill:#6daee2;stroke:#ffffff;stroke-linejoin:miter;stroke-width:0.3;\"/>\n   </g>\n   <g id=\"patch_32\">\n    <path clip-path=\"url(#p4353c1684e)\" d=\"M 444.410223 279 \nL 455.038795 279 \nL 455.038795 220.082507 \nL 444.410223 220.082507 \nz\n\" style=\"fill:#8baee7;stroke:#ffffff;stroke-linejoin:miter;stroke-width:0.3;\"/>\n   </g>\n   <g id=\"patch_33\">\n    <path clip-path=\"url(#p4353c1684e)\" d=\"M 457.695938 279 \nL 468.324509 279 \nL 468.324509 252.765374 \nL 457.695938 252.765374 \nz\n\" style=\"fill:#a0adea;stroke:#ffffff;stroke-linejoin:miter;stroke-width:0.3;\"/>\n   </g>\n   <g id=\"patch_34\">\n    <path clip-path=\"url(#p4353c1684e)\" d=\"M 470.981652 279 \nL 481.610223 279 \nL 481.610223 266.589344 \nL 470.981652 266.589344 \nz\n\" style=\"fill:#b0aaeb;stroke:#ffffff;stroke-linejoin:miter;stroke-width:0.3;\"/>\n   </g>\n   <g id=\"patch_35\">\n    <path clip-path=\"url(#p4353c1684e)\" d=\"M 484.267366 279 \nL 494.895937 279 \nL 494.895937 251.219563 \nL 484.267366 251.219563 \nz\n\" style=\"fill:#bca5ea;stroke:#ffffff;stroke-linejoin:miter;stroke-width:0.3;\"/>\n   </g>\n   <g id=\"patch_36\">\n    <path clip-path=\"url(#p4353c1684e)\" d=\"M 497.55308 279 \nL 508.181652 279 \nL 508.181652 275.245887 \nL 497.55308 275.245887 \nz\n\" style=\"fill:#c79fe9;stroke:#ffffff;stroke-linejoin:miter;stroke-width:0.3;\"/>\n   </g>\n   <g id=\"patch_37\">\n    <path clip-path=\"url(#p4353c1684e)\" d=\"M 510.838795 279 \nL 521.467366 279 \nL 521.467366 186.074658 \nL 510.838795 186.074658 \nz\n\" style=\"fill:#d398e8;stroke:#ffffff;stroke-linejoin:miter;stroke-width:0.3;\"/>\n   </g>\n   <g id=\"patch_38\">\n    <path clip-path=\"url(#p4353c1684e)\" d=\"M 524.124509 279 \nL 534.75308 279 \nL 534.75308 206.567699 \nL 524.124509 206.567699 \nz\n\" style=\"fill:#df8fe7;stroke:#ffffff;stroke-linejoin:miter;stroke-width:0.3;\"/>\n   </g>\n   <g id=\"patch_39\">\n    <path clip-path=\"url(#p4353c1684e)\" d=\"M 537.410223 279 \nL 548.038795 279 \nL 548.038795 196.762839 \nL 537.410223 196.762839 \nz\n\" style=\"fill:#e78ae0;stroke:#ffffff;stroke-linejoin:miter;stroke-width:0.3;\"/>\n   </g>\n   <g id=\"patch_40\">\n    <path clip-path=\"url(#p4353c1684e)\" d=\"M 550.695938 279 \nL 561.324509 279 \nL 561.324509 278.293343 \nL 550.695938 278.293343 \nz\n\" style=\"fill:#e78dd5;stroke:#ffffff;stroke-linejoin:miter;stroke-width:0.3;\"/>\n   </g>\n   <g id=\"patch_41\">\n    <path clip-path=\"url(#p4353c1684e)\" d=\"M 563.981652 279 \nL 574.610223 279 \nL 574.610223 271.889268 \nL 563.981652 271.889268 \nz\n\" style=\"fill:#e88fca;stroke:#ffffff;stroke-linejoin:miter;stroke-width:0.3;\"/>\n   </g>\n   <g id=\"patch_42\">\n    <path clip-path=\"url(#p4353c1684e)\" d=\"M 577.267366 279 \nL 587.895937 279 \nL 587.895937 239.029737 \nL 577.267366 239.029737 \nz\n\" style=\"fill:#e891c1;stroke:#ffffff;stroke-linejoin:miter;stroke-width:0.3;\"/>\n   </g>\n   <g id=\"patch_43\">\n    <path clip-path=\"url(#p4353c1684e)\" d=\"M 590.55308 279 \nL 601.181652 279 \nL 601.181652 258.860287 \nL 590.55308 258.860287 \nz\n\" style=\"fill:#e993b8;stroke:#ffffff;stroke-linejoin:miter;stroke-width:0.3;\"/>\n   </g>\n   <g id=\"patch_44\">\n    <path clip-path=\"url(#p4353c1684e)\" d=\"M 603.838795 279 \nL 614.467366 279 \nL 614.467366 241.238038 \nL 603.838795 241.238038 \nz\n\" style=\"fill:#e994af;stroke:#ffffff;stroke-linejoin:miter;stroke-width:0.3;\"/>\n   </g>\n   <g id=\"patch_45\">\n    <path d=\"M 57.795938 279 \nL 57.795938 7.2 \n\" style=\"fill:none;\"/>\n   </g>\n   <g id=\"patch_46\">\n    <path d=\"M 615.795938 279 \nL 615.795938 7.2 \n\" style=\"fill:none;\"/>\n   </g>\n   <g id=\"patch_47\">\n    <path d=\"M 57.795938 279 \nL 615.795937 279 \n\" style=\"fill:none;\"/>\n   </g>\n   <g id=\"patch_48\">\n    <path d=\"M 57.795938 7.2 \nL 615.795937 7.2 \n\" style=\"fill:none;\"/>\n   </g>\n  </g>\n </g>\n <defs>\n  <clipPath id=\"p4353c1684e\">\n   <rect height=\"271.8\" width=\"558\" x=\"57.795938\" y=\"7.2\"/>\n  </clipPath>\n </defs>\n</svg>\n",
      "image/png": "[encoded data removed]"
     },
     "metadata": {
      "needs_background": "light"
     }
    }
   ],
   "source": [
    "df['Analysis Neighborhoods'].value_counts(normalize=True,dropna=False)\n",
    "import matplotlib.pyplot as plt\n",
    "import seaborn as sns\n",
    "fig, ax = plt.subplots(figsize=(10,5))\n",
    "ax = sns.countplot(x='Analysis Neighborhoods',data=test.working)\n",
    "\n",
    "fig.show()"
   ]
  },
  {
   "cell_type": "code",
   "execution_count": 90,
   "metadata": {},
   "outputs": [
    {
     "output_type": "execute_result",
     "data": {
      "text/plain": "count                       37115\nmean      40 days 04:17:30.429960\nstd      176 days 02:15:35.175401\nmin            -13 days +16:54:00\n25%               0 days 04:10:37\n50%               1 days 14:10:00\n75%        6 days 22:43:39.500000\nmax            4269 days 00:36:47\nName: ttr, dtype: object"
     },
     "metadata": {},
     "execution_count": 90
    }
   ],
   "source": [
    "test.working.ttr.describe()\n",
    "test.target = 'ttr'\n"
   ]
  },
  {
   "cell_type": "code",
   "execution_count": 103,
   "metadata": {},
   "outputs": [
    {
     "output_type": "execute_result",
     "data": {
      "text/plain": "(354, (354, 36))"
     },
     "metadata": {},
     "execution_count": 103
    }
   ],
   "source": [
    "##look at negativ deltas, \n",
    "df = test.working \n",
    "neg_ttr = df.ttr.map(lambda td : td.total_seconds() < 0)\n",
    "df[neg_ttr]['CaseID'].nunique() ,df[neg_ttr].shape       #one record per caseid here\n",
    "\n",
    "\n"
   ]
  },
  {
   "cell_type": "code",
   "execution_count": 110,
   "metadata": {},
   "outputs": [
    {
     "output_type": "execute_result",
     "data": {
      "text/plain": "['General Request - 311CUSTOMERSERVICECENTER',\n 'Color Curb',\n 'Construction Zone Permits',\n 'General Request - DPH',\n 'General Request - BUILDING INSPECTION',\n 'General Request - ASSESSOR RECORDER',\n 'Residential Building Request',\n 'Catch Basin Maintenance',\n 'General Request - ANIMAL CARE CONTROL',\n 'KB Events',\n 'General Request - RPD',\n 'General Request - SFPD',\n 'General Request - CITY ATTORNEY',\n 'General Request - MONS',\n 'General Request - FIRE DEPARTMENT',\n 'DPW Volunteer Programs',\n 'General Request - DTIS',\n 'General Request - DISTRICT ATTORNEY',\n 'Muni Employee Feedback',\n 'General Request - PLANNING',\n 'General Request - BOARD OF SUPERVISORS',\n 'Muni Service Feedback',\n 'General Request - TT COLLECTOR',\n 'General Request - ART COMMISSION',\n 'General Request - ENTERTAINMENT COMMISSION',\n 'General Request - HUMAN RESOURCES',\n 'General Request - HUMAN SERVICES AGENCY',\n 'General Request - PORT AUTHORITY',\n 'General Request - RENT BOARD',\n 'General Request - CITY HALL',\n 'General Request - ENVIRONMENT',\n 'General Request - LIBRARY PUBLIC',\n 'General Request - SHERIFF',\n 'General Request - DPT',\n 'General Request - ELECTIONS',\n 'General Request - MOH',\n 'General Request - CITYADMINISTRATOR GSA',\n 'General Request -',\n 'General Request - CONTRACT ADMINISTRATION',\n 'General Request - REAL ESTATE DEPARTMENT']"
     },
     "metadata": {},
     "execution_count": 110
    }
   ],
   "source": [
    "df.Category.value_counts()\n",
    "test.calc_lt_005_cat(df).index.tolist()"
   ]
  }
 ],
 "metadata": {
  "kernelspec": {
   "display_name": "Python 3",
   "language": "python",
   "name": "python3"
  },
  "language_info": {
   "codemirror_mode": {
    "name": "ipython",
    "version": 3
   },
   "file_extension": ".py",
   "mimetype": "text/x-python",
   "name": "python",
   "nbconvert_exporter": "python",
   "pygments_lexer": "ipython3",
   "version": "3.7.4-final"
  }
 },
 "nbformat": 4,
 "nbformat_minor": 4
}