{
 "cells": [
  {
   "cell_type": "markdown",
   "metadata": {},
   "source": [
    "#NEED TO SAMPLE THE FILE TO DEVELOP \n",
    "awk 'BEGIN {srand()} !/^$/ { if (rand() <= .01 || FNR==1) print $0}' filename\n"
   ]
  },
  {
   "cell_type": "code",
   "execution_count": 184,
   "metadata": {
    "tags": []
   },
   "outputs": [
    {
     "output_type": "stream",
     "name": "stdout",
     "text": "/home/dliu/lambda/unit-2/DS-Unit-2-Build-dmhliu\n"
    }
   ],
   "source": [
    "!pwd\n"
   ]
  },
  {
   "cell_type": "code",
   "execution_count": 185,
   "metadata": {},
   "outputs": [],
   "source": [
    "import pandas as pd\n",
    "import numpy as np\n",
    "import math \n",
    "\n",
    "pd.options.display.max_columns = 100\n"
   ]
  },
  {
   "cell_type": "code",
   "execution_count": 186,
   "metadata": {},
   "outputs": [],
   "source": [
    "# Get Pandas Profiling Report\n",
    "import pandas_profiling\n",
    "#pandas_profiling.ProfileReport(df)"
   ]
  },
  {
   "cell_type": "code",
   "execution_count": 187,
   "metadata": {
    "tags": [
     "outputPrepend"
    ]
   },
   "outputs": [
    {
     "output_type": "stream",
     "name": "stderr",
     "text": "e 30657: ',' expected after '\"'\nSkipping line 30660: ',' expected after '\"'\nSkipping line 30683: ',' expected after '\"'\nSkipping line 30689: ',' expected after '\"'\nSkipping line 30697: ',' expected after '\"'\nSkipping line 30725: ',' expected after '\"'\nSkipping line 30748: ',' expected after '\"'\nSkipping line 30749: ',' expected after '\"'\nSkipping line 30758: ',' expected after '\"'\nSkipping line 30765: ',' expected after '\"'\nSkipping line 30783: ',' expected after '\"'\nSkipping line 30805: ',' expected after '\"'\nSkipping line 30879: ',' expected after '\"'\nSkipping line 30895: ',' expected after '\"'\nSkipping line 30900: ',' expected after '\"'\nSkipping line 30919: ',' expected after '\"'\nSkipping line 30924: ',' expected after '\"'\nSkipping line 30939: ',' expected after '\"'\nSkipping line 30995: ',' expected after '\"'\nSkipping line 31030: ',' expected after '\"'\nSkipping line 31039: ',' expected after '\"'\nSkipping line 31044: ',' expected after '\"'\nSkipping line 31045: ',' expected after '\"'\nSkipping line 31068: ',' expected after '\"'\nSkipping line 31080: ',' expected after '\"'\nSkipping line 31092: ',' expected after '\"'\nSkipping line 31122: ',' expected after '\"'\nSkipping line 31124: ',' expected after '\"'\nSkipping line 31125: ',' expected after '\"'\nSkipping line 31133: ',' expected after '\"'\nSkipping line 31136: ',' expected after '\"'\nSkipping line 31139: ',' expected after '\"'\nSkipping line 31144: ',' expected after '\"'\nSkipping line 31146: ',' expected after '\"'\nSkipping line 31150: ',' expected after '\"'\nSkipping line 31167: ',' expected after '\"'\nSkipping line 31176: ',' expected after '\"'\nSkipping line 31190: ',' expected after '\"'\nSkipping line 31206: ',' expected after '\"'\nSkipping line 31216: ',' expected after '\"'\nSkipping line 31230: ',' expected after '\"'\nSkipping line 31239: ',' expected after '\"'\nSkipping line 31251: ',' expected after '\"'\nSkipping line 31260: ',' expected after '\"'\nSkipping line 31267: ',' expected after '\"'\nSkipping line 31271: ',' expected after '\"'\nSkipping line 31325: ',' expected after '\"'\nSkipping line 31366: ',' expected after '\"'\nSkipping line 31403: ',' expected after '\"'\nSkipping line 31413: ',' expected after '\"'\nSkipping line 31415: ',' expected after '\"'\nSkipping line 31422: ',' expected after '\"'\nSkipping line 31458: ',' expected after '\"'\nSkipping line 31482: ',' expected after '\"'\nSkipping line 31527: ',' expected after '\"'\nSkipping line 31530: ',' expected after '\"'\nSkipping line 31546: ',' expected after '\"'\nSkipping line 31559: ',' expected after '\"'\nSkipping line 31605: ',' expected after '\"'\nSkipping line 31614: ',' expected after '\"'\nSkipping line 31618: ',' expected after '\"'\nSkipping line 31622: ',' expected after '\"'\nSkipping line 31643: ',' expected after '\"'\nSkipping line 31647: ',' expected after '\"'\nSkipping line 31655: ',' expected after '\"'\nSkipping line 31668: ',' expected after '\"'\nSkipping line 31696: ',' expected after '\"'\nSkipping line 31697: ',' expected after '\"'\nSkipping line 31712: ',' expected after '\"'\nSkipping line 31714: ',' expected after '\"'\nSkipping line 31715: ',' expected after '\"'\nSkipping line 31724: ',' expected after '\"'\nSkipping line 31725: ',' expected after '\"'\nSkipping line 31738: ',' expected after '\"'\nSkipping line 31751: ',' expected after '\"'\nSkipping line 31766: ',' expected after '\"'\nSkipping line 31796: ',' expected after '\"'\nSkipping line 31803: ',' expected after '\"'\nSkipping line 31810: ',' expected after '\"'\nSkipping line 31821: ',' expected after '\"'\nSkipping line 31830: ',' expected after '\"'\nSkipping line 31844: ',' expected after '\"'\nSkipping line 31851: ',' expected after '\"'\nSkipping line 31860: ',' expected after '\"'\nSkipping line 31868: ',' expected after '\"'\nSkipping line 31869: ',' expected after '\"'\nSkipping line 31878: ',' expected after '\"'\nSkipping line 31903: ',' expected after '\"'\nSkipping line 31921: ',' expected after '\"'\nSkipping line 31934: ',' expected after '\"'\nSkipping line 31936: ',' expected after '\"'\nSkipping line 31937: ',' expected after '\"'\nSkipping line 31940: ',' expected after '\"'\nSkipping line 31944: ',' expected after '\"'\nSkipping line 31949: ',' expected after '\"'\nSkipping line 31950: ',' expected after '\"'\nSkipping line 31968: ',' expected after '\"'\nSkipping line 31983: ',' expected after '\"'\nSkipping line 31998: ',' expected after '\"'\nSkipping line 32018: ',' expected after '\"'\nSkipping line 32080: ',' expected after '\"'\nSkipping line 32097: ',' expected after '\"'\nSkipping line 32103: ',' expected after '\"'\nSkipping line 32120: ',' expected after '\"'\nSkipping line 32125: ',' expected after '\"'\nSkipping line 32127: ',' expected after '\"'\nSkipping line 32140: ',' expected after '\"'\nSkipping line 32173: ',' expected after '\"'\nSkipping line 32176: ',' expected after '\"'\nSkipping line 32182: ',' expected after '\"'\nSkipping line 32184: ',' expected after '\"'\nSkipping line 32211: ',' expected after '\"'\nSkipping line 32223: ',' expected after '\"'\nSkipping line 32236: ',' expected after '\"'\nSkipping line 32244: ',' expected after '\"'\nSkipping line 32249: ',' expected after '\"'\nSkipping line 32276: ',' expected after '\"'\nSkipping line 32283: ',' expected after '\"'\nSkipping line 32324: ',' expected after '\"'\nSkipping line 32328: ',' expected after '\"'\nSkipping line 32334: ',' expected after '\"'\nSkipping line 32346: ',' expected after '\"'\nSkipping line 32352: ',' expected after '\"'\nSkipping line 32365: ',' expected after '\"'\nSkipping line 32377: ',' expected after '\"'\nSkipping line 32402: ',' expected after '\"'\nSkipping line 32420: ',' expected after '\"'\nSkipping line 32436: ',' expected after '\"'\nSkipping line 32440: ',' expected after '\"'\nSkipping line 32441: ',' expected after '\"'\nSkipping line 32442: ',' expected after '\"'\nSkipping line 32489: ',' expected after '\"'\nSkipping line 32503: ',' expected after '\"'\nSkipping line 32534: ',' expected after '\"'\nSkipping line 32538: ',' expected after '\"'\nSkipping line 32540: ',' expected after '\"'\nSkipping line 32544: ',' expected after '\"'\nSkipping line 32559: ',' expected after '\"'\nSkipping line 32576: ',' expected after '\"'\nSkipping line 32577: ',' expected after '\"'\nSkipping line 32578: ',' expected after '\"'\nSkipping line 32583: ',' expected after '\"'\nSkipping line 32639: ',' expected after '\"'\nSkipping line 32710: ',' expected after '\"'\nSkipping line 32717: ',' expected after '\"'\nSkipping line 32722: ',' expected after '\"'\nSkipping line 32736: ',' expected after '\"'\nSkipping line 32744: ',' expected after '\"'\nSkipping line 32814: ',' expected after '\"'\nSkipping line 32815: ',' expected after '\"'\nSkipping line 32840: ',' expected after '\"'\nSkipping line 32845: ',' expected after '\"'\nSkipping line 32849: ',' expected after '\"'\nSkipping line 32891: ',' expected after '\"'\nSkipping line 32894: ',' expected after '\"'\nSkipping line 32920: ',' expected after '\"'\nSkipping line 33002: ',' expected after '\"'\nSkipping line 33036: ',' expected after '\"'\nSkipping line 33042: ',' expected after '\"'\nSkipping line 33101: ',' expected after '\"'\nSkipping line 33124: ',' expected after '\"'\nSkipping line 33125: ',' expected after '\"'\nSkipping line 33130: ',' expected after '\"'\nSkipping line 33131: ',' expected after '\"'\nSkipping line 33147: ',' expected after '\"'\nSkipping line 33157: ',' expected after '\"'\nSkipping line 33246: ',' expected after '\"'\nSkipping line 33254: ',' expected after '\"'\nSkipping line 33268: ',' expected after '\"'\nSkipping line 33286: ',' expected after '\"'\nSkipping line 33288: ',' expected after '\"'\nSkipping line 33312: ',' expected after '\"'\nSkipping line 33373: ',' expected after '\"'\nSkipping line 33400: ',' expected after '\"'\nSkipping line 33411: ',' expected after '\"'\nSkipping line 33417: ',' expected after '\"'\nSkipping line 33420: ',' expected after '\"'\nSkipping line 33442: ',' expected after '\"'\nSkipping line 33452: ',' expected after '\"'\nSkipping line 33457: ',' expected after '\"'\nSkipping line 33459: ',' expected after '\"'\nSkipping line 33460: ',' expected after '\"'\nSkipping line 33477: ',' expected after '\"'\nSkipping line 33491: ',' expected after '\"'\nSkipping line 33536: ',' expected after '\"'\nSkipping line 33680: ',' expected after '\"'\nSkipping line 33695: ',' expected after '\"'\nSkipping line 33721: ',' expected after '\"'\nSkipping line 33723: ',' expected after '\"'\nSkipping line 33733: ',' expected after '\"'\nSkipping line 33745: ',' expected after '\"'\nSkipping line 33746: ',' expected after '\"'\nSkipping line 33775: ',' expected after '\"'\nSkipping line 33798: ',' expected after '\"'\nSkipping line 33839: ',' expected after '\"'\nSkipping line 33849: ',' expected after '\"'\nSkipping line 33850: ',' expected after '\"'\nSkipping line 33856: ',' expected after '\"'\nSkipping line 33865: ',' expected after '\"'\nSkipping line 33884: ',' expected after '\"'\nSkipping line 33899: ',' expected after '\"'\nSkipping line 33909: ',' expected after '\"'\nSkipping line 33967: ',' expected after '\"'\nSkipping line 33972: ',' expected after '\"'\nSkipping line 33974: ',' expected after '\"'\nSkipping line 33982: ',' expected after '\"'\nSkipping line 34011: ',' expected after '\"'\nSkipping line 34031: ',' expected after '\"'\nSkipping line 34062: ',' expected after '\"'\nSkipping line 34109: ',' expected after '\"'\nSkipping line 34131: ',' expected after '\"'\nSkipping line 34139: ',' expected after '\"'\nSkipping line 34155: ',' expected after '\"'\nSkipping line 34166: ',' expected after '\"'\nSkipping line 34173: ',' expected after '\"'\nSkipping line 34213: ',' expected after '\"'\nSkipping line 34232: ',' expected after '\"'\nSkipping line 34235: ',' expected after '\"'\nSkipping line 34284: ',' expected after '\"'\nSkipping line 34308: ',' expected after '\"'\nSkipping line 34317: ',' expected after '\"'\nSkipping line 34331: ',' expected after '\"'\nSkipping line 34346: ',' expected after '\"'\nSkipping line 34353: ',' expected after '\"'\nSkipping line 34363: ',' expected after '\"'\nSkipping line 34371: ',' expected after '\"'\nSkipping line 34376: ',' expected after '\"'\nSkipping line 34405: ',' expected after '\"'\nSkipping line 34407: ',' expected after '\"'\nSkipping line 34420: ',' expected after '\"'\nSkipping line 34436: ',' expected after '\"'\nSkipping line 34465: ',' expected after '\"'\nSkipping line 34507: ',' expected after '\"'\nSkipping line 34540: ',' expected after '\"'\nSkipping line 34548: ',' expected after '\"'\nSkipping line 34589: ',' expected after '\"'\nSkipping line 34620: ',' expected after '\"'\nSkipping line 34629: ',' expected after '\"'\nSkipping line 34652: ',' expected after '\"'\nSkipping line 34670: ',' expected after '\"'\nSkipping line 34702: ',' expected after '\"'\nSkipping line 34733: ',' expected after '\"'\nSkipping line 34771: ',' expected after '\"'\nSkipping line 34775: ',' expected after '\"'\nSkipping line 34790: ',' expected after '\"'\nSkipping line 34809: ',' expected after '\"'\nSkipping line 34846: ',' expected after '\"'\nSkipping line 34847: ',' expected after '\"'\nSkipping line 34850: ',' expected after '\"'\nSkipping line 34869: ',' expected after '\"'\nSkipping line 34874: ',' expected after '\"'\nSkipping line 34919: ',' expected after '\"'\nSkipping line 34943: ',' expected after '\"'\nSkipping line 34954: ',' expected after '\"'\nSkipping line 34975: ',' expected after '\"'\nSkipping line 34978: ',' expected after '\"'\nSkipping line 34981: ',' expected after '\"'\nSkipping line 35016: ',' expected after '\"'\nSkipping line 35044: ',' expected after '\"'\nSkipping line 35070: ',' expected after '\"'\nSkipping line 35165: ',' expected after '\"'\nSkipping line 35183: ',' expected after '\"'\nSkipping line 35202: ',' expected after '\"'\nSkipping line 35216: ',' expected after '\"'\nSkipping line 35220: ',' expected after '\"'\nSkipping line 35226: ',' expected after '\"'\nSkipping line 35250: ',' expected after '\"'\nSkipping line 35251: ',' expected after '\"'\nSkipping line 35263: ',' expected after '\"'\nSkipping line 35276: ',' expected after '\"'\nSkipping line 35302: ',' expected after '\"'\nSkipping line 35306: ',' expected after '\"'\nSkipping line 35318: ',' expected after '\"'\nSkipping line 35347: ',' expected after '\"'\nSkipping line 35362: ',' expected after '\"'\nSkipping line 35394: ',' expected after '\"'\nSkipping line 35399: ',' expected after '\"'\nSkipping line 35421: ',' expected after '\"'\nSkipping line 35440: ',' expected after '\"'\nSkipping line 35590: ',' expected after '\"'\nSkipping line 35625: ',' expected after '\"'\nSkipping line 35653: ',' expected after '\"'\nSkipping line 35654: ',' expected after '\"'\nSkipping line 35705: ',' expected after '\"'\nSkipping line 35739: ',' expected after '\"'\nSkipping line 35783: ',' expected after '\"'\nSkipping line 35829: ',' expected after '\"'\nSkipping line 35832: ',' expected after '\"'\nSkipping line 35854: ',' expected after '\"'\nSkipping line 35872: ',' expected after '\"'\nSkipping line 35897: ',' expected after '\"'\nSkipping line 35917: ',' expected after '\"'\nSkipping line 35995: ',' expected after '\"'\nSkipping line 36055: ',' expected after '\"'\nSkipping line 36057: ',' expected after '\"'\nSkipping line 36069: ',' expected after '\"'\nSkipping line 36074: ',' expected after '\"'\nSkipping line 36078: ',' expected after '\"'\nSkipping line 36080: ',' expected after '\"'\nSkipping line 36082: ',' expected after '\"'\nSkipping line 36122: ',' expected after '\"'\nSkipping line 36129: ',' expected after '\"'\nSkipping line 36133: ',' expected after '\"'\nSkipping line 36180: ',' expected after '\"'\nSkipping line 36187: ',' expected after '\"'\nSkipping line 36235: ',' expected after '\"'\nSkipping line 36236: ',' expected after '\"'\nSkipping line 36244: ',' expected after '\"'\nSkipping line 36254: ',' expected after '\"'\nSkipping line 36264: ',' expected after '\"'\nSkipping line 36266: ',' expected after '\"'\nSkipping line 36270: ',' expected after '\"'\nSkipping line 36286: ',' expected after '\"'\nSkipping line 36292: ',' expected after '\"'\nSkipping line 36293: ',' expected after '\"'\nSkipping line 36312: ',' expected after '\"'\nSkipping line 36605: ',' expected after '\"'\nSkipping line 36780: ',' expected after '\"'\nSkipping line 36848: ',' expected after '\"'\nSkipping line 36913: ',' expected after '\"'\nSkipping line 36934: ',' expected after '\"'\nSkipping line 36959: ',' expected after '\"'\nSkipping line 37018: ',' expected after '\"'\nSkipping line 37108: ',' expected after '\"'\nSkipping line 37257: ',' expected after '\"'\nSkipping line 37325: ',' expected after '\"'\nSkipping line 37446: ',' expected after '\"'\nSkipping line 37470: ',' expected after '\"'\nSkipping line 37603: ',' expected after '\"'\nSkipping line 38135: ',' expected after '\"'\nSkipping line 38142: ',' expected after '\"'\nSkipping line 38190: ',' expected after '\"'\nSkipping line 38258: ',' expected after '\"'\nSkipping line 38327: ',' expected after '\"'\nSkipping line 38342: ',' expected after '\"'\nSkipping line 38347: ',' expected after '\"'\nSkipping line 38370: ',' expected after '\"'\nSkipping line 38371: ',' expected after '\"'\nSkipping line 38441: ',' expected after '\"'\nSkipping line 38544: ',' expected after '\"'\nSkipping line 38580: ',' expected after '\"'\nSkipping line 38584: ',' expected after '\"'\nSkipping line 38592: ',' expected after '\"'\nSkipping line 38628: ',' expected after '\"'\nSkipping line 38659: ',' expected after '\"'\nSkipping line 38735: ',' expected after '\"'\nSkipping line 38797: ',' expected after '\"'\nSkipping line 38849: ',' expected after '\"'\nSkipping line 38862: ',' expected after '\"'\nSkipping line 38913: ',' expected after '\"'\nSkipping line 38916: ',' expected after '\"'\nSkipping line 39013: ',' expected after '\"'\nSkipping line 39067: ',' expected after '\"'\nSkipping line 39081: ',' expected after '\"'\nSkipping line 39136: ',' expected after '\"'\nSkipping line 39143: ',' expected after '\"'\nSkipping line 39175: ',' expected after '\"'\nSkipping line 39249: ',' expected after '\"'\nSkipping line 39305: ',' expected after '\"'\nSkipping line 39343: ',' expected after '\"'\nSkipping line 39344: ',' expected after '\"'\nSkipping line 39369: ',' expected after '\"'\nSkipping line 39378: ',' expected after '\"'\nSkipping line 39699: ',' expected after '\"'\nSkipping line 39882: ',' expected after '\"'\nSkipping line 40055: ',' expected after '\"'\nSkipping line 40122: ',' expected after '\"'\nSkipping line 40158: ',' expected after '\"'\nSkipping line 40162: ',' expected after '\"'\nSkipping line 40166: ',' expected after '\"'\nSkipping line 40211: ',' expected after '\"'\nSkipping line 40229: ',' expected after '\"'\nSkipping line 40275: ',' expected after '\"'\nSkipping line 40399: ',' expected after '\"'\nSkipping line 40407: ',' expected after '\"'\nSkipping line 40490: ',' expected after '\"'\nSkipping line 40575: ',' expected after '\"'\nSkipping line 40592: ',' expected after '\"'\nSkipping line 40605: ',' expected after '\"'\nSkipping line 40627: ',' expected after '\"'\nSkipping line 40669: ',' expected after '\"'\nSkipping line 40691: ',' expected after '\"'\nSkipping line 40743: ',' expected after '\"'\nSkipping line 40750: ',' expected after '\"'\nSkipping line 40832: ',' expected after '\"'\nSkipping line 40904: ',' expected after '\"'\nSkipping line 40907: ',' expected after '\"'\nSkipping line 40929: ',' expected after '\"'\nSkipping line 40941: ',' expected after '\"'\nSkipping line 40999: ',' expected after '\"'\nSkipping line 41007: ',' expected after '\"'\nSkipping line 41024: ',' expected after '\"'\nSkipping line 41156: ',' expected after '\"'\nSkipping line 41164: ',' expected after '\"'\nSkipping line 41425: ',' expected after '\"'\nSkipping line 41447: ',' expected after '\"'\nSkipping line 41450: ',' expected after '\"'\nSkipping line 41542: ',' expected after '\"'\nSkipping line 41653: ',' expected after '\"'\nSkipping line 41746: ',' expected after '\"'\nSkipping line 41748: ',' expected after '\"'\nSkipping line 41810: ',' expected after '\"'\nSkipping line 41817: ',' expected after '\"'\nSkipping line 41818: ',' expected after '\"'\nSkipping line 41848: ',' expected after '\"'\nSkipping line 41884: ',' expected after '\"'\nSkipping line 41888: ',' expected after '\"'\nSkipping line 41923: ',' expected after '\"'\nSkipping line 41933: ',' expected after '\"'\nSkipping line 41950: ',' expected after '\"'\nSkipping line 41952: ',' expected after '\"'\nSkipping line 41957: ',' expected after '\"'\nSkipping line 41982: ',' expected after '\"'\nSkipping line 42002: ',' expected after '\"'\nSkipping line 42048: ',' expected after '\"'\nSkipping line 42075: ',' expected after '\"'\nSkipping line 42079: ',' expected after '\"'\nSkipping line 42109: ',' expected after '\"'\nSkipping line 42133: ',' expected after '\"'\nSkipping line 42137: ',' expected after '\"'\nSkipping line 42138: ',' expected after '\"'\nSkipping line 42147: ',' expected after '\"'\nSkipping line 42176: ',' expected after '\"'\nSkipping line 42177: ',' expected after '\"'\nSkipping line 42178: ',' expected after '\"'\nSkipping line 42198: ',' expected after '\"'\nSkipping line 42245: ',' expected after '\"'\nSkipping line 42248: ',' expected after '\"'\nSkipping line 42267: ',' expected after '\"'\nSkipping line 42295: ',' expected after '\"'\nSkipping line 42309: ',' expected after '\"'\nSkipping line 42340: ',' expected after '\"'\nSkipping line 42365: ',' expected after '\"'\nSkipping line 42373: ',' expected after '\"'\nSkipping line 42376: ',' expected after '\"'\nSkipping line 42395: ',' expected after '\"'\nSkipping line 42428: ',' expected after '\"'\nSkipping line 42462: ',' expected after '\"'\nSkipping line 42479: ',' expected after '\"'\nSkipping line 42496: ',' expected after '\"'\nSkipping line 42563: ',' expected after '\"'\nSkipping line 42587: ',' expected after '\"'\nSkipping line 42598: ',' expected after '\"'\nSkipping line 42619: ',' expected after '\"'\nSkipping line 42625: ',' expected after '\"'\nSkipping line 42662: ',' expected after '\"'\nSkipping line 42767: ',' expected after '\"'\nSkipping line 42776: ',' expected after '\"'\nSkipping line 42836: ',' expected after '\"'\nSkipping line 42852: ',' expected after '\"'\nSkipping line 42888: ',' expected after '\"'\nSkipping line 42897: unexpected end of data\nSkipping line 32926: Expected 47 fields in line 32926, saw 51\nSkipping line 41499: Expected 47 fields in line 41499, saw 48\n"
    }
   ],
   "source": [
    "df = pd.read_csv('reduced1.csv', header=0, error_bad_lines=False, engine=\"python\");\n"
   ]
  },
  {
   "cell_type": "code",
   "execution_count": 188,
   "metadata": {},
   "outputs": [
    {
     "output_type": "execute_result",
     "data": {
      "text/plain": "47"
     },
     "metadata": {},
     "execution_count": 188
    }
   ],
   "source": [
    "len(df.columns)"
   ]
  },
  {
   "cell_type": "code",
   "execution_count": 189,
   "metadata": {},
   "outputs": [],
   "source": [
    "def wrangle(df):\n",
    "    X= df.copy()\n",
    "    cols  = X.columns.tolist()\n",
    "\n",
    "    dropcols = target()\n",
    "    dropcols += boundary\n",
    "    df.drop(labels=delete, axis=1, inplace=True)\n",
    "    #do stuff\n",
    "    #drop column \n",
    "    return X"
   ]
  },
  {
   "cell_type": "code",
   "execution_count": 190,
   "metadata": {},
   "outputs": [
    {
     "output_type": "execute_result",
     "data": {
      "text/plain": "CaseID                                                   object\nOpened                                                   object\nClosed                                                   object\nUpdated                                                  object\nStatus                                                   object\nStatus Notes                                             object\nResponsible Agency                                       object\nCategory                                                 object\nRequest Type                                             object\nRequest Details                                          object\nAddress                                                  object\nStreet                                                   object\nSupervisor District                                      object\nNeighborhood                                             object\nPolice District                                          object\nLatitude                                                 object\nLongitude                                                object\nPoint                                                    object\nSource                                                   object\nMedia URL                                                object\nSF Find Neighborhoods                                   float64\nCurrent Police Districts                                float64\nCurrent Supervisor Districts                            float64\nAnalysis Neighborhoods                                  float64\nDELETE - Supervisor Districts                           float64\nDELETE - Fire Prevention Districts                      float64\nDELETE - Current Police Districts                       float64\nDELETE - Zip Codes                                      float64\nDELETE - Police Districts                               float64\nDELETE - Neighborhoods                                  float64\nDELETE - Neighborhoods_from_fyvs_ahh9                   float64\nDELETE - 2017 Fix It Zones                              float64\nDELETE - SF Find Neighborhoods                          float64\nCivic Center Harm Reduction Project Boundary            float64\nDELETE - Current Supervisor Districts                   float64\nFix It Zones as of 2017-11-06                           float64\nInvest In Neighborhoods (IIN) Areas                     float64\nDELETE - HSOC Zones                                     float64\nFix It Zones as of 2018-02-07                           float64\nCBD, BID and GBD Boundaries as of 2017                  float64\nCentral Market/Tenderloin Boundary                      float64\nAreas of Vulnerability, 2016                            float64\nCentral Market/Tenderloin Boundary Polygon - Updated    float64\nHSOC Zones as of 2018-06-05                             float64\nOWED Public Spaces                                      float64\nParks Alliance CPSI (27+TL sites)                       float64\nNeighborhoods                                           float64\ndtype: object"
     },
     "metadata": {},
     "execution_count": 190
    }
   ],
   "source": [
    "columns = df.columns\n",
    "str_cols = df.select_dtypes('object').columns\n",
    "df.dtypes\n"
   ]
  },
  {
   "cell_type": "code",
   "execution_count": 191,
   "metadata": {},
   "outputs": [],
   "source": [
    "delete = [s for s in df.columns.values if 'DELETE - ' in s]   #columns have delete in name\n",
    "boundary = [s for s in df.columns.values if 'Boundary' in s]   #columns have boundary in name\n",
    "floatcols = df.select_dtypes(include='float64').columns\n"
   ]
  },
  {
   "cell_type": "code",
   "execution_count": 192,
   "metadata": {},
   "outputs": [],
   "source": [
    "class wrangler:\n",
    "    #class vars\n",
    "    dropcols = list() #list to store columns to drop\n",
    "    droprows = dict() #row boolean filters\n",
    "\n",
    "    bool_filters = dict() # list of name, expression tuples , or dict?\n",
    "\n",
    "    encoders = dict() # colname, function to be applied to elements\n",
    "\n",
    "    def __init__(self, data):\n",
    "        self.raw_df = data.copy()  \n",
    "        self.working = self.raw_df.copy()\n",
    "    #methods\n",
    "    def set_data(self,df):          # reset dataframe to new df\n",
    "        print('set data to df', df.shape)\n",
    "        self.raw_df= df.copy()\n",
    "        self.working = self.raw_df.copy()\n",
    "        return working\n",
    "    def add_to_dropcols(self,labels):\n",
    "        for l in labels:\n",
    "            if l in self.dropcols:\n",
    "                print('error column already in dropcols list')\n",
    "                break\n",
    "                return self.dropcols\n",
    "        self.dropcols.extend(labels)\n",
    "        return self.dropcols\n",
    "\n",
    "    def get_dropcols(self):\n",
    "        if not self.dropcols: \n",
    "            print('no columns to drop')\n",
    "        return self.dropcols\n",
    "    def clear_dropcols(self):\n",
    "        self.dropcols=list()\n",
    "        return True\n",
    "    def get_nancols(self, df=None, store=False):\n",
    "        if df is None: \n",
    "            df=self.working\n",
    "        cols =df.columns\n",
    "        nc=df[cols].isnull().sum().index.tolist()\n",
    "        if store:\n",
    "            self.nancols = nc\n",
    "        return nc\n",
    "    def add_to_droprows(self, name, expr):\n",
    "        self.droprows[name] = expr \n",
    "        return self.droprows\n",
    "\n",
    "    def get_params(self):\n",
    "        pass\n",
    "        #return all wrangler settings \n",
    "    def set_nanval(self):\n",
    "        pass \n",
    "       # self.nanvals add self to \n",
    "    def add_bool_filter(self, label, expr):  #\n",
    "        self.bool_filters[label] = expr\n",
    "        return self.bool_filters\n",
    "    def add_encoding(self, label, mapper):\n",
    "        self.encoders[label]= mapper\n",
    "\n",
    "#internal \n",
    "    def drop_rows_by_mask(self,df=None,labels=None):\n",
    "        if df is None:\n",
    "            df=self.working\n",
    "        if labels is None:\n",
    "            print('dropping all in droprows..')\n",
    "            if self.droprows:\n",
    "                labels = list(self.droprows.keys())\n",
    "        mask = self.droprows[labels[0]]  #get first boolean mask\n",
    "        for l in labels: \n",
    "            print('\\napplying mask: ',l )\n",
    "            mask = mask | self.droprows[l]   #or them all together\n",
    "        df.drop(index=df[mask].index,inplace=True)\n",
    "        \n",
    "        return df \n",
    "    def drop_dupes(self, df=None):\n",
    "        if df is None:\n",
    "            df=self.working\n",
    "        todropindex = df[df.duplicated()].index\n",
    "        df.drop(todropindex,axis=0, inplace=True)\n",
    "        return df\n",
    "\n",
    "    def drop_columns(self,df=None):\n",
    "        if df is None:\n",
    "            df = self.working\n",
    "        #todo check dropcols present in df.columns\n",
    "        return df.drop(labels=self.dropcols, axis=1)\n",
    "\n",
    "    def encode(self,df=None):\n",
    "        if df is None: \n",
    "            df=df.working\n",
    "        for k in self.encoders:\n",
    "            temp[k] = temp[k].map(self.encoders[k])\n",
    "        return temp\n",
    "    def to_datetime(self, cols=None, df=None):\n",
    "        if df is None:\n",
    "            df=self.working\n",
    "            print('\\n working df is being changed..')\n",
    "        if cols is None:\n",
    "            cols=self.dt_cols\n",
    "        for c in cols:\n",
    "            print('converting',c,'to datetime')\n",
    "            try:\n",
    "                df[c] = pd.to_datetime(df[c],infer_datetime_format=True)  #inplace \n",
    "            except: \n",
    "                print('error - possible this column needs cleaning')\n",
    "        return df\n",
    "\n",
    "    order_default = [drop_rows_by_mask, \n",
    "                    drop_dupes,\n",
    "                    drop_columns,\n",
    "                    encode]    #list of methods in order of application\n",
    "\n",
    "    def wrangle(self, df=None):\n",
    "        if df is None:\n",
    "            df =self.raw_df.copy() # start from the beginning \n",
    "            result = df\n",
    "            print('will apply :', self.order_default)\n",
    "            for f in self.order_default:\n",
    "                print('level')\n",
    "                result = f(result)\n",
    "        return result\n",
    "## instantiate  a wrangler and setup drops and encoding. \n",
    "## run methods on the internal working copy to iterate \n",
    "## to test entire workflow, run wrangle() with the default to process the orginal data in order defined \n",
    "## "
   ]
  },
  {
   "cell_type": "code",
   "execution_count": 193,
   "metadata": {},
   "outputs": [
    {
     "output_type": "execute_result",
     "data": {
      "text/plain": "dict_keys(['missing_caseid'])"
     },
     "metadata": {},
     "execution_count": 193
    }
   ],
   "source": [
    "##define settings here \n",
    "test = wrangler(df)   \n",
    "test.clear_dropcols()\n",
    "test.add_to_dropcols(delete)\n",
    "test.locationcols =['Latitude','Longitude','Point']\n",
    "test.add_to_dropcols(['Point'])\n",
    "\n",
    "missing_neighborhood = lambda x : 'missing' if math.isnan(x) else x                   #\n",
    "test.encoders['Analysis Neighborhoods']= (lambda x : 'missing' if math.isnan(x) else x)\n",
    "\n",
    "missing_to_0 = lambda x : 0 if math.isnan(x) else int(x)\n",
    "test.encoders['Media URL'] = missing_to_0     \n",
    "\n",
    "def caseid_to_int (x):    #convert good caseids to int, bad to zero for drop\n",
    "    try:\n",
    "        i = int(x)\n",
    "    except:\n",
    "        i = 0         #strings are converted to zero for dropping \n",
    "    return i\n",
    "\n",
    "test.encoders['CaseId']= caseid_to_int\n",
    "\n",
    "zeroids = df.CaseID.map(caseid_to_int) == 0    #mask to drop rows with no bad caseid\n",
    "\n",
    "test.droprows['missing_caseid'] = zeroids\n",
    "test.droprows.keys()\n"
   ]
  },
  {
   "cell_type": "code",
   "execution_count": 194,
   "metadata": {},
   "outputs": [],
   "source": [
    "\n",
    "hoodcols = list()\n",
    "for c in df.columns:\n",
    "    if 'Neighborhood' in c:\n",
    "        hoodcols.append(c)\n",
    "\n",
    "dt_cols = ['Opened','Closed','Updated']\n",
    "test.dt_cols = dt_cols"
   ]
  },
  {
   "cell_type": "code",
   "execution_count": 195,
   "metadata": {},
   "outputs": [],
   "source": [
    "\n",
    "## filter some stuff \n",
    "muni = df.Category== 'MUNI Feedback'   #bus complaints we dont want\n",
    "\n",
    "test.add_to_droprows('muni', muni);\n"
   ]
  },
  {
   "cell_type": "code",
   "execution_count": 196,
   "metadata": {},
   "outputs": [
    {
     "output_type": "execute_result",
     "data": {
      "text/plain": "((41684, 47), Opened     object\n Closed     object\n Updated    object\n dtype: object)"
     },
     "metadata": {},
     "execution_count": 196
    }
   ],
   "source": [
    "test.working.shape, test.working[dt_cols].dtypes\n"
   ]
  },
  {
   "cell_type": "code",
   "execution_count": 159,
   "metadata": {},
   "outputs": [
    {
     "output_type": "execute_result",
     "data": {
      "text/plain": "Opened     object\nClosed     object\nUpdated    object\ndtype: object"
     },
     "metadata": {},
     "execution_count": 159
    }
   ],
   "source": []
  },
  {
   "cell_type": "code",
   "execution_count": 179,
   "metadata": {
    "tags": []
   },
   "outputs": [
    {
     "output_type": "stream",
     "name": "stdout",
     "text": "dropping all in droprows..\n\napplying mask:  missing_caseid\n\napplying mask:  muni\n\n working df is being changed..\n"
    },
    {
     "output_type": "error",
     "ename": "AttributeError",
     "evalue": "'wrangler' object has no attribute 'dt_cols'",
     "traceback": [
      "\u001b[0;31m---------------------------------------------------------------------------\u001b[0m",
      "\u001b[0;31mAttributeError\u001b[0m                            Traceback (most recent call last)",
      "\u001b[0;32m<ipython-input-179-c1e93a91eec8>\u001b[0m in \u001b[0;36m<module>\u001b[0;34m\u001b[0m\n\u001b[1;32m      1\u001b[0m \u001b[0;31m## run  some of the setup functionality\u001b[0m\u001b[0;34m\u001b[0m\u001b[0;34m\u001b[0m\u001b[0;34m\u001b[0m\u001b[0m\n\u001b[1;32m      2\u001b[0m \u001b[0mtest\u001b[0m\u001b[0;34m.\u001b[0m\u001b[0mdrop_rows_by_mask\u001b[0m\u001b[0;34m(\u001b[0m\u001b[0;34m)\u001b[0m\u001b[0;34m\u001b[0m\u001b[0;34m\u001b[0m\u001b[0m\n\u001b[0;32m----> 3\u001b[0;31m \u001b[0mtest\u001b[0m\u001b[0;34m.\u001b[0m\u001b[0mto_datetime\u001b[0m\u001b[0;34m(\u001b[0m\u001b[0;34m)\u001b[0m\u001b[0;34m;\u001b[0m\u001b[0;34m\u001b[0m\u001b[0;34m\u001b[0m\u001b[0m\n\u001b[0m",
      "\u001b[0;32m<ipython-input-174-ee6797985a93>\u001b[0m in \u001b[0;36mto_datetime\u001b[0;34m(self, cols, df)\u001b[0m\n\u001b[1;32m     96\u001b[0m             \u001b[0mprint\u001b[0m\u001b[0;34m(\u001b[0m\u001b[0;34m'\\n working df is being changed..'\u001b[0m\u001b[0;34m)\u001b[0m\u001b[0;34m\u001b[0m\u001b[0;34m\u001b[0m\u001b[0m\n\u001b[1;32m     97\u001b[0m         \u001b[0;32mif\u001b[0m \u001b[0mcols\u001b[0m \u001b[0;32mis\u001b[0m \u001b[0;32mNone\u001b[0m\u001b[0;34m:\u001b[0m\u001b[0;34m\u001b[0m\u001b[0;34m\u001b[0m\u001b[0m\n\u001b[0;32m---> 98\u001b[0;31m             \u001b[0mcols\u001b[0m\u001b[0;34m=\u001b[0m\u001b[0mself\u001b[0m\u001b[0;34m.\u001b[0m\u001b[0mdt_cols\u001b[0m\u001b[0;34m\u001b[0m\u001b[0;34m\u001b[0m\u001b[0m\n\u001b[0m\u001b[1;32m     99\u001b[0m         \u001b[0;32mfor\u001b[0m \u001b[0mc\u001b[0m \u001b[0;32min\u001b[0m \u001b[0mcols\u001b[0m\u001b[0;34m:\u001b[0m\u001b[0;34m\u001b[0m\u001b[0;34m\u001b[0m\u001b[0m\n\u001b[1;32m    100\u001b[0m             \u001b[0mprint\u001b[0m\u001b[0;34m(\u001b[0m\u001b[0;34m'converting'\u001b[0m\u001b[0;34m,\u001b[0m\u001b[0mc\u001b[0m\u001b[0;34m,\u001b[0m\u001b[0;34m'to datetime'\u001b[0m\u001b[0;34m)\u001b[0m\u001b[0;34m\u001b[0m\u001b[0;34m\u001b[0m\u001b[0m\n",
      "\u001b[0;31mAttributeError\u001b[0m: 'wrangler' object has no attribute 'dt_cols'"
     ]
    }
   ],
   "source": [
    "## run  some of the setup functionality \n",
    "test.drop_rows_by_mask()\n",
    "test.to_datetime();\n"
   ]
  },
  {
   "cell_type": "code",
   "execution_count": 180,
   "metadata": {},
   "outputs": [
    {
     "output_type": "execute_result",
     "data": {
      "text/plain": "[<function __main__.wrangler.drop_rows_by_mask(self, df=None, labels=None)>,\n <function __main__.wrangler.drop_dupes(self, df=None)>,\n <function __main__.wrangler.drop_columns(self, df=None)>,\n <function __main__.wrangler.encode(self, df=None)>]"
     },
     "metadata": {},
     "execution_count": 180
    }
   ],
   "source": [
    "test.order_default"
   ]
  },
  {
   "cell_type": "code",
   "execution_count": 181,
   "metadata": {
    "tags": []
   },
   "outputs": [
    {
     "output_type": "stream",
     "name": "stdout",
     "text": "dropping all in droprows..\n\napplying mask:  missing_caseid\n\napplying mask:  muni\n"
    },
    {
     "output_type": "execute_result",
     "data": {
      "text/plain": "(37537, 35)"
     },
     "metadata": {},
     "execution_count": 181
    }
   ],
   "source": [
    "test.add_to_droprows('muni',muni)\n",
    "test.drop_rows_by_mask(temp).shape"
   ]
  },
  {
   "cell_type": "code",
   "execution_count": 182,
   "metadata": {},
   "outputs": [
    {
     "output_type": "execute_result",
     "data": {
      "text/plain": "    NaN                    NaN   \n7   http://mobile311.sfgov.org/reports/12431163/photos                   15.0   \n8                                                  NaN                    NaN   \n9                                                  NaN                    NaN   \n10                                                 NaN                   12.0   \n11                                                 NaN                   91.0   \n12                                                 NaN                   14.0   \n13                                                 NaN                   25.0   \n14                                                 NaN                    NaN   \n15                                                None                    NaN   \n16                                                 NaN                  105.0   \n17                                                   9                    6.0   \n18                                                 NaN                    5.0   \n19  http://mobile311.sfgov.org/reports/11915375/photos                   25.0   \n\n    Current Police Districts  Current Supervisor Districts  \\\n0                        NaN                           NaN   \n1                        NaN                           NaN   \n2                        NaN                           NaN   \n3                        1.0                          10.0   \n4                        4.0                          11.0   \n5                        6.0                           3.0   \n6                        NaN                           NaN   \n7                        4.0                           6.0   \n8                        NaN                           NaN   \n9                        NaN                           NaN   \n10                       7.0                           6.0   \n11                       2.0                           2.0   \n12                       4.0                           6.0   \n13                       7.0                          11.0   \n14                       NaN                           NaN   \n15                       NaN                           NaN   \n16                       4.0                           3.0   \n17                       2.0                       28856.0   \n18                       8.0                           4.0   \n19                       7.0                          11.0   \n\n    Analysis Neighborhoods  DELETE - Supervisor Districts  \\\n0                      NaN                            NaN   \n1                      NaN                            NaN   \n2                      NaN                            NaN   \n3                     34.0                            9.0   \n4                      3.0                           11.0   \n5                     21.0                           10.0   \n6                      NaN                            NaN   \n7                     13.0                            1.0   \n8                      NaN                            NaN   \n9                      NaN                            NaN   \n10                    18.0                            1.0   \n11                    25.0                            7.0   \n12                    13.0                            1.0   \n13                     3.0                           11.0   \n14                     NaN                            NaN   \n15                     NaN                            NaN   \n16                    32.0                           10.0   \n17                     2.0                            6.0   \n18                    29.0                            2.0   \n19                     3.0                           11.0   \n\n    DELETE - Fire Prevention Districts  DELETE - Current Police Districts  \\\n0                                  NaN                                NaN   \n1                                  NaN                                NaN   \n2                                  NaN                                NaN   \n3                                 14.0                                2.0   \n4                                 15.0                                8.0   \n5                                  5.0                                1.0   \n6                                  NaN                                NaN   \n7                                 13.0                                6.0   \n8                                  NaN                                NaN   \n9                                  NaN                                NaN   \n10                                15.0                                8.0   \n11                                10.0                                3.0   \n12                                13.0                                6.0   \n13                                15.0                                8.0   \n14                                 NaN                                NaN   \n15                                 NaN                                NaN   \n16                                13.0                                6.0   \n17                                 6.0                                NaN   \n18                                11.0                                9.0   \n19                                15.0                                8.0   \n\n    DELETE - Zip Codes  DELETE - Police Districts  DELETE - Neighborhoods  \\\n0                  NaN                        NaN                     NaN   \n1                  NaN                        NaN                     NaN   \n2                  NaN                        NaN                     NaN   \n3              28853.0                        2.0                    34.0   \n4              29492.0                        5.0                     9.0   \n5              28858.0                        1.0                    21.0   \n6                  NaN                        NaN                     NaN   \n7                 57.0                        9.0                    17.0   \n8                  NaN                        NaN                     NaN   \n9                  NaN                        NaN                     NaN   \n10                54.0                        5.0                    16.0   \n11               309.0                        3.0                    28.0   \n12                57.0                        9.0                    17.0   \n13             29492.0                        5.0                     9.0   \n14                 NaN                        NaN                     NaN   \n15                 NaN                        NaN                     NaN   \n16             28858.0                        9.0                    32.0   \n17                31.0                        NaN                    10.0   \n18                54.0                        6.0                    26.0   \n19             29492.0                        5.0                     9.0   \n\n    DELETE - Neighborhoods_from_fyvs_ahh9  DELETE - 2017 Fix It Zones  \\\n0                                     NaN                         NaN   \n1                                     NaN                         NaN   \n2                                     NaN                         NaN   \n3                                    34.0                        24.0   \n4                                     9.0                         NaN   \n5                                    21.0                         NaN   \n6                                     NaN                         NaN   \n7                                    17.0                         NaN   \n8                                     NaN                         NaN   \n9                                     NaN                         NaN   \n10                                   16.0                         NaN   \n11                                   28.0                         NaN   \n12                                   17.0                         NaN   \n13                                    9.0                        22.0   \n14                                    NaN                         NaN   \n15                                    NaN                         NaN   \n16                                   32.0                         NaN   \n17                                    NaN                         NaN   \n18                                   26.0                         NaN   \n19                                    9.0                         NaN   \n\n    DELETE - SF Find Neighborhoods  \\\n0                              NaN   \n1                              NaN   \n2                              NaN   \n3                             32.0   \n4                             26.0   \n5                             50.0   \n6                              NaN   \n7                             15.0   \n8                              NaN   \n9                              NaN   \n10                            12.0   \n11                            91.0   \n12                            14.0   \n13                            25.0   \n14                             NaN   \n15                             NaN   \n16                           105.0   \n17                             NaN   \n18                             5.0   \n19                            25.0   \n\n    Civic Center Harm Reduction Project Boundary  \\\n0                                            NaN   \n1                                            NaN   \n2                                            NaN   \n3                                            1.0   \n4                                            NaN   \n5                                            NaN   \n6                                            NaN   \n7                                            NaN   \n8                                            NaN   \n9                                            NaN   \n10                                           NaN   \n11                                           NaN   \n12                                           NaN   \n13                                           NaN   \n14                                           NaN   \n15                                           NaN   \n16                                           NaN   \n17                                           NaN   \n18                                           NaN   \n19                                           NaN   \n\n    DELETE - Current Supervisor Districts  Fix It Zones as of 2017-11-06   \\\n0                                     NaN                             NaN   \n1                                     NaN                             NaN   \n2                                     NaN                             NaN   \n3                                    10.0                             6.0   \n4                                    11.0                             NaN   \n5                                     3.0                             NaN   \n6                                     NaN                             NaN   \n7                                     6.0                             NaN   \n8                                     NaN                             NaN   \n9                                     NaN                             NaN   \n10                                    6.0                             NaN   \n11                                    2.0                             NaN   \n12                                    6.0                             NaN   \n13                                   11.0                            24.0   \n14                                    NaN                             NaN   \n15                                    NaN                             NaN   \n16                                    3.0                             NaN   \n17                                    NaN                             NaN   \n18                                    4.0                             NaN   \n19                                   11.0                             NaN   \n\n    Invest In Neighborhoods (IIN) Areas  DELETE - HSOC Zones  \\\n0                                   NaN                  NaN   \n1                                   NaN                  NaN   \n2                                   NaN                  NaN   \n3                                   NaN                  1.0   \n4                                   NaN                  NaN   \n5                                   NaN                  NaN   \n6                                   NaN                  NaN   \n7                                   NaN                  NaN   \n8                                   NaN                  NaN   \n9                                   NaN                  NaN   \n10                                  NaN                  NaN   \n11                                  NaN                  NaN   \n12                                  NaN                  NaN   \n13                                  NaN                  NaN   \n14                                  NaN                  NaN   \n15                                  NaN                  NaN   \n16                                  NaN                  NaN   \n17                                  1.0                  NaN   \n18                                  NaN                  NaN   \n19                                  NaN                  NaN   \n\n    Fix It Zones as of 2018-02-07  CBD, BID and GBD Boundaries as of 2017  \\\n0                             NaN                                     NaN   \n1                             NaN                                     NaN   \n2                             NaN                                     NaN   \n3                             6.0                                     NaN   \n4                             NaN                                     NaN   \n5                             NaN                                     NaN   \n6                             NaN                                     NaN   \n7                             NaN                                     NaN   \n8                             NaN                                     NaN   \n9                             NaN                                     NaN   \n10                            NaN                                     NaN   \n11                            NaN                                     NaN   \n12                            NaN                                     NaN   \n13                           25.0                                     NaN   \n14                            NaN                                     NaN   \n15                            NaN                                     NaN   \n16                            NaN                                     NaN   \n17                            NaN                                     NaN   \n18                            NaN                                     NaN   \n19                            NaN                                     NaN   \n\n    Central Market/Tenderloin Boundary  Areas of Vulnerability, 2016  \\\n0                                  NaN                           NaN   \n1                                  NaN                           NaN   \n2                                  NaN                           NaN   \n3                                  NaN                           2.0   \n4                                  NaN                           1.0   \n5                                  NaN                           1.0   \n6                                  NaN                           NaN   \n7                                  NaN                           1.0   \n8                                  NaN                           NaN   \n9                                  NaN                           NaN   \n10                                 NaN                           1.0   \n11                                 NaN                           2.0   \n12                                 NaN                           1.0   \n13                                 NaN                           1.0   \n14                                 NaN                           NaN   \n15                                 NaN                           NaN   \n16                                 NaN                           1.0   \n17                                 NaN                          31.0   \n18                                 NaN                           1.0   \n19                                 NaN                           1.0   \n\n    Central Market/Tenderloin Boundary Polygon - Updated  \\\n0                                                    NaN   \n1                                                    NaN   \n2                                                    NaN   \n3                                                    NaN   \n4                                                    NaN   \n5                                                    NaN   \n6                                                    NaN   \n7                                                    NaN   \n8                                                    NaN   \n9                                                    NaN   \n10                                                   NaN   \n11                                                   NaN   \n12                                                   NaN   \n13                                                   NaN   \n14                                                   NaN   \n15                                                   NaN   \n16                                                   NaN   \n17                                                   NaN   \n18                                                   NaN   \n19                                                   NaN   \n\n    HSOC Zones as of 2018-06-05  OWED Public Spaces  \\\n0                           NaN                 NaN   \n1                           NaN                 NaN   \n2                           NaN                 NaN   \n3                           1.0                 NaN   \n4                           NaN                 NaN   \n5                           NaN                 NaN   \n6                           NaN                 NaN   \n7                           NaN                 NaN   \n8                           NaN                 NaN   \n9                           NaN                 NaN   \n10                          NaN                 NaN   \n11                          NaN                 NaN   \n12                          NaN                 NaN   \n13                          NaN                 NaN   \n14                          NaN                 NaN   \n15                          NaN                 NaN   \n16                          NaN                 NaN   \n17                          NaN                 NaN   \n18                          NaN                 3.0   \n19                          NaN                 NaN   \n\n    Parks Alliance CPSI (27+TL sites)  Neighborhoods  \n0                                 NaN            NaN  \n1                                 NaN            NaN  \n2                                 NaN            NaN  \n3                                 NaN           32.0  \n4                                 NaN           26.0  \n5                                 NaN           50.0  \n6                                 NaN            NaN  \n7                                 NaN           15.0  \n8                                 NaN            NaN  \n9                                 NaN            NaN  \n10                                NaN           12.0  \n11                                NaN           91.0  \n12                                NaN           14.0  \n13                                NaN           25.0  \n14                                NaN            NaN  \n15                                NaN            NaN  \n16                                NaN          105.0  \n17                                NaN            NaN  \n18                                NaN            5.0  \n19                                NaN           25.0  ",
      "text/html": "<div>\n<style scoped>\n    .dataframe tbody tr th:only-of-type {\n        vertical-align: middle;\n    }\n\n    .dataframe tbody tr th {\n        vertical-align: top;\n    }\n\n    .dataframe thead th {\n        text-align: right;\n    }\n</style>\n<table border=\"1\" class=\"dataframe\">\n  <thead>\n    <tr style=\"text-align: right;\">\n      <th></th>\n      <th>CaseID</th>\n      <th>Opened</th>\n      <th>Closed</th>\n      <th>Updated</th>\n      <th>Status</th>\n      <th>Status Notes</th>\n      <th>Responsible Agency</th>\n      <th>Category</th>\n      <th>Request Type</th>\n      <th>Request Details</th>\n      <th>Address</th>\n      <th>Street</th>\n      <th>Supervisor District</th>\n      <th>Neighborhood</th>\n      <th>Police District</th>\n      <th>Latitude</th>\n      <th>Longitude</th>\n      <th>Point</th>\n      <th>Source</th>\n      <th>Media URL</th>\n      <th>SF Find Neighborhoods</th>\n      <th>Current Police Districts</th>\n      <th>Current Supervisor Districts</th>\n      <th>Analysis Neighborhoods</th>\n      <th>DELETE - Supervisor Districts</th>\n      <th>DELETE - Fire Prevention Districts</th>\n      <th>DELETE - Current Police Districts</th>\n      <th>DELETE - Zip Codes</th>\n      <th>DELETE - Police Districts</th>\n      <th>DELETE - Neighborhoods</th>\n      <th>DELETE - Neighborhoods_from_fyvs_ahh9</th>\n      <th>DELETE - 2017 Fix It Zones</th>\n      <th>DELETE - SF Find Neighborhoods</th>\n      <th>Civic Center Harm Reduction Project Boundary</th>\n      <th>DELETE - Current Supervisor Districts</th>\n      <th>Fix It Zones as of 2017-11-06</th>\n      <th>Invest In Neighborhoods (IIN) Areas</th>\n      <th>DELETE - HSOC Zones</th>\n      <th>Fix It Zones as of 2018-02-07</th>\n      <th>CBD, BID and GBD Boundaries as of 2017</th>\n      <th>Central Market/Tenderloin Boundary</th>\n      <th>Areas of Vulnerability, 2016</th>\n      <th>Central Market/Tenderloin Boundary Polygon - Updated</th>\n      <th>HSOC Zones as of 2018-06-05</th>\n      <th>OWED Public Spaces</th>\n      <th>Parks Alliance CPSI (27+TL sites)</th>\n      <th>Neighborhoods</th>\n    </tr>\n  </thead>\n  <tbody>\n    <tr>\n      <th>0</th>\n      <td>570729</td>\n      <td>12/29/2009 06:31:54 AM</td>\n      <td>12/30/2009 10:11:25 AM</td>\n      <td>12/30/2009 10:11:25 AM</td>\n      <td>Closed</td>\n      <td>Case Transferred - PSR 353925</td>\n      <td>MUNI Work Queue</td>\n      <td>MUNI Feedback</td>\n      <td>MUNI - Services_Service_Delivery_Facilities</td>\n      <td>604_Vehicle_Appearance</td>\n      <td>Not associated with a specific address</td>\n      <td>NaN</td>\n      <td>NaN</td>\n      <td>NaN</td>\n      <td>NaN</td>\n      <td>0</td>\n      <td>0</td>\n      <td>(0.0, 0.0)</td>\n      <td>Phone</td>\n      <td>NaN</td>\n      <td>NaN</td>\n      <td>NaN</td>\n      <td>NaN</td>\n      <td>NaN</td>\n      <td>NaN</td>\n      <td>NaN</td>\n      <td>NaN</td>\n      <td>NaN</td>\n      <td>NaN</td>\n      <td>NaN</td>\n      <td>NaN</td>\n      <td>NaN</td>\n      <td>NaN</td>\n      <td>NaN</td>\n      <td>NaN</td>\n      <td>NaN</td>\n      <td>NaN</td>\n      <td>NaN</td>\n      <td>NaN</td>\n      <td>NaN</td>\n      <td>NaN</td>\n      <td>NaN</td>\n      <td>NaN</td>\n      <td>NaN</td>\n      <td>NaN</td>\n      <td>NaN</td>\n      <td>NaN</td>\n    </tr>\n    <tr>\n      <th>1</th>\n      <td>570341</td>\n      <td>12/28/2009 01:31:53 PM</td>\n      <td>12/30/2009 11:16:26 AM</td>\n      <td>12/30/2009 11:16:26 AM</td>\n      <td>Closed</td>\n      <td>Case Transferred - # 353946</td>\n      <td>MUNI Work Queue</td>\n      <td>MUNI Feedback</td>\n      <td>MUNI - Conduct_Inattentiveness_Negligence</td>\n      <td>201_Pass_Up_Did_Not_Wait_for_Transferee</td>\n      <td>Not associated with a specific address</td>\n      <td>NaN</td>\n      <td>NaN</td>\n      <td>NaN</td>\n      <td>NaN</td>\n      <td>0</td>\n      <td>0</td>\n      <td>(0.0, 0.0)</td>\n      <td>Phone</td>\n      <td>NaN</td>\n      <td>NaN</td>\n      <td>NaN</td>\n      <td>NaN</td>\n      <td>NaN</td>\n      <td>NaN</td>\n      <td>NaN</td>\n      <td>NaN</td>\n      <td>NaN</td>\n      <td>NaN</td>\n      <td>NaN</td>\n      <td>NaN</td>\n      <td>NaN</td>\n      <td>NaN</td>\n      <td>NaN</td>\n      <td>NaN</td>\n      <td>NaN</td>\n      <td>NaN</td>\n      <td>NaN</td>\n      <td>NaN</td>\n      <td>NaN</td>\n      <td>NaN</td>\n      <td>NaN</td>\n      <td>NaN</td>\n      <td>NaN</td>\n      <td>NaN</td>\n      <td>NaN</td>\n      <td>NaN</td>\n    </tr>\n    <tr>\n      <th>2</th>\n      <td>570337</td>\n      <td>12/28/2009 01:29:47 PM</td>\n      <td>12/30/2009 11:09:34 AM</td>\n      <td>12/30/2009 11:09:34 AM</td>\n      <td>Closed</td>\n      <td>Case Transferred - # 353942</td>\n      <td>MUNI Work Queue</td>\n      <td>MUNI Feedback</td>\n      <td>MUNI - Conduct_Discourteous_Insensitive_Inappropriate_Conduct</td>\n      <td>301_Discourtesy_to_Customer</td>\n      <td>Not associated with a specific address</td>\n      <td>NaN</td>\n      <td>NaN</td>\n      <td>NaN</td>\n      <td>NaN</td>\n      <td>0</td>\n      <td>0</td>\n      <td>(0.0, 0.0)</td>\n      <td>Phone</td>\n      <td>NaN</td>\n      <td>NaN</td>\n      <td>NaN</td>\n      <td>NaN</td>\n      <td>NaN</td>\n      <td>NaN</td>\n      <td>NaN</td>\n      <td>NaN</td>\n      <td>NaN</td>\n      <td>NaN</td>\n      <td>NaN</td>\n      <td>NaN</td>\n      <td>NaN</td>\n      <td>NaN</td>\n      <td>NaN</td>\n      <td>NaN</td>\n      <td>NaN</td>\n      <td>NaN</td>\n      <td>NaN</td>\n      <td>NaN</td>\n      <td>NaN</td>\n      <td>NaN</td>\n      <td>NaN</td>\n      <td>NaN</td>\n      <td>NaN</td>\n      <td>NaN</td>\n      <td>NaN</td>\n      <td>NaN</td>\n    </tr>\n    <tr>\n      <th>3</th>\n      <td>570026</td>\n      <td>12/28/2009 08:45:41 AM</td>\n      <td>12/30/2009 06:16:37 AM</td>\n      <td>12/30/2009 06:16:37 AM</td>\n      <td>Closed</td>\n      <td>See Notes tab for more details</td>\n      <td>DPW Ops Queue</td>\n      <td>Street and Sidewalk Cleaning</td>\n      <td>General Cleaning</td>\n      <td>Other Loose Garbage</td>\n      <td>Intersection of FOLSOM ST and RUSS ST</td>\n      <td>FOLSOM ST</td>\n      <td>6</td>\n      <td>South of Market</td>\n      <td>SOUTHERN</td>\n      <td>37.777629852295</td>\n      <td>-122.406723022461</td>\n      <td>(37.77762985, -122.40672302)</td>\n      <td>Phone</td>\n      <td>NaN</td>\n      <td>32.0</td>\n      <td>1.0</td>\n      <td>10.0</td>\n      <td>34.0</td>\n      <td>9.0</td>\n      <td>14.0</td>\n      <td>2.0</td>\n      <td>28853.0</td>\n      <td>2.0</td>\n      <td>34.0</td>\n      <td>34.0</td>\n      <td>24.0</td>\n      <td>32.0</td>\n      <td>1.0</td>\n      <td>10.0</td>\n      <td>6.0</td>\n      <td>NaN</td>\n      <td>1.0</td>\n      <td>6.0</td>\n      <td>NaN</td>\n      <td>NaN</td>\n      <td>2.0</td>\n      <td>NaN</td>\n      <td>1.0</td>\n      <td>NaN</td>\n      <td>NaN</td>\n      <td>32.0</td>\n    </tr>\n    <tr>\n      <th>4</th>\n      <td>570009</td>\n      <td>12/28/2009 08:33:03 AM</td>\n      <td>12/29/2009 11:16:38 AM</td>\n      <td>12/29/2009 11:16:38 AM</td>\n      <td>Closed</td>\n      <td>See Notes tab for more details</td>\n      <td>DPW Ops Queue</td>\n      <td>Street and Sidewalk Cleaning</td>\n      <td>Bulky Items</td>\n      <td>Electronics</td>\n      <td>901 OAK ST, SAN FRANCISCO, CA, 94117</td>\n      <td>OAK ST</td>\n      <td>5</td>\n      <td>Lower Haight</td>\n      <td>NORTHERN</td>\n      <td>37.773487091064</td>\n      <td>-122.434150695801</td>\n      <td>(37.77348709, -122.4341507)</td>\n      <td>Phone</td>\n      <td>NaN</td>\n      <td>26.0</td>\n      <td>4.0</td>\n      <td>11.0</td>\n      <td>3.0</td>\n      <td>11.0</td>\n      <td>15.0</td>\n      <td>8.0</td>\n      <td>29492.0</td>\n      <td>5.0</td>\n      <td>9.0</td>\n      <td>9.0</td>\n      <td>NaN</td>\n      <td>26.0</td>\n      <td>NaN</td>\n      <td>11.0</td>\n      <td>NaN</td>\n      <td>NaN</td>\n      <td>NaN</td>\n      <td>NaN</td>\n      <td>NaN</td>\n      <td>NaN</td>\n      <td>1.0</td>\n      <td>NaN</td>\n      <td>NaN</td>\n      <td>NaN</td>\n      <td>NaN</td>\n      <td>26.0</td>\n    </tr>\n    <tr>\n      <th>5</th>\n      <td>569710</td>\n      <td>12/27/2009 11:13:36 AM</td>\n      <td>12/30/2009 06:16:35 AM</td>\n      <td>12/30/2009 06:16:35 AM</td>\n      <td>Closed</td>\n      <td>See Notes tab for more details</td>\n      <td>DPW Ops Queue</td>\n      <td>Street and Sidewalk Cleaning</td>\n      <td>Bulky Items</td>\n      <td>Furniture</td>\n      <td>1101 PINE ST, SAN FRANCISCO, CA, 94109</td>\n      <td>PINE ST</td>\n      <td>3</td>\n      <td>Lower Nob Hill</td>\n      <td>CENTRAL</td>\n      <td>37.790309906006</td>\n      <td>-122.414138793945</td>\n      <td>(37.79030991, -122.41413879)</td>\n      <td>Phone</td>\n      <td>NaN</td>\n      <td>50.0</td>\n      <td>6.0</td>\n      <td>3.0</td>\n      <td>21.0</td>\n      <td>10.0</td>\n      <td>5.0</td>\n      <td>1.0</td>\n      <td>28858.0</td>\n      <td>1.0</td>\n      <td>21.0</td>\n      <td>21.0</td>\n      <td>NaN</td>\n      <td>50.0</td>\n      <td>NaN</td>\n      <td>3.0</td>\n      <td>NaN</td>\n      <td>NaN</td>\n      <td>NaN</td>\n      <td>NaN</td>\n      <td>NaN</td>\n      <td>NaN</td>\n      <td>1.0</td>\n      <td>NaN</td>\n      <td>NaN</td>\n      <td>NaN</td>\n      <td>NaN</td>\n      <td>50.0</td>\n    </tr>\n    <tr>\n      <th>6</th>\n      <td>569571</td>\n      <td>12/26/2009 05:09:47 PM</td>\n      <td>12/29/2009 10:55:39 AM</td>\n      <td>12/29/2009 10:55:39 AM</td>\n      <td>Closed</td>\n      <td>Case Transferred - PSR 353805</td>\n      <td>MUNI Work Queue</td>\n      <td>MUNI Feedback</td>\n      <td>MUNI - Commendation</td>\n      <td>401_Employee_Commendation</td>\n      <td>Not associated with a specific address</td>\n      <td>NaN</td>\n      <td>NaN</td>\n      <td>NaN</td>\n      <td>NaN</td>\n      <td>0</td>\n      <td>0</td>\n      <td>(0.0, 0.0)</td>\n      <td>Phone</td>\n      <td>NaN</td>\n      <td>NaN</td>\n      <td>NaN</td>\n      <td>NaN</td>\n      <td>NaN</td>\n      <td>NaN</td>\n      <td>NaN</td>\n      <td>NaN</td>\n      <td>NaN</td>\n      <td>NaN</td>\n      <td>NaN</td>\n      <td>NaN</td>\n      <td>NaN</td>\n      <td>NaN</td>\n      <td>NaN</td>\n      <td>NaN</td>\n      <td>NaN</td>\n      <td>NaN</td>\n      <td>NaN</td>\n      <td>NaN</td>\n      <td>NaN</td>\n      <td>NaN</td>\n      <td>NaN</td>\n      <td>NaN</td>\n      <td>NaN</td>\n      <td>NaN</td>\n      <td>NaN</td>\n      <td>NaN</td>\n    </tr>\n    <tr>\n      <th>7</th>\n      <td>12431163</td>\n      <td>05/18/2020 12:46:00 PM</td>\n      <td>05/20/2020 12:00:00 AM</td>\n      <td>05/20/2020 12:00:00 AM</td>\n      <td>Closed</td>\n      <td>Case Resolved</td>\n      <td>DPW Ops Queue</td>\n      <td>Graffiti</td>\n      <td>Graffiti on Pole</td>\n      <td>Pole - Not_Offensive</td>\n      <td>2208 FILBERT ST, SAN FRANCISCO, CA, 94123</td>\n      <td>FILBERT ST</td>\n      <td>2</td>\n      <td>Union Street</td>\n      <td>NORTHERN</td>\n      <td>37.798082275528</td>\n      <td>-122.435807147712</td>\n      <td>(37.79808228, -122.43580715)</td>\n      <td>Mobile/Open311</td>\n      <td>http://mobile311.sfgov.org/reports/12431163/photos</td>\n      <td>15.0</td>\n      <td>4.0</td>\n      <td>6.0</td>\n      <td>13.0</td>\n      <td>1.0</td>\n      <td>13.0</td>\n      <td>6.0</td>\n      <td>57.0</td>\n      <td>9.0</td>\n      <td>17.0</td>\n      <td>17.0</td>\n      <td>NaN</td>\n      <td>15.0</td>\n      <td>NaN</td>\n      <td>6.0</td>\n      <td>NaN</td>\n      <td>NaN</td>\n      <td>NaN</td>\n      <td>NaN</td>\n      <td>NaN</td>\n      <td>NaN</td>\n      <td>1.0</td>\n      <td>NaN</td>\n      <td>NaN</td>\n      <td>NaN</td>\n      <td>NaN</td>\n      <td>15.0</td>\n    </tr>\n    <tr>\n      <th>8</th>\n      <td>569300</td>\n      <td>12/26/2009 08:55:42 AM</td>\n      <td>12/30/2009 11:47:37 AM</td>\n      <td>12/30/2009 11:47:37 AM</td>\n      <td>Closed</td>\n      <td>Case Transferred</td>\n      <td>Real Estate Department - G</td>\n      <td>General Request - ART COMMISSION</td>\n      <td>request_for_service</td>\n      <td>art_commission - request_for_service</td>\n      <td>Not associated with a specific address</td>\n      <td>NaN</td>\n      <td>NaN</td>\n      <td>NaN</td>\n      <td>NaN</td>\n      <td>0</td>\n      <td>0</td>\n      <td>(0.0, 0.0)</td>\n      <td>Phone</td>\n      <td>NaN</td>\n      <td>NaN</td>\n      <td>NaN</td>\n      <td>NaN</td>\n      <td>NaN</td>\n      <td>NaN</td>\n      <td>NaN</td>\n      <td>NaN</td>\n      <td>NaN</td>\n      <td>NaN</td>\n      <td>NaN</td>\n      <td>NaN</td>\n      <td>NaN</td>\n      <td>NaN</td>\n      <td>NaN</td>\n      <td>NaN</td>\n      <td>NaN</td>\n      <td>NaN</td>\n      <td>NaN</td>\n      <td>NaN</td>\n      <td>NaN</td>\n      <td>NaN</td>\n      <td>NaN</td>\n      <td>NaN</td>\n      <td>NaN</td>\n      <td>NaN</td>\n      <td>NaN</td>\n      <td>NaN</td>\n    </tr>\n    <tr>\n      <th>9</th>\n      <td>ON YOUR STREET CLEANING DAY</td>\n      <td>THE STREET CLEANING SWEEPER  WILL STILL CLEAN YOUR STREET.  VEHICLES WILL NOT BE CITED OR REQUI...</td>\n      <td>SFMTA - Parking Enforcement - G</td>\n      <td>General Request - DPH</td>\n      <td>complaint</td>\n      <td>environmental_health - complaint</td>\n      <td>Not associated with a specific address</td>\n      <td>NaN</td>\n      <td>NaN</td>\n      <td>NaN</td>\n      <td>NaN</td>\n      <td>0</td>\n      <td>0</td>\n      <td>(0.0, 0.0)</td>\n      <td>Web</td>\n      <td>NaN</td>\n      <td>NaN</td>\n      <td>NaN</td>\n      <td>NaN</td>\n      <td>NaN</td>\n      <td>NaN</td>\n      <td>NaN</td>\n      <td>NaN</td>\n      <td>NaN</td>\n      <td>NaN</td>\n      <td>NaN</td>\n      <td>NaN</td>\n      <td>NaN</td>\n      <td>NaN</td>\n      <td>NaN</td>\n      <td>NaN</td>\n      <td>NaN</td>\n      <td>NaN</td>\n      <td>NaN</td>\n      <td>NaN</td>\n      <td>NaN</td>\n      <td>NaN</td>\n      <td>NaN</td>\n      <td>NaN</td>\n      <td>NaN</td>\n      <td>NaN</td>\n      <td>NaN</td>\n      <td>NaN</td>\n      <td>NaN</td>\n      <td>NaN</td>\n      <td>NaN</td>\n      <td>NaN</td>\n    </tr>\n    <tr>\n      <th>10</th>\n      <td>569036</td>\n      <td>12/25/2009 11:26:09 AM</td>\n      <td>12/29/2009 04:16:48 PM</td>\n      <td>12/29/2009 04:16:48 PM</td>\n      <td>Closed</td>\n      <td>See Notes tab for more details</td>\n      <td>DPW Ops Queue</td>\n      <td>Graffiti</td>\n      <td>Graffiti on Building_residential</td>\n      <td>Building_residential - Offensive</td>\n      <td>Intersection of ANZA ST and MASONIC AVE</td>\n      <td>ANZA ST</td>\n      <td>1</td>\n      <td>Lone Mountain</td>\n      <td>PARK</td>\n      <td>37.781070709229</td>\n      <td>-122.44751739502</td>\n      <td>(37.78107071, -122.4475174)</td>\n      <td>Web</td>\n      <td>NaN</td>\n      <td>12.0</td>\n      <td>7.0</td>\n      <td>6.0</td>\n      <td>18.0</td>\n      <td>1.0</td>\n      <td>15.0</td>\n      <td>8.0</td>\n      <td>54.0</td>\n      <td>5.0</td>\n      <td>16.0</td>\n      <td>16.0</td>\n      <td>NaN</td>\n      <td>12.0</td>\n      <td>NaN</td>\n      <td>6.0</td>\n      <td>NaN</td>\n      <td>NaN</td>\n      <td>NaN</td>\n      <td>NaN</td>\n      <td>NaN</td>\n      <td>NaN</td>\n      <td>1.0</td>\n      <td>NaN</td>\n      <td>NaN</td>\n      <td>NaN</td>\n      <td>NaN</td>\n      <td>12.0</td>\n    </tr>\n    <tr>\n      <th>11</th>\n      <td>569013</td>\n      <td>12/25/2009 10:13:43 AM</td>\n      <td>12/29/2009 03:16:45 PM</td>\n      <td>12/29/2009 03:16:45 PM</td>\n      <td>Closed</td>\n      <td>See Notes tab for more details</td>\n      <td>DPW Ops Queue</td>\n      <td>Graffiti</td>\n      <td>Graffiti on Pole</td>\n      <td>Pole - Not_Offensive</td>\n      <td>131 FELTON ST, SAN FRANCISCO, CA, 94134</td>\n      <td>FELTON ST</td>\n      <td>9</td>\n      <td>Portola</td>\n      <td>BAYVIEW</td>\n      <td>37.72953414917</td>\n      <td>-122.406066894531</td>\n      <td>(37.72953415, -122.40606689)</td>\n      <td>Phone</td>\n      <td>NaN</td>\n      <td>91.0</td>\n      <td>2.0</td>\n      <td>2.0</td>\n      <td>25.0</td>\n      <td>7.0</td>\n      <td>10.0</td>\n      <td>3.0</td>\n      <td>309.0</td>\n      <td>3.0</td>\n      <td>28.0</td>\n      <td>28.0</td>\n      <td>NaN</td>\n      <td>91.0</td>\n      <td>NaN</td>\n      <td>2.0</td>\n      <td>NaN</td>\n      <td>NaN</td>\n      <td>NaN</td>\n      <td>NaN</td>\n      <td>NaN</td>\n      <td>NaN</td>\n      <td>2.0</td>\n      <td>NaN</td>\n      <td>NaN</td>\n      <td>NaN</td>\n      <td>NaN</td>\n      <td>91.0</td>\n    </tr>\n    <tr>\n      <th>12</th>\n      <td>12281574</td>\n      <td>04/02/2020 09:23:00 AM</td>\n      <td>04/10/2020 09:14:00 AM</td>\n      <td>04/10/2020 09:14:00 AM</td>\n      <td>Closed</td>\n      <td>Case is a Duplicate - The issue has been addressed. See status at http://dbiweb.sfgov.org/dbipts...</td>\n      <td>DBI Building Inspection Queue</td>\n      <td>General Request - BUILDING INSPECTION</td>\n      <td>request_for_service</td>\n      <td>building_inspection - request_for_service</td>\n      <td>2829 PIERCE ST, SAN FRANCISCO, CA, 94123</td>\n      <td>PIERCE ST</td>\n      <td>2</td>\n      <td>Cow Hollow</td>\n      <td>NORTHERN</td>\n      <td>37.796188354492</td>\n      <td>-122.438858032227</td>\n      <td>(37.79618835, -122.43885803)</td>\n      <td>Phone</td>\n      <td>NaN</td>\n      <td>14.0</td>\n      <td>4.0</td>\n      <td>6.0</td>\n      <td>13.0</td>\n      <td>1.0</td>\n      <td>13.0</td>\n      <td>6.0</td>\n      <td>57.0</td>\n      <td>9.0</td>\n      <td>17.0</td>\n      <td>17.0</td>\n      <td>NaN</td>\n      <td>14.0</td>\n      <td>NaN</td>\n      <td>6.0</td>\n      <td>NaN</td>\n      <td>NaN</td>\n      <td>NaN</td>\n      <td>NaN</td>\n      <td>NaN</td>\n      <td>NaN</td>\n      <td>1.0</td>\n      <td>NaN</td>\n      <td>NaN</td>\n      <td>NaN</td>\n      <td>NaN</td>\n      <td>14.0</td>\n    </tr>\n    <tr>\n      <th>13</th>\n      <td>568719</td>\n      <td>12/24/2009 02:45:59 PM</td>\n      <td>12/26/2009 01:16:31 PM</td>\n      <td>12/26/2009 01:16:31 PM</td>\n      <td>Closed</td>\n      <td>See Notes tab for more details</td>\n      <td>DPW Ops Queue</td>\n      <td>Graffiti</td>\n      <td>Graffiti on Pole</td>\n      <td>Pole - Offensive</td>\n      <td>Intersection of ASHBURY ST and WALLER ST</td>\n      <td>ASHBURY ST</td>\n      <td>5</td>\n      <td>Haight Ashbury</td>\n      <td>PARK</td>\n      <td>37.769073486328</td>\n      <td>-122.446746826172</td>\n      <td>(37.76907349, -122.44674683)</td>\n      <td>Web</td>\n      <td>NaN</td>\n      <td>25.0</td>\n      <td>7.0</td>\n      <td>11.0</td>\n      <td>3.0</td>\n      <td>11.0</td>\n      <td>15.0</td>\n      <td>8.0</td>\n      <td>29492.0</td>\n      <td>5.0</td>\n      <td>9.0</td>\n      <td>9.0</td>\n      <td>22.0</td>\n      <td>25.0</td>\n      <td>NaN</td>\n      <td>11.0</td>\n      <td>24.0</td>\n      <td>NaN</td>\n      <td>NaN</td>\n      <td>25.0</td>\n      <td>NaN</td>\n      <td>NaN</td>\n      <td>1.0</td>\n      <td>NaN</td>\n      <td>NaN</td>\n      <td>NaN</td>\n      <td>NaN</td>\n      <td>25.0</td>\n    </tr>\n    <tr>\n      <th>14</th>\n      <td>568664</td>\n      <td>12/24/2009 12:56:06 PM</td>\n      <td>12/29/2009 08:45:35 AM</td>\n      <td>12/29/2009 08:45:35 AM</td>\n      <td>Closed</td>\n      <td>Case Transferred - # 353761</td>\n      <td>MUNI Work Queue</td>\n      <td>MUNI Feedback</td>\n      <td>MUNI - Conduct_Inattentiveness_Negligence</td>\n      <td>213_General_Distraction_from_Duty</td>\n      <td>Not associated with a specific address</td>\n      <td>NaN</td>\n      <td>NaN</td>\n      <td>NaN</td>\n      <td>NaN</td>\n      <td>0</td>\n      <td>0</td>\n      <td>(0.0, 0.0)</td>\n      <td>Phone</td>\n      <td>NaN</td>\n      <td>NaN</td>\n      <td>NaN</td>\n      <td>NaN</td>\n      <td>NaN</td>\n      <td>NaN</td>\n      <td>NaN</td>\n      <td>NaN</td>\n      <td>NaN</td>\n      <td>NaN</td>\n      <td>NaN</td>\n      <td>NaN</td>\n      <td>NaN</td>\n      <td>NaN</td>\n      <td>NaN</td>\n      <td>NaN</td>\n      <td>NaN</td>\n      <td>NaN</td>\n      <td>NaN</td>\n      <td>NaN</td>\n      <td>NaN</td>\n      <td>NaN</td>\n      <td>NaN</td>\n      <td>NaN</td>\n      <td>NaN</td>\n      <td>NaN</td>\n      <td>NaN</td>\n      <td>NaN</td>\n    </tr>\n    <tr>\n      <th>15</th>\n      <td>Healthy Housing &amp; Vector Control Program</td>\n      <td>None</td>\n      <td>None</td>\n      <td>None</td>\n      <td>None</td>\n      <td>None</td>\n      <td>None</td>\n      <td>None</td>\n      <td>None</td>\n      <td>None</td>\n      <td>None</td>\n      <td>None</td>\n      <td>None</td>\n      <td>None</td>\n      <td>None</td>\n      <td>None</td>\n      <td>None</td>\n      <td>None</td>\n      <td>None</td>\n      <td>None</td>\n      <td>NaN</td>\n      <td>NaN</td>\n      <td>NaN</td>\n      <td>NaN</td>\n      <td>NaN</td>\n      <td>NaN</td>\n      <td>NaN</td>\n      <td>NaN</td>\n      <td>NaN</td>\n      <td>NaN</td>\n      <td>NaN</td>\n      <td>NaN</td>\n      <td>NaN</td>\n      <td>NaN</td>\n      <td>NaN</td>\n      <td>NaN</td>\n      <td>NaN</td>\n      <td>NaN</td>\n      <td>NaN</td>\n      <td>NaN</td>\n      <td>NaN</td>\n      <td>NaN</td>\n      <td>NaN</td>\n      <td>NaN</td>\n      <td>NaN</td>\n      <td>NaN</td>\n      <td>NaN</td>\n    </tr>\n    <tr>\n      <th>16</th>\n      <td>568103</td>\n      <td>12/23/2009 12:27:39 PM</td>\n      <td>12/26/2009 08:16:32 AM</td>\n      <td>12/26/2009 08:16:32 AM</td>\n      <td>Closed</td>\n      <td>See Notes tab for more details</td>\n      <td>DPW Ops Queue</td>\n      <td>Street and Sidewalk Cleaning</td>\n      <td>Overflowing_City_Receptacle_or_Dumpster</td>\n      <td>Overflowing_City_Receptacle_or_Dumpster</td>\n      <td>Intersection of VALLEJO ST and VAN NESS AVE</td>\n      <td>VALLEJO ST</td>\n      <td>3</td>\n      <td>Pacific Heights</td>\n      <td>NORTHERN</td>\n      <td>37.796691894531</td>\n      <td>-122.423599243164</td>\n      <td>(37.79669189, -122.42359924)</td>\n      <td>Web</td>\n      <td>NaN</td>\n      <td>105.0</td>\n      <td>4.0</td>\n      <td>3.0</td>\n      <td>32.0</td>\n      <td>10.0</td>\n      <td>13.0</td>\n      <td>6.0</td>\n      <td>28858.0</td>\n      <td>9.0</td>\n      <td>32.0</td>\n      <td>32.0</td>\n      <td>NaN</td>\n      <td>105.0</td>\n      <td>NaN</td>\n      <td>3.0</td>\n      <td>NaN</td>\n      <td>NaN</td>\n      <td>NaN</td>\n      <td>NaN</td>\n      <td>NaN</td>\n      <td>NaN</td>\n      <td>1.0</td>\n      <td>NaN</td>\n      <td>NaN</td>\n      <td>NaN</td>\n      <td>NaN</td>\n      <td>105.0</td>\n    </tr>\n    <tr>\n      <th>17</th>\n      <td>Shelter in place order\"</td>\n      <td>HSOC Queue</td>\n      <td>Encampments</td>\n      <td>Encampment Reports</td>\n      <td>Encampment Cleanup</td>\n      <td>Intersection of 3RD ST and BRYANT ST</td>\n      <td>3RD ST</td>\n      <td>6</td>\n      <td>South of Market</td>\n      <td>SOUTHERN</td>\n      <td>37.781343993577</td>\n      <td>-122.395716345428</td>\n      <td>(37.78134399, -122.39571635)</td>\n      <td>Mobile/Open311</td>\n      <td>http://mobile311.sfgov.org/reports/12306310/photos</td>\n      <td>31</td>\n      <td>1</td>\n      <td>10</td>\n      <td>8</td>\n      <td>9</td>\n      <td>6.0</td>\n      <td>2.0</td>\n      <td>28856.0</td>\n      <td>2.0</td>\n      <td>6.0</td>\n      <td>6.0</td>\n      <td>NaN</td>\n      <td>31.0</td>\n      <td>NaN</td>\n      <td>10.0</td>\n      <td>NaN</td>\n      <td>NaN</td>\n      <td>NaN</td>\n      <td>NaN</td>\n      <td>NaN</td>\n      <td>NaN</td>\n      <td>1.0</td>\n      <td>NaN</td>\n      <td>NaN</td>\n      <td>NaN</td>\n      <td>NaN</td>\n      <td>31.0</td>\n      <td>NaN</td>\n      <td>NaN</td>\n      <td>NaN</td>\n      <td>NaN</td>\n      <td>NaN</td>\n    </tr>\n    <tr>\n      <th>18</th>\n      <td>567701</td>\n      <td>12/22/2009 05:17:19 PM</td>\n      <td>12/29/2009 03:16:47 PM</td>\n      <td>12/29/2009 03:16:47 PM</td>\n      <td>Closed</td>\n      <td>See Notes tab for more details</td>\n      <td>DPW Ops Queue</td>\n      <td>Graffiti</td>\n      <td>Graffiti on Other_enter_additional_details_below</td>\n      <td>Other_enter_additional_details_below - Offensive</td>\n      <td>Intersection of CABRILLO ST and PARK PRESIDIO BLVD</td>\n      <td>CABRILLO ST</td>\n      <td>1</td>\n      <td>Inner Richmond</td>\n      <td>RICHMOND</td>\n      <td>37.775001525879</td>\n      <td>-122.471908569336</td>\n      <td>(37.77500153, -122.47190857)</td>\n      <td>Web</td>\n      <td>NaN</td>\n      <td>5.0</td>\n      <td>8.0</td>\n      <td>4.0</td>\n      <td>29.0</td>\n      <td>2.0</td>\n      <td>11.0</td>\n      <td>9.0</td>\n      <td>54.0</td>\n      <td>6.0</td>\n      <td>26.0</td>\n      <td>26.0</td>\n      <td>NaN</td>\n      <td>5.0</td>\n      <td>NaN</td>\n      <td>4.0</td>\n      <td>NaN</td>\n      <td>NaN</td>\n      <td>NaN</td>\n      <td>NaN</td>\n      <td>NaN</td>\n      <td>NaN</td>\n      <td>1.0</td>\n      <td>NaN</td>\n      <td>NaN</td>\n      <td>3.0</td>\n      <td>NaN</td>\n      <td>5.0</td>\n    </tr>\n    <tr>\n      <th>19</th>\n      <td>11915375</td>\n      <td>01/08/2020 08:43:00 AM</td>\n      <td>01/09/2020 11:29:00 AM</td>\n      <td>01/09/2020 11:29:00 AM</td>\n      <td>Closed</td>\n      <td>Case Resolved</td>\n      <td>DPW Ops Queue</td>\n      <td>Street and Sidewalk Cleaning</td>\n      <td>Human or Animal Waste</td>\n      <td>Human or Animal Waste</td>\n      <td>1332 HAIGHT ST, SAN FRANCISCO, CA, 94117</td>\n      <td>HAIGHT ST</td>\n      <td>5</td>\n      <td>Haight Ashbury</td>\n      <td>PARK</td>\n      <td>37.770440172788</td>\n      <td>-122.444195449733</td>\n      <td>(37.77044017, -122.44419545)</td>\n      <td>Mobile/Open311</td>\n      <td>http://mobile311.sfgov.org/reports/11915375/photos</td>\n      <td>25.0</td>\n      <td>7.0</td>\n      <td>11.0</td>\n      <td>3.0</td>\n      <td>11.0</td>\n      <td>15.0</td>\n      <td>8.0</td>\n      <td>29492.0</td>\n      <td>5.0</td>\n      <td>9.0</td>\n      <td>9.0</td>\n      <td>NaN</td>\n      <td>25.0</td>\n      <td>NaN</td>\n      <td>11.0</td>\n      <td>NaN</td>\n      <td>NaN</td>\n      <td>NaN</td>\n      <td>NaN</td>\n      <td>NaN</td>\n      <td>NaN</td>\n      <td>1.0</td>\n      <td>NaN</td>\n      <td>NaN</td>\n      <td>NaN</td>\n      <td>NaN</td>\n      <td>25.0</td>\n    </tr>\n  </tbody>\n</table>\n</div>"
     },
     "metadata": {},
     "execution_count": 182
    }
   ],
   "source": [
    "pd.options.display.max_colwidth = 100 \n",
    "funky = df['Opened'].str.contains('THE')\n",
    "funky.isnull().sum()\n",
    "\n",
    "nopen = df.Opened.isnull()\n",
    "df[nopen]\n",
    "df.head(20)\n"
   ]
  },
  {
   "cell_type": "code",
   "execution_count": 183,
   "metadata": {},
   "outputs": [
    {
     "output_type": "execute_result",
     "data": {
      "text/plain": "0          570729\n1          570341\n2          570337\n3          570026\n4          570009\n           ...   \n41679    11428789\n41680    11450562\n41681    11425262\n41682    11415892\n41683    11430206\nName: CaseID, Length: 41684, dtype: int64"
     },
     "metadata": {},
     "execution_count": 183
    }
   ],
   "source": [
    "df.CaseID.map(caseid_to_int)\n",
    "\n"
   ]
  }
 ],
 "metadata": {
  "kernelspec": {
   "display_name": "Python 3",
   "language": "python",
   "name": "python3"
  },
  "language_info": {
   "codemirror_mode": {
    "name": "ipython",
    "version": 3
   },
   "file_extension": ".py",
   "mimetype": "text/x-python",
   "name": "python",
   "nbconvert_exporter": "python",
   "pygments_lexer": "ipython3",
   "version": "3.7.4-final"
  }
 },
 "nbformat": 4,
 "nbformat_minor": 4
}